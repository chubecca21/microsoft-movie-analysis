{
 "cells": [
  {
   "cell_type": "markdown",
   "metadata": {},
   "source": [
    "![Director Shot](images/director_shot.jpeg)"
   ]
  },
  {
   "cell_type": "markdown",
   "metadata": {},
   "source": [
    "# Project Microsoft Movie Analysis\n",
    "\n",
    "**Author:** Rebecca Chu\n",
    "***"
   ]
  },
  {
   "cell_type": "markdown",
   "metadata": {
    "jp-MarkdownHeadingCollapsed": true
   },
   "source": [
    "## Overview\n",
    "\n",
    "Microsoft is creating a new movie studio and has requested an analysis into the types of films that are successful at the box office. I utilised data from three online movie databases, The Numbers, The Movie Database (TMDb), and IMDb, to examine which films were the most profitable and rated highly amongst audiences. My exploratory data analysis found that the higher the production budget was, the more global profit the movie pulled in, with high-budget films yielding the highest ROI. The data also showed that ROI was generally higher in the summer months of the Northern hemisphere and during holiday season, while movies within the Animation, Adventure, Fantasy and Family genres were the most successful. There appeared to be no relationship between average rating with profitability. Audiences also rated movies with a runtime of 150-180 minutes highly, although further analysis on the impact of runtimes on profitability is needed. \n"
   ]
  },
  {
   "cell_type": "markdown",
   "metadata": {},
   "source": [
    "## Business Problem\n",
    "\n",
    "Microsoft is looking to create a new movie studio that produces profitable original video content and would like to know the types of movies that are the most successful at the box office. Based on an exploratory data analysis, they are looking for actionable insights that can be implemented to create movies with the highest chance of commercial success and popularity.\n",
    "\n",
    "In this analysis, success was defined by the return on investment of a film in the context of the overall global profit of the film. I also looked at the average rating of a film to determine audience sentiment and popularity. My analysis aimed to answer the following data questions:\n",
    "\n",
    "* What is the relationship between production budget and global profit/ profitability?\n",
    "* Does release month have a relationship on ROI?\n",
    "* Are certain genres more profitable than other?\n",
    "* Is there a relationship between average rating and profitability?\n",
    "* What is the relationship between runtimes and average ratings?"
   ]
  },
  {
   "cell_type": "code",
   "execution_count": 1,
   "metadata": {},
   "outputs": [],
   "source": [
    "import pandas as pd\n",
    "import numpy as np\n",
    "import matplotlib.pyplot as plt\n",
    "import seaborn as sns\n",
    "\n",
    "%matplotlib inline"
   ]
  },
  {
   "cell_type": "markdown",
   "metadata": {},
   "source": [
    "## Data Understanding\n",
    "\n",
    "For this analysis, data was sourced from The Numbers, The Movie Database (TMDb), and IMDb, all of which are online database with extensive metadata for movies.\n",
    "\n",
    "#### The Numbers\n",
    "\n",
    "The Numbers data provided financial data for 5,782 movies and was used to determine the profitability of each movie. For this analysis, the target data was the production budget and the worldwide gross, which were used to calculate ROI. ROI was consequently used to assess whether a movie was considered a box office success."
   ]
  },
  {
   "cell_type": "code",
   "execution_count": 2,
   "metadata": {},
   "outputs": [
    {
     "data": {
      "text/html": [
       "<div>\n",
       "<style scoped>\n",
       "    .dataframe tbody tr th:only-of-type {\n",
       "        vertical-align: middle;\n",
       "    }\n",
       "\n",
       "    .dataframe tbody tr th {\n",
       "        vertical-align: top;\n",
       "    }\n",
       "\n",
       "    .dataframe thead th {\n",
       "        text-align: right;\n",
       "    }\n",
       "</style>\n",
       "<table border=\"1\" class=\"dataframe\">\n",
       "  <thead>\n",
       "    <tr style=\"text-align: right;\">\n",
       "      <th></th>\n",
       "      <th>id</th>\n",
       "      <th>release_date</th>\n",
       "      <th>movie</th>\n",
       "      <th>production_budget</th>\n",
       "      <th>domestic_gross</th>\n",
       "      <th>worldwide_gross</th>\n",
       "    </tr>\n",
       "  </thead>\n",
       "  <tbody>\n",
       "    <tr>\n",
       "      <th>0</th>\n",
       "      <td>1</td>\n",
       "      <td>Dec 18, 2009</td>\n",
       "      <td>Avatar</td>\n",
       "      <td>$425,000,000</td>\n",
       "      <td>$760,507,625</td>\n",
       "      <td>$2,776,345,279</td>\n",
       "    </tr>\n",
       "    <tr>\n",
       "      <th>1</th>\n",
       "      <td>2</td>\n",
       "      <td>May 20, 2011</td>\n",
       "      <td>Pirates of the Caribbean: On Stranger Tides</td>\n",
       "      <td>$410,600,000</td>\n",
       "      <td>$241,063,875</td>\n",
       "      <td>$1,045,663,875</td>\n",
       "    </tr>\n",
       "    <tr>\n",
       "      <th>2</th>\n",
       "      <td>3</td>\n",
       "      <td>Jun 7, 2019</td>\n",
       "      <td>Dark Phoenix</td>\n",
       "      <td>$350,000,000</td>\n",
       "      <td>$42,762,350</td>\n",
       "      <td>$149,762,350</td>\n",
       "    </tr>\n",
       "    <tr>\n",
       "      <th>3</th>\n",
       "      <td>4</td>\n",
       "      <td>May 1, 2015</td>\n",
       "      <td>Avengers: Age of Ultron</td>\n",
       "      <td>$330,600,000</td>\n",
       "      <td>$459,005,868</td>\n",
       "      <td>$1,403,013,963</td>\n",
       "    </tr>\n",
       "    <tr>\n",
       "      <th>4</th>\n",
       "      <td>5</td>\n",
       "      <td>Dec 15, 2017</td>\n",
       "      <td>Star Wars Ep. VIII: The Last Jedi</td>\n",
       "      <td>$317,000,000</td>\n",
       "      <td>$620,181,382</td>\n",
       "      <td>$1,316,721,747</td>\n",
       "    </tr>\n",
       "  </tbody>\n",
       "</table>\n",
       "</div>"
      ],
      "text/plain": [
       "   id  release_date                                        movie  \\\n",
       "0   1  Dec 18, 2009                                       Avatar   \n",
       "1   2  May 20, 2011  Pirates of the Caribbean: On Stranger Tides   \n",
       "2   3   Jun 7, 2019                                 Dark Phoenix   \n",
       "3   4   May 1, 2015                      Avengers: Age of Ultron   \n",
       "4   5  Dec 15, 2017            Star Wars Ep. VIII: The Last Jedi   \n",
       "\n",
       "  production_budget domestic_gross worldwide_gross  \n",
       "0      $425,000,000   $760,507,625  $2,776,345,279  \n",
       "1      $410,600,000   $241,063,875  $1,045,663,875  \n",
       "2      $350,000,000    $42,762,350    $149,762,350  \n",
       "3      $330,600,000   $459,005,868  $1,403,013,963  \n",
       "4      $317,000,000   $620,181,382  $1,316,721,747  "
      ]
     },
     "execution_count": 2,
     "metadata": {},
     "output_type": "execute_result"
    }
   ],
   "source": [
    "df1 = pd.read_csv('./zippedData/tn.movie_budgets.csv.gz')\n",
    "df1.head()"
   ]
  },
  {
   "cell_type": "markdown",
   "metadata": {},
   "source": [
    "#### TMDb\n",
    "\n",
    "TMDb is a community built movie and TV database and their dataset provides information regarding genre, release date, vote average, and lifetime popularity score, all of which are factors that may determine the success of a film. I joined this dataset to The Numbers dataset to analyse the relationship between genre, vote average and the release month with profitability/ ROI."
   ]
  },
  {
   "cell_type": "code",
   "execution_count": 3,
   "metadata": {},
   "outputs": [
    {
     "data": {
      "text/html": [
       "<div>\n",
       "<style scoped>\n",
       "    .dataframe tbody tr th:only-of-type {\n",
       "        vertical-align: middle;\n",
       "    }\n",
       "\n",
       "    .dataframe tbody tr th {\n",
       "        vertical-align: top;\n",
       "    }\n",
       "\n",
       "    .dataframe thead th {\n",
       "        text-align: right;\n",
       "    }\n",
       "</style>\n",
       "<table border=\"1\" class=\"dataframe\">\n",
       "  <thead>\n",
       "    <tr style=\"text-align: right;\">\n",
       "      <th></th>\n",
       "      <th>Unnamed: 0</th>\n",
       "      <th>genre_ids</th>\n",
       "      <th>id</th>\n",
       "      <th>original_language</th>\n",
       "      <th>original_title</th>\n",
       "      <th>popularity</th>\n",
       "      <th>release_date</th>\n",
       "      <th>title</th>\n",
       "      <th>vote_average</th>\n",
       "      <th>vote_count</th>\n",
       "    </tr>\n",
       "  </thead>\n",
       "  <tbody>\n",
       "    <tr>\n",
       "      <th>0</th>\n",
       "      <td>0</td>\n",
       "      <td>[12, 14, 10751]</td>\n",
       "      <td>12444</td>\n",
       "      <td>en</td>\n",
       "      <td>Harry Potter and the Deathly Hallows: Part 1</td>\n",
       "      <td>33.533</td>\n",
       "      <td>2010-11-19</td>\n",
       "      <td>Harry Potter and the Deathly Hallows: Part 1</td>\n",
       "      <td>7.7</td>\n",
       "      <td>10788</td>\n",
       "    </tr>\n",
       "    <tr>\n",
       "      <th>1</th>\n",
       "      <td>1</td>\n",
       "      <td>[14, 12, 16, 10751]</td>\n",
       "      <td>10191</td>\n",
       "      <td>en</td>\n",
       "      <td>How to Train Your Dragon</td>\n",
       "      <td>28.734</td>\n",
       "      <td>2010-03-26</td>\n",
       "      <td>How to Train Your Dragon</td>\n",
       "      <td>7.7</td>\n",
       "      <td>7610</td>\n",
       "    </tr>\n",
       "    <tr>\n",
       "      <th>2</th>\n",
       "      <td>2</td>\n",
       "      <td>[12, 28, 878]</td>\n",
       "      <td>10138</td>\n",
       "      <td>en</td>\n",
       "      <td>Iron Man 2</td>\n",
       "      <td>28.515</td>\n",
       "      <td>2010-05-07</td>\n",
       "      <td>Iron Man 2</td>\n",
       "      <td>6.8</td>\n",
       "      <td>12368</td>\n",
       "    </tr>\n",
       "    <tr>\n",
       "      <th>3</th>\n",
       "      <td>3</td>\n",
       "      <td>[16, 35, 10751]</td>\n",
       "      <td>862</td>\n",
       "      <td>en</td>\n",
       "      <td>Toy Story</td>\n",
       "      <td>28.005</td>\n",
       "      <td>1995-11-22</td>\n",
       "      <td>Toy Story</td>\n",
       "      <td>7.9</td>\n",
       "      <td>10174</td>\n",
       "    </tr>\n",
       "    <tr>\n",
       "      <th>4</th>\n",
       "      <td>4</td>\n",
       "      <td>[28, 878, 12]</td>\n",
       "      <td>27205</td>\n",
       "      <td>en</td>\n",
       "      <td>Inception</td>\n",
       "      <td>27.920</td>\n",
       "      <td>2010-07-16</td>\n",
       "      <td>Inception</td>\n",
       "      <td>8.3</td>\n",
       "      <td>22186</td>\n",
       "    </tr>\n",
       "  </tbody>\n",
       "</table>\n",
       "</div>"
      ],
      "text/plain": [
       "   Unnamed: 0            genre_ids     id original_language  \\\n",
       "0           0      [12, 14, 10751]  12444                en   \n",
       "1           1  [14, 12, 16, 10751]  10191                en   \n",
       "2           2        [12, 28, 878]  10138                en   \n",
       "3           3      [16, 35, 10751]    862                en   \n",
       "4           4        [28, 878, 12]  27205                en   \n",
       "\n",
       "                                 original_title  popularity release_date  \\\n",
       "0  Harry Potter and the Deathly Hallows: Part 1      33.533   2010-11-19   \n",
       "1                      How to Train Your Dragon      28.734   2010-03-26   \n",
       "2                                    Iron Man 2      28.515   2010-05-07   \n",
       "3                                     Toy Story      28.005   1995-11-22   \n",
       "4                                     Inception      27.920   2010-07-16   \n",
       "\n",
       "                                          title  vote_average  vote_count  \n",
       "0  Harry Potter and the Deathly Hallows: Part 1           7.7       10788  \n",
       "1                      How to Train Your Dragon           7.7        7610  \n",
       "2                                    Iron Man 2           6.8       12368  \n",
       "3                                     Toy Story           7.9       10174  \n",
       "4                                     Inception           8.3       22186  "
      ]
     },
     "execution_count": 3,
     "metadata": {},
     "output_type": "execute_result"
    }
   ],
   "source": [
    "df2 = pd.read_csv('./zippedData/tmdb.movies.csv.gz')\n",
    "df2.head()"
   ]
  },
  {
   "cell_type": "markdown",
   "metadata": {},
   "source": [
    "#### IMDb\n",
    "\n",
    "IMDb datasets are available online (https://developer.imdb.com/non-commercial-datasets/) and refreshed daily. So that I was working with the most recent data, I downloaded ```title.basics.tsv.gz``` and ```title.ratings.tsv.gz``` on the 7th of August 2023. These datasets were joined and used to provide an understanding of the relationship between audience ratings and runtimes.\n",
    "\n",
    "Only movies between 2009 and 2022 were analysed to ensure we were looking within a similar time period as The Numbers and TMDb datasets.\n",
    "\n",
    "Note: Given the exhaustive nature of ```title.basics.tsv.gz```, I dropped irrelevant information and created a new reduced csv file ```imdb_basics.aug23_reduced.csv.gz``` to work with. For more information please see the ```imdb_do_not_run``` notebook. The original dataset contained 10,058,021 entries, and the csv file I created contained 210,566 entries."
   ]
  },
  {
   "cell_type": "code",
   "execution_count": 4,
   "metadata": {},
   "outputs": [
    {
     "data": {
      "text/html": [
       "<div>\n",
       "<style scoped>\n",
       "    .dataframe tbody tr th:only-of-type {\n",
       "        vertical-align: middle;\n",
       "    }\n",
       "\n",
       "    .dataframe tbody tr th {\n",
       "        vertical-align: top;\n",
       "    }\n",
       "\n",
       "    .dataframe thead th {\n",
       "        text-align: right;\n",
       "    }\n",
       "</style>\n",
       "<table border=\"1\" class=\"dataframe\">\n",
       "  <thead>\n",
       "    <tr style=\"text-align: right;\">\n",
       "      <th></th>\n",
       "      <th>Unnamed: 0</th>\n",
       "      <th>tconst</th>\n",
       "      <th>titleType</th>\n",
       "      <th>primaryTitle</th>\n",
       "      <th>startYear</th>\n",
       "      <th>runtimeMinutes</th>\n",
       "      <th>genres</th>\n",
       "    </tr>\n",
       "  </thead>\n",
       "  <tbody>\n",
       "    <tr>\n",
       "      <th>0</th>\n",
       "      <td>0</td>\n",
       "      <td>tt0013274</td>\n",
       "      <td>movie</td>\n",
       "      <td>Istoriya grazhdanskoy voyny</td>\n",
       "      <td>2021</td>\n",
       "      <td>94</td>\n",
       "      <td>Documentary</td>\n",
       "    </tr>\n",
       "    <tr>\n",
       "      <th>1</th>\n",
       "      <td>1</td>\n",
       "      <td>tt0052434</td>\n",
       "      <td>movie</td>\n",
       "      <td>Tuppe tuppe, Marescià!</td>\n",
       "      <td>2023</td>\n",
       "      <td>95</td>\n",
       "      <td>Comedy</td>\n",
       "    </tr>\n",
       "    <tr>\n",
       "      <th>2</th>\n",
       "      <td>2</td>\n",
       "      <td>tt0062336</td>\n",
       "      <td>movie</td>\n",
       "      <td>The Tango of the Widower and Its Distorting Mi...</td>\n",
       "      <td>2020</td>\n",
       "      <td>70</td>\n",
       "      <td>Drama</td>\n",
       "    </tr>\n",
       "    <tr>\n",
       "      <th>3</th>\n",
       "      <td>3</td>\n",
       "      <td>tt0068865</td>\n",
       "      <td>movie</td>\n",
       "      <td>Lives of Performers</td>\n",
       "      <td>2016</td>\n",
       "      <td>90</td>\n",
       "      <td>Drama</td>\n",
       "    </tr>\n",
       "    <tr>\n",
       "      <th>4</th>\n",
       "      <td>4</td>\n",
       "      <td>tt0069049</td>\n",
       "      <td>movie</td>\n",
       "      <td>The Other Side of the Wind</td>\n",
       "      <td>2018</td>\n",
       "      <td>122</td>\n",
       "      <td>Drama</td>\n",
       "    </tr>\n",
       "  </tbody>\n",
       "</table>\n",
       "</div>"
      ],
      "text/plain": [
       "   Unnamed: 0     tconst titleType  \\\n",
       "0           0  tt0013274     movie   \n",
       "1           1  tt0052434     movie   \n",
       "2           2  tt0062336     movie   \n",
       "3           3  tt0068865     movie   \n",
       "4           4  tt0069049     movie   \n",
       "\n",
       "                                        primaryTitle  startYear  \\\n",
       "0                        Istoriya grazhdanskoy voyny       2021   \n",
       "1                             Tuppe tuppe, Marescià!       2023   \n",
       "2  The Tango of the Widower and Its Distorting Mi...       2020   \n",
       "3                                Lives of Performers       2016   \n",
       "4                         The Other Side of the Wind       2018   \n",
       "\n",
       "   runtimeMinutes       genres  \n",
       "0              94  Documentary  \n",
       "1              95       Comedy  \n",
       "2              70        Drama  \n",
       "3              90        Drama  \n",
       "4             122        Drama  "
      ]
     },
     "execution_count": 4,
     "metadata": {},
     "output_type": "execute_result"
    }
   ],
   "source": [
    "df3 = pd.read_csv('./zippedData/imdb_basics.aug23_reduced.csv.gz')\n",
    "df3.head()"
   ]
  },
  {
   "cell_type": "code",
   "execution_count": 5,
   "metadata": {},
   "outputs": [
    {
     "data": {
      "text/html": [
       "<div>\n",
       "<style scoped>\n",
       "    .dataframe tbody tr th:only-of-type {\n",
       "        vertical-align: middle;\n",
       "    }\n",
       "\n",
       "    .dataframe tbody tr th {\n",
       "        vertical-align: top;\n",
       "    }\n",
       "\n",
       "    .dataframe thead th {\n",
       "        text-align: right;\n",
       "    }\n",
       "</style>\n",
       "<table border=\"1\" class=\"dataframe\">\n",
       "  <thead>\n",
       "    <tr style=\"text-align: right;\">\n",
       "      <th></th>\n",
       "      <th>tconst</th>\n",
       "      <th>averageRating</th>\n",
       "      <th>numVotes</th>\n",
       "    </tr>\n",
       "  </thead>\n",
       "  <tbody>\n",
       "    <tr>\n",
       "      <th>0</th>\n",
       "      <td>tt0000001</td>\n",
       "      <td>5.7</td>\n",
       "      <td>1990</td>\n",
       "    </tr>\n",
       "    <tr>\n",
       "      <th>1</th>\n",
       "      <td>tt0000002</td>\n",
       "      <td>5.8</td>\n",
       "      <td>265</td>\n",
       "    </tr>\n",
       "    <tr>\n",
       "      <th>2</th>\n",
       "      <td>tt0000003</td>\n",
       "      <td>6.5</td>\n",
       "      <td>1854</td>\n",
       "    </tr>\n",
       "    <tr>\n",
       "      <th>3</th>\n",
       "      <td>tt0000004</td>\n",
       "      <td>5.5</td>\n",
       "      <td>178</td>\n",
       "    </tr>\n",
       "    <tr>\n",
       "      <th>4</th>\n",
       "      <td>tt0000005</td>\n",
       "      <td>6.2</td>\n",
       "      <td>2640</td>\n",
       "    </tr>\n",
       "  </tbody>\n",
       "</table>\n",
       "</div>"
      ],
      "text/plain": [
       "      tconst  averageRating  numVotes\n",
       "0  tt0000001            5.7      1990\n",
       "1  tt0000002            5.8       265\n",
       "2  tt0000003            6.5      1854\n",
       "3  tt0000004            5.5       178\n",
       "4  tt0000005            6.2      2640"
      ]
     },
     "execution_count": 5,
     "metadata": {},
     "output_type": "execute_result"
    }
   ],
   "source": [
    "df4 = pd.read_csv('./zippedData/title.ratings.aug23.tsv.gz', sep='\\t')\n",
    "df4.head()"
   ]
  },
  {
   "cell_type": "markdown",
   "metadata": {},
   "source": [
    "## Data Preparation\n",
    "\n",
    "### 1. The Numbers dataset\n",
    "#### 1.1. Data Cleaning\n",
    "**Cleaning and converting datatypes of columns**\n",
    "\n",
    "For this analysis, I focused on films that appealed to an international market and therefore focused on ```worldwide_gross``` rather than ```domestic_gross``` to measure success. I also dropped ```id``` as it was a unique identifier for The Numbers database and not relevant within this analysis.\n",
    "\n",
    "I updated the column name ```movie``` to ```movie_title```, which will be the standardised column name for film titles used across all dataframes."
   ]
  },
  {
   "cell_type": "code",
   "execution_count": 6,
   "metadata": {},
   "outputs": [],
   "source": [
    "# dropping irrelevant columns\n",
    "df1.drop(['id', 'domestic_gross'], axis=1, inplace=True)\n",
    "\n",
    "# renaming the movie column name\n",
    "df1.rename(columns={'movie':'movie_title'}, inplace=True)"
   ]
  },
  {
   "cell_type": "code",
   "execution_count": 7,
   "metadata": {},
   "outputs": [
    {
     "name": "stdout",
     "output_type": "stream",
     "text": [
      "<class 'pandas.core.frame.DataFrame'>\n",
      "RangeIndex: 5782 entries, 0 to 5781\n",
      "Data columns (total 4 columns):\n",
      " #   Column             Non-Null Count  Dtype \n",
      "---  ------             --------------  ----- \n",
      " 0   release_date       5782 non-null   object\n",
      " 1   movie_title        5782 non-null   object\n",
      " 2   production_budget  5782 non-null   object\n",
      " 3   worldwide_gross    5782 non-null   object\n",
      "dtypes: object(4)\n",
      "memory usage: 180.8+ KB\n"
     ]
    }
   ],
   "source": [
    "# printing the information for the datatframe\n",
    "df1.info()"
   ]
  },
  {
   "cell_type": "markdown",
   "metadata": {},
   "source": [
    "We can see that ```production budget``` and ```worldwide_gross``` currently exist as object datatypes and need to be converted to integers. Below, I have defined a function to convert objects to int64 datatypes and applied this function to both columns."
   ]
  },
  {
   "cell_type": "code",
   "execution_count": 8,
   "metadata": {},
   "outputs": [],
   "source": [
    "# define function to convert object datatype to int64\n",
    "def convert_to_int(val):\n",
    "    \"\"\"\n",
    "    Removes special characters \",\" and \"$\" from string and converts datatype to int64.\n",
    "    \"\"\"\n",
    "    df1[val] = df1[val].map(lambda x: x.replace(',',''))\n",
    "    df1[val] = df1[val].map(lambda x: x.strip('$'))\n",
    "    df1[val] = df1[val].astype('int64')\n",
    "\n",
    "# apply function to production_budget and worldwide_gross\n",
    "convert_to_int('production_budget')\n",
    "convert_to_int('worldwide_gross')"
   ]
  },
  {
   "cell_type": "markdown",
   "metadata": {},
   "source": [
    "Release date was converted to datetime so that we could analyse and group data by release month."
   ]
  },
  {
   "cell_type": "code",
   "execution_count": 9,
   "metadata": {},
   "outputs": [],
   "source": [
    "df1.release_date = pd.to_datetime(df1.release_date)"
   ]
  },
  {
   "cell_type": "markdown",
   "metadata": {},
   "source": [
    "Now that our data has been reformatted, I looked at the descriptive statistics to review the data available to me."
   ]
  },
  {
   "cell_type": "code",
   "execution_count": 10,
   "metadata": {},
   "outputs": [
    {
     "data": {
      "text/html": [
       "<div>\n",
       "<style scoped>\n",
       "    .dataframe tbody tr th:only-of-type {\n",
       "        vertical-align: middle;\n",
       "    }\n",
       "\n",
       "    .dataframe tbody tr th {\n",
       "        vertical-align: top;\n",
       "    }\n",
       "\n",
       "    .dataframe thead th {\n",
       "        text-align: right;\n",
       "    }\n",
       "</style>\n",
       "<table border=\"1\" class=\"dataframe\">\n",
       "  <thead>\n",
       "    <tr style=\"text-align: right;\">\n",
       "      <th></th>\n",
       "      <th>release_date</th>\n",
       "      <th>production_budget</th>\n",
       "      <th>worldwide_gross</th>\n",
       "    </tr>\n",
       "  </thead>\n",
       "  <tbody>\n",
       "    <tr>\n",
       "      <th>count</th>\n",
       "      <td>5782.00</td>\n",
       "      <td>5782.00</td>\n",
       "      <td>5782.00</td>\n",
       "    </tr>\n",
       "    <tr>\n",
       "      <th>mean</th>\n",
       "      <td>.2f</td>\n",
       "      <td>31587757.10</td>\n",
       "      <td>91487460.91</td>\n",
       "    </tr>\n",
       "    <tr>\n",
       "      <th>min</th>\n",
       "      <td>.2f</td>\n",
       "      <td>1100.00</td>\n",
       "      <td>0.00</td>\n",
       "    </tr>\n",
       "    <tr>\n",
       "      <th>25%</th>\n",
       "      <td>.2f</td>\n",
       "      <td>5000000.00</td>\n",
       "      <td>4125414.75</td>\n",
       "    </tr>\n",
       "    <tr>\n",
       "      <th>50%</th>\n",
       "      <td>.2f</td>\n",
       "      <td>17000000.00</td>\n",
       "      <td>27984448.50</td>\n",
       "    </tr>\n",
       "    <tr>\n",
       "      <th>75%</th>\n",
       "      <td>.2f</td>\n",
       "      <td>40000000.00</td>\n",
       "      <td>97645836.50</td>\n",
       "    </tr>\n",
       "    <tr>\n",
       "      <th>max</th>\n",
       "      <td>.2f</td>\n",
       "      <td>425000000.00</td>\n",
       "      <td>2776345279.00</td>\n",
       "    </tr>\n",
       "    <tr>\n",
       "      <th>std</th>\n",
       "      <td>nan</td>\n",
       "      <td>41812076.83</td>\n",
       "      <td>174719968.78</td>\n",
       "    </tr>\n",
       "  </tbody>\n",
       "</table>\n",
       "</div>"
      ],
      "text/plain": [
       "      release_date production_budget worldwide_gross\n",
       "count      5782.00           5782.00         5782.00\n",
       "mean           .2f       31587757.10     91487460.91\n",
       "min            .2f           1100.00            0.00\n",
       "25%            .2f        5000000.00      4125414.75\n",
       "50%            .2f       17000000.00     27984448.50\n",
       "75%            .2f       40000000.00     97645836.50\n",
       "max            .2f      425000000.00   2776345279.00\n",
       "std            nan       41812076.83    174719968.78"
      ]
     },
     "execution_count": 10,
     "metadata": {},
     "output_type": "execute_result"
    }
   ],
   "source": [
    "# printing descriptive statistics to two decimal places\n",
    "df1.describe().apply(lambda x: x.apply('{0:.2f}'.format))"
   ]
  },
  {
   "cell_type": "markdown",
   "metadata": {},
   "source": [
    "We can see that the minimum value for ```worldwide_gross``` was 0. It seems highly improbable that a movie would not have grossed any amount so we will treat this as missing data and remove them from our dataframe."
   ]
  },
  {
   "cell_type": "code",
   "execution_count": 11,
   "metadata": {},
   "outputs": [],
   "source": [
    "# assigning the index of all rows where worldwide_gross equals 0 to missing_worldwide_gross\n",
    "missing_worldwide_gross = df1[df1.worldwide_gross == 0].index\n",
    "\n",
    "# removing missing_worldwide_gross from df1\n",
    "df1.drop(missing_worldwide_gross, inplace=True)"
   ]
  },
  {
   "cell_type": "markdown",
   "metadata": {},
   "source": [
    "As ```release_date``` could not be rounded to two decimal places, we will view its descriptive statistics separately."
   ]
  },
  {
   "cell_type": "code",
   "execution_count": 12,
   "metadata": {},
   "outputs": [
    {
     "data": {
      "text/plain": [
       "count                             5415\n",
       "mean     2004-02-20 12:26:11.634349056\n",
       "min                1915-02-08 00:00:00\n",
       "25%                1999-12-13 12:00:00\n",
       "50%                2006-08-11 00:00:00\n",
       "75%                2012-05-18 00:00:00\n",
       "max                2019-06-21 00:00:00\n",
       "Name: release_date, dtype: object"
      ]
     },
     "execution_count": 12,
     "metadata": {},
     "output_type": "execute_result"
    }
   ],
   "source": [
    "# printing .describe() for release_date\n",
    "df1.release_date.describe()"
   ]
  },
  {
   "cell_type": "markdown",
   "metadata": {},
   "source": [
    "We can see that the earliest film was released in 1915, while the most recent was released in 2019. Given that market behaviour would have evolved over the last century, we will be looking at only the last decade (2009-2019) of films available to us. "
   ]
  },
  {
   "cell_type": "code",
   "execution_count": 13,
   "metadata": {},
   "outputs": [],
   "source": [
    "# removing all films earlier than 2009\n",
    "df1 = df1[df1.release_date.dt.strftime('%Y') > '2008'].reset_index(drop=True)"
   ]
  },
  {
   "cell_type": "markdown",
   "metadata": {},
   "source": [
    "We will now review for any duplicate movies within the data. To ensure that all movies follow the same capitalisation convention, I will standardise the title name using ```.title()```."
   ]
  },
  {
   "cell_type": "code",
   "execution_count": 14,
   "metadata": {},
   "outputs": [],
   "source": [
    "# iterate through each movie title to ensure all names follow the same capitalisation \n",
    "df1.movie_title = df1.movie_title.map(lambda x: x.title())"
   ]
  },
  {
   "cell_type": "code",
   "execution_count": 15,
   "metadata": {},
   "outputs": [
    {
     "data": {
      "text/html": [
       "<div>\n",
       "<style scoped>\n",
       "    .dataframe tbody tr th:only-of-type {\n",
       "        vertical-align: middle;\n",
       "    }\n",
       "\n",
       "    .dataframe tbody tr th {\n",
       "        vertical-align: top;\n",
       "    }\n",
       "\n",
       "    .dataframe thead th {\n",
       "        text-align: right;\n",
       "    }\n",
       "</style>\n",
       "<table border=\"1\" class=\"dataframe\">\n",
       "  <thead>\n",
       "    <tr style=\"text-align: right;\">\n",
       "      <th></th>\n",
       "      <th>release_date</th>\n",
       "      <th>movie_title</th>\n",
       "      <th>production_budget</th>\n",
       "      <th>worldwide_gross</th>\n",
       "    </tr>\n",
       "  </thead>\n",
       "  <tbody>\n",
       "    <tr>\n",
       "      <th>268</th>\n",
       "      <td>2018-11-21</td>\n",
       "      <td>Robin Hood</td>\n",
       "      <td>99000000</td>\n",
       "      <td>84747441</td>\n",
       "    </tr>\n",
       "    <tr>\n",
       "      <th>1329</th>\n",
       "      <td>2015-08-14</td>\n",
       "      <td>Brothers</td>\n",
       "      <td>13000000</td>\n",
       "      <td>17856688</td>\n",
       "    </tr>\n",
       "    <tr>\n",
       "      <th>1960</th>\n",
       "      <td>2013-10-25</td>\n",
       "      <td>The Square</td>\n",
       "      <td>1500000</td>\n",
       "      <td>176262</td>\n",
       "    </tr>\n",
       "    <tr>\n",
       "      <th>2077</th>\n",
       "      <td>2009-04-23</td>\n",
       "      <td>Home</td>\n",
       "      <td>500000</td>\n",
       "      <td>44793168</td>\n",
       "    </tr>\n",
       "  </tbody>\n",
       "</table>\n",
       "</div>"
      ],
      "text/plain": [
       "     release_date movie_title  production_budget  worldwide_gross\n",
       "268    2018-11-21  Robin Hood           99000000         84747441\n",
       "1329   2015-08-14    Brothers           13000000         17856688\n",
       "1960   2013-10-25  The Square            1500000           176262\n",
       "2077   2009-04-23        Home             500000         44793168"
      ]
     },
     "execution_count": 15,
     "metadata": {},
     "output_type": "execute_result"
    }
   ],
   "source": [
    "# checking for dupliates in movies\n",
    "df1[df1.movie_title.duplicated()]"
   ]
  },
  {
   "cell_type": "markdown",
   "metadata": {},
   "source": [
    "As there are only four duplicates, we will review each one."
   ]
  },
  {
   "cell_type": "code",
   "execution_count": 16,
   "metadata": {},
   "outputs": [
    {
     "data": {
      "text/html": [
       "<div>\n",
       "<style scoped>\n",
       "    .dataframe tbody tr th:only-of-type {\n",
       "        vertical-align: middle;\n",
       "    }\n",
       "\n",
       "    .dataframe tbody tr th {\n",
       "        vertical-align: top;\n",
       "    }\n",
       "\n",
       "    .dataframe thead th {\n",
       "        text-align: right;\n",
       "    }\n",
       "</style>\n",
       "<table border=\"1\" class=\"dataframe\">\n",
       "  <thead>\n",
       "    <tr style=\"text-align: right;\">\n",
       "      <th></th>\n",
       "      <th>release_date</th>\n",
       "      <th>movie_title</th>\n",
       "      <th>production_budget</th>\n",
       "      <th>worldwide_gross</th>\n",
       "    </tr>\n",
       "  </thead>\n",
       "  <tbody>\n",
       "    <tr>\n",
       "      <th>31</th>\n",
       "      <td>2010-05-14</td>\n",
       "      <td>Robin Hood</td>\n",
       "      <td>210000000</td>\n",
       "      <td>322459006</td>\n",
       "    </tr>\n",
       "    <tr>\n",
       "      <th>268</th>\n",
       "      <td>2018-11-21</td>\n",
       "      <td>Robin Hood</td>\n",
       "      <td>99000000</td>\n",
       "      <td>84747441</td>\n",
       "    </tr>\n",
       "  </tbody>\n",
       "</table>\n",
       "</div>"
      ],
      "text/plain": [
       "    release_date movie_title  production_budget  worldwide_gross\n",
       "31    2010-05-14  Robin Hood          210000000        322459006\n",
       "268   2018-11-21  Robin Hood           99000000         84747441"
      ]
     },
     "execution_count": 16,
     "metadata": {},
     "output_type": "execute_result"
    }
   ],
   "source": [
    "df1[df1.movie_title == 'Robin Hood']"
   ]
  },
  {
   "cell_type": "code",
   "execution_count": 17,
   "metadata": {},
   "outputs": [
    {
     "data": {
      "text/html": [
       "<div>\n",
       "<style scoped>\n",
       "    .dataframe tbody tr th:only-of-type {\n",
       "        vertical-align: middle;\n",
       "    }\n",
       "\n",
       "    .dataframe tbody tr th {\n",
       "        vertical-align: top;\n",
       "    }\n",
       "\n",
       "    .dataframe thead th {\n",
       "        text-align: right;\n",
       "    }\n",
       "</style>\n",
       "<table border=\"1\" class=\"dataframe\">\n",
       "  <thead>\n",
       "    <tr style=\"text-align: right;\">\n",
       "      <th></th>\n",
       "      <th>release_date</th>\n",
       "      <th>movie_title</th>\n",
       "      <th>production_budget</th>\n",
       "      <th>worldwide_gross</th>\n",
       "    </tr>\n",
       "  </thead>\n",
       "  <tbody>\n",
       "    <tr>\n",
       "      <th>907</th>\n",
       "      <td>2009-12-04</td>\n",
       "      <td>Brothers</td>\n",
       "      <td>26000000</td>\n",
       "      <td>45043870</td>\n",
       "    </tr>\n",
       "    <tr>\n",
       "      <th>1329</th>\n",
       "      <td>2015-08-14</td>\n",
       "      <td>Brothers</td>\n",
       "      <td>13000000</td>\n",
       "      <td>17856688</td>\n",
       "    </tr>\n",
       "  </tbody>\n",
       "</table>\n",
       "</div>"
      ],
      "text/plain": [
       "     release_date movie_title  production_budget  worldwide_gross\n",
       "907    2009-12-04    Brothers           26000000         45043870\n",
       "1329   2015-08-14    Brothers           13000000         17856688"
      ]
     },
     "execution_count": 17,
     "metadata": {},
     "output_type": "execute_result"
    }
   ],
   "source": [
    "df1[df1.movie_title == 'Brothers']"
   ]
  },
  {
   "cell_type": "code",
   "execution_count": 18,
   "metadata": {},
   "outputs": [
    {
     "data": {
      "text/html": [
       "<div>\n",
       "<style scoped>\n",
       "    .dataframe tbody tr th:only-of-type {\n",
       "        vertical-align: middle;\n",
       "    }\n",
       "\n",
       "    .dataframe tbody tr th {\n",
       "        vertical-align: top;\n",
       "    }\n",
       "\n",
       "    .dataframe thead th {\n",
       "        text-align: right;\n",
       "    }\n",
       "</style>\n",
       "<table border=\"1\" class=\"dataframe\">\n",
       "  <thead>\n",
       "    <tr style=\"text-align: right;\">\n",
       "      <th></th>\n",
       "      <th>release_date</th>\n",
       "      <th>movie_title</th>\n",
       "      <th>production_budget</th>\n",
       "      <th>worldwide_gross</th>\n",
       "    </tr>\n",
       "  </thead>\n",
       "  <tbody>\n",
       "    <tr>\n",
       "      <th>1933</th>\n",
       "      <td>2010-04-09</td>\n",
       "      <td>The Square</td>\n",
       "      <td>1900000</td>\n",
       "      <td>740932</td>\n",
       "    </tr>\n",
       "    <tr>\n",
       "      <th>1960</th>\n",
       "      <td>2013-10-25</td>\n",
       "      <td>The Square</td>\n",
       "      <td>1500000</td>\n",
       "      <td>176262</td>\n",
       "    </tr>\n",
       "  </tbody>\n",
       "</table>\n",
       "</div>"
      ],
      "text/plain": [
       "     release_date movie_title  production_budget  worldwide_gross\n",
       "1933   2010-04-09  The Square            1900000           740932\n",
       "1960   2013-10-25  The Square            1500000           176262"
      ]
     },
     "execution_count": 18,
     "metadata": {},
     "output_type": "execute_result"
    }
   ],
   "source": [
    "df1[df1.movie_title == 'The Square']"
   ]
  },
  {
   "cell_type": "code",
   "execution_count": 19,
   "metadata": {},
   "outputs": [
    {
     "data": {
      "text/html": [
       "<div>\n",
       "<style scoped>\n",
       "    .dataframe tbody tr th:only-of-type {\n",
       "        vertical-align: middle;\n",
       "    }\n",
       "\n",
       "    .dataframe tbody tr th {\n",
       "        vertical-align: top;\n",
       "    }\n",
       "\n",
       "    .dataframe thead th {\n",
       "        text-align: right;\n",
       "    }\n",
       "</style>\n",
       "<table border=\"1\" class=\"dataframe\">\n",
       "  <thead>\n",
       "    <tr style=\"text-align: right;\">\n",
       "      <th></th>\n",
       "      <th>release_date</th>\n",
       "      <th>movie_title</th>\n",
       "      <th>production_budget</th>\n",
       "      <th>worldwide_gross</th>\n",
       "    </tr>\n",
       "  </thead>\n",
       "  <tbody>\n",
       "    <tr>\n",
       "      <th>174</th>\n",
       "      <td>2015-03-27</td>\n",
       "      <td>Home</td>\n",
       "      <td>130000000</td>\n",
       "      <td>385997896</td>\n",
       "    </tr>\n",
       "    <tr>\n",
       "      <th>2077</th>\n",
       "      <td>2009-04-23</td>\n",
       "      <td>Home</td>\n",
       "      <td>500000</td>\n",
       "      <td>44793168</td>\n",
       "    </tr>\n",
       "  </tbody>\n",
       "</table>\n",
       "</div>"
      ],
      "text/plain": [
       "     release_date movie_title  production_budget  worldwide_gross\n",
       "174    2015-03-27        Home          130000000        385997896\n",
       "2077   2009-04-23        Home             500000         44793168"
      ]
     },
     "execution_count": 19,
     "metadata": {},
     "output_type": "execute_result"
    }
   ],
   "source": [
    "df1[df1.movie_title == 'Home']"
   ]
  },
  {
   "cell_type": "markdown",
   "metadata": {},
   "source": [
    "Based on their release dates, we can see all eight movies are legitimate entries and are different movies with the same names. So that we can distinguish between these movies, I have appended the release year to the end of each ```movie_title```."
   ]
  },
  {
   "cell_type": "code",
   "execution_count": 20,
   "metadata": {},
   "outputs": [],
   "source": [
    "# creating an empty list for the new movie titles with release year\n",
    "movie_title_year_df1 = []\n",
    "\n",
    "# iterating through each title and appending their release year to the string\n",
    "for i in range(len(df1.movie_title)):\n",
    "    movie_title_year_df1.append(f'{df1.movie_title[i]} ({df1.release_date.dt.year[i]})')\n",
    "\n",
    "# replacing the existing movie_titles with the \n",
    "df1['movie_title'] = movie_title_year_df1"
   ]
  },
  {
   "cell_type": "markdown",
   "metadata": {},
   "source": [
    "#### 1.2. Feature Engineering\n",
    "**Creating new columns for analysis**\n",
    "\n",
    "We will be assessing the profitability of a film via ROI, which will be determined as global profit divided by the production cost, mutiplied by 100. For readability, we will be converting all financial data to millions."
   ]
  },
  {
   "cell_type": "code",
   "execution_count": 21,
   "metadata": {},
   "outputs": [],
   "source": [
    "# converting financial data to millions for readability\n",
    "df1['production_budget_mil'] = df1.production_budget/1000000\n",
    "df1['worldwide_gross_mil'] = df1.worldwide_gross/1000000\n",
    "\n",
    "# dropping original production_budget and worldwide_gross columns to keep table succinct\n",
    "df1.drop(['production_budget', 'worldwide_gross'], axis=1, inplace=True)\n",
    "\n",
    "# creating a new column with global profit\n",
    "df1['global_profit_mil'] = df1['worldwide_gross_mil'] - df1['production_budget_mil']\n",
    "\n",
    "# creating a new column with ROI\n",
    "df1['roi'] = (df1.global_profit_mil/df1.production_budget_mil)*100"
   ]
  },
  {
   "cell_type": "markdown",
   "metadata": {},
   "source": [
    "Given the large range of budgets, we will be categorising the budgets into three tiers: low, mid-level and high. I have used StudioBinder's defintions: \n",
    "\n",
    "* Low-budget: < 5 million USD\n",
    "* Mid-level: between 5 to 50 million\n",
    "* High-end: over 50 million\n",
    "\n",
    "Reference: StudioBinder, accessed on 12 August 2023, <https://www.studiobinder.com/blog/production-budget/>."
   ]
  },
  {
   "cell_type": "code",
   "execution_count": 22,
   "metadata": {},
   "outputs": [],
   "source": [
    "# creating a new column with binned budgets\n",
    "df1['production_budget_tier'] = pd.cut(df1['production_budget_mil'], bins=[0, 5, 50, np.inf], labels=['Low', 'Medium', 'High'])"
   ]
  },
  {
   "cell_type": "code",
   "execution_count": 23,
   "metadata": {},
   "outputs": [
    {
     "data": {
      "text/html": [
       "<div>\n",
       "<style scoped>\n",
       "    .dataframe tbody tr th:only-of-type {\n",
       "        vertical-align: middle;\n",
       "    }\n",
       "\n",
       "    .dataframe tbody tr th {\n",
       "        vertical-align: top;\n",
       "    }\n",
       "\n",
       "    .dataframe thead th {\n",
       "        text-align: right;\n",
       "    }\n",
       "</style>\n",
       "<table border=\"1\" class=\"dataframe\">\n",
       "  <thead>\n",
       "    <tr style=\"text-align: right;\">\n",
       "      <th></th>\n",
       "      <th>release_date</th>\n",
       "      <th>movie_title</th>\n",
       "      <th>production_budget_mil</th>\n",
       "      <th>worldwide_gross_mil</th>\n",
       "      <th>global_profit_mil</th>\n",
       "      <th>roi</th>\n",
       "      <th>production_budget_tier</th>\n",
       "    </tr>\n",
       "  </thead>\n",
       "  <tbody>\n",
       "    <tr>\n",
       "      <th>0</th>\n",
       "      <td>2009-12-18</td>\n",
       "      <td>Avatar (2009)</td>\n",
       "      <td>425.0</td>\n",
       "      <td>2776.345279</td>\n",
       "      <td>2351.345279</td>\n",
       "      <td>553.257713</td>\n",
       "      <td>High</td>\n",
       "    </tr>\n",
       "    <tr>\n",
       "      <th>1</th>\n",
       "      <td>2011-05-20</td>\n",
       "      <td>Pirates Of The Caribbean: On Stranger Tides (2...</td>\n",
       "      <td>410.6</td>\n",
       "      <td>1045.663875</td>\n",
       "      <td>635.063875</td>\n",
       "      <td>154.667286</td>\n",
       "      <td>High</td>\n",
       "    </tr>\n",
       "    <tr>\n",
       "      <th>2</th>\n",
       "      <td>2019-06-07</td>\n",
       "      <td>Dark Phoenix (2019)</td>\n",
       "      <td>350.0</td>\n",
       "      <td>149.762350</td>\n",
       "      <td>-200.237650</td>\n",
       "      <td>-57.210757</td>\n",
       "      <td>High</td>\n",
       "    </tr>\n",
       "    <tr>\n",
       "      <th>3</th>\n",
       "      <td>2015-05-01</td>\n",
       "      <td>Avengers: Age Of Ultron (2015)</td>\n",
       "      <td>330.6</td>\n",
       "      <td>1403.013963</td>\n",
       "      <td>1072.413963</td>\n",
       "      <td>324.384139</td>\n",
       "      <td>High</td>\n",
       "    </tr>\n",
       "    <tr>\n",
       "      <th>4</th>\n",
       "      <td>2017-12-15</td>\n",
       "      <td>Star Wars Ep. Viii: The Last Jedi (2017)</td>\n",
       "      <td>317.0</td>\n",
       "      <td>1316.721747</td>\n",
       "      <td>999.721747</td>\n",
       "      <td>315.369636</td>\n",
       "      <td>High</td>\n",
       "    </tr>\n",
       "  </tbody>\n",
       "</table>\n",
       "</div>"
      ],
      "text/plain": [
       "  release_date                                        movie_title  \\\n",
       "0   2009-12-18                                      Avatar (2009)   \n",
       "1   2011-05-20  Pirates Of The Caribbean: On Stranger Tides (2...   \n",
       "2   2019-06-07                                Dark Phoenix (2019)   \n",
       "3   2015-05-01                     Avengers: Age Of Ultron (2015)   \n",
       "4   2017-12-15           Star Wars Ep. Viii: The Last Jedi (2017)   \n",
       "\n",
       "   production_budget_mil  worldwide_gross_mil  global_profit_mil         roi  \\\n",
       "0                  425.0          2776.345279        2351.345279  553.257713   \n",
       "1                  410.6          1045.663875         635.063875  154.667286   \n",
       "2                  350.0           149.762350        -200.237650  -57.210757   \n",
       "3                  330.6          1403.013963        1072.413963  324.384139   \n",
       "4                  317.0          1316.721747         999.721747  315.369636   \n",
       "\n",
       "  production_budget_tier  \n",
       "0                   High  \n",
       "1                   High  \n",
       "2                   High  \n",
       "3                   High  \n",
       "4                   High  "
      ]
     },
     "execution_count": 23,
     "metadata": {},
     "output_type": "execute_result"
    }
   ],
   "source": [
    "df1.head()"
   ]
  },
  {
   "cell_type": "markdown",
   "metadata": {},
   "source": [
    "### 2. TMBd\n",
    "#### 2.1. Data Cleaning \n",
    "**Cleaning and converting datatypes of columns**\n",
    "\n",
    "I decided to focus on films where the original language was English given that big-budget movies produced for an international market are predominately English (Cain, 2015, https://www.forbes.com/sites/robcain/2015/05/20/guess-where-the-worlds-most-expensive-non-english-language-movies-are-being-made/). "
   ]
  },
  {
   "cell_type": "code",
   "execution_count": 24,
   "metadata": {},
   "outputs": [
    {
     "data": {
      "text/plain": [
       "array(['en', 'nl', 'es', 'ja', 'sv', 'de', 'fr', 'cn', 'it', 'ru', 'zh',\n",
       "       'hi', 'no', 'ko', 'da', 'fi', 'pl', 'te', 'hu', 'tr', 'pt', 'he',\n",
       "       'fa', 'th', 'cs', 'et', 'tl', 'lt', 'xx', 'bs', 'ar', 'is', 'el',\n",
       "       'mr', 'hr', 'ro', 'sr', 'uk', 'nb', 'hz', 'ca', 'bg', 'sl', 'lv',\n",
       "       'si', 'ab', 'ta', 'bo', 'id', 'sq', 'bn', 'gu', 'lo', 'ne', 'kk',\n",
       "       'hy', 'ps', 'kn', 'vi', 'ku', 'ka', 'ml', 'ur', 'mi', 'eu', 'sn',\n",
       "       'cy', 'ha', 'ky', 'yi', 'pa', 'xh', 'cr', 'sw', 'af', 'dz'],\n",
       "      dtype=object)"
      ]
     },
     "execution_count": 24,
     "metadata": {},
     "output_type": "execute_result"
    }
   ],
   "source": [
    "# reviewing the number of original languages available in the dataframe\n",
    "df2.original_language.unique()"
   ]
  },
  {
   "cell_type": "code",
   "execution_count": 25,
   "metadata": {},
   "outputs": [],
   "source": [
    "# creating a new dataframe with movies where English is the original language\n",
    "df2 = df2[df2.original_language == 'en']"
   ]
  },
  {
   "cell_type": "markdown",
   "metadata": {},
   "source": [
    "I then dropped columns irrelevant to my analysis. \n",
    "\n",
    "```original title``` is the film title in the original language. As we are only looking at English movies, this column is identical to ```title```, which is the translated name in the language you have requested the data from. I have therefore only kept one of these columns, which is ```original_title```. This column name will also be updated to ```movie_title```.\n",
    "\n",
    "I have also dropped ```popularity```, which is a lifetime popularity score influenced by daily metrics such as the number of views and votes for the day. As this metric would likely prioritise more recent films, I will not be using it for this analysis. "
   ]
  },
  {
   "cell_type": "code",
   "execution_count": 26,
   "metadata": {},
   "outputs": [],
   "source": [
    "# dropping unnecessary columns\n",
    "df2.drop(['Unnamed: 0', 'id', 'title', 'popularity', 'original_language'], axis=1, inplace=True)\n",
    "\n",
    "# updating column name\n",
    "df2.rename(columns={'original_title':'movie_title'}, inplace=True)"
   ]
  },
  {
   "cell_type": "code",
   "execution_count": 27,
   "metadata": {},
   "outputs": [
    {
     "name": "stdout",
     "output_type": "stream",
     "text": [
      "<class 'pandas.core.frame.DataFrame'>\n",
      "Index: 23291 entries, 0 to 26516\n",
      "Data columns (total 5 columns):\n",
      " #   Column        Non-Null Count  Dtype  \n",
      "---  ------        --------------  -----  \n",
      " 0   genre_ids     23291 non-null  object \n",
      " 1   movie_title   23291 non-null  object \n",
      " 2   release_date  23291 non-null  object \n",
      " 3   vote_average  23291 non-null  float64\n",
      " 4   vote_count    23291 non-null  int64  \n",
      "dtypes: float64(1), int64(1), object(3)\n",
      "memory usage: 1.1+ MB\n"
     ]
    }
   ],
   "source": [
    "df2.info()"
   ]
  },
  {
   "cell_type": "markdown",
   "metadata": {},
   "source": [
    "There are no null values in this dataframe. As the numerical data already exists as float64/ int64 datatype, I will only need to convert the ```release_date``` to datetime."
   ]
  },
  {
   "cell_type": "code",
   "execution_count": 28,
   "metadata": {},
   "outputs": [],
   "source": [
    "# converting release_date to a datetime\n",
    "df2.release_date = pd.to_datetime(df2.release_date)"
   ]
  },
  {
   "cell_type": "code",
   "execution_count": 29,
   "metadata": {},
   "outputs": [
    {
     "data": {
      "text/html": [
       "<div>\n",
       "<style scoped>\n",
       "    .dataframe tbody tr th:only-of-type {\n",
       "        vertical-align: middle;\n",
       "    }\n",
       "\n",
       "    .dataframe tbody tr th {\n",
       "        vertical-align: top;\n",
       "    }\n",
       "\n",
       "    .dataframe thead th {\n",
       "        text-align: right;\n",
       "    }\n",
       "</style>\n",
       "<table border=\"1\" class=\"dataframe\">\n",
       "  <thead>\n",
       "    <tr style=\"text-align: right;\">\n",
       "      <th></th>\n",
       "      <th>release_date</th>\n",
       "      <th>vote_average</th>\n",
       "      <th>vote_count</th>\n",
       "    </tr>\n",
       "  </thead>\n",
       "  <tbody>\n",
       "    <tr>\n",
       "      <th>count</th>\n",
       "      <td>23291</td>\n",
       "      <td>23291.000000</td>\n",
       "      <td>23291.000000</td>\n",
       "    </tr>\n",
       "    <tr>\n",
       "      <th>mean</th>\n",
       "      <td>2014-06-30 21:08:44.442917888</td>\n",
       "      <td>5.953458</td>\n",
       "      <td>209.307887</td>\n",
       "    </tr>\n",
       "    <tr>\n",
       "      <th>min</th>\n",
       "      <td>1930-04-29 00:00:00</td>\n",
       "      <td>0.000000</td>\n",
       "      <td>1.000000</td>\n",
       "    </tr>\n",
       "    <tr>\n",
       "      <th>25%</th>\n",
       "      <td>2012-07-27 00:00:00</td>\n",
       "      <td>5.000000</td>\n",
       "      <td>1.000000</td>\n",
       "    </tr>\n",
       "    <tr>\n",
       "      <th>50%</th>\n",
       "      <td>2014-10-05 00:00:00</td>\n",
       "      <td>6.000000</td>\n",
       "      <td>4.000000</td>\n",
       "    </tr>\n",
       "    <tr>\n",
       "      <th>75%</th>\n",
       "      <td>2016-10-09 12:00:00</td>\n",
       "      <td>7.000000</td>\n",
       "      <td>24.000000</td>\n",
       "    </tr>\n",
       "    <tr>\n",
       "      <th>max</th>\n",
       "      <td>2020-12-25 00:00:00</td>\n",
       "      <td>10.000000</td>\n",
       "      <td>22186.000000</td>\n",
       "    </tr>\n",
       "    <tr>\n",
       "      <th>std</th>\n",
       "      <td>NaN</td>\n",
       "      <td>1.897055</td>\n",
       "      <td>1016.214512</td>\n",
       "    </tr>\n",
       "  </tbody>\n",
       "</table>\n",
       "</div>"
      ],
      "text/plain": [
       "                        release_date  vote_average    vote_count\n",
       "count                          23291  23291.000000  23291.000000\n",
       "mean   2014-06-30 21:08:44.442917888      5.953458    209.307887\n",
       "min              1930-04-29 00:00:00      0.000000      1.000000\n",
       "25%              2012-07-27 00:00:00      5.000000      1.000000\n",
       "50%              2014-10-05 00:00:00      6.000000      4.000000\n",
       "75%              2016-10-09 12:00:00      7.000000     24.000000\n",
       "max              2020-12-25 00:00:00     10.000000  22186.000000\n",
       "std                              NaN      1.897055   1016.214512"
      ]
     },
     "execution_count": 29,
     "metadata": {},
     "output_type": "execute_result"
    }
   ],
   "source": [
    "df2.describe()"
   ]
  },
  {
   "cell_type": "markdown",
   "metadata": {},
   "source": [
    "From the descriptive statistics above, we can see that the earliest film in the dataframe is from 1930. So that we are consistent with The Numbers data, we will be filtering the release year to be between 2009 and 2019."
   ]
  },
  {
   "cell_type": "code",
   "execution_count": 30,
   "metadata": {},
   "outputs": [
    {
     "data": {
      "text/html": [
       "<div>\n",
       "<style scoped>\n",
       "    .dataframe tbody tr th:only-of-type {\n",
       "        vertical-align: middle;\n",
       "    }\n",
       "\n",
       "    .dataframe tbody tr th {\n",
       "        vertical-align: top;\n",
       "    }\n",
       "\n",
       "    .dataframe thead th {\n",
       "        text-align: right;\n",
       "    }\n",
       "</style>\n",
       "<table border=\"1\" class=\"dataframe\">\n",
       "  <thead>\n",
       "    <tr style=\"text-align: right;\">\n",
       "      <th></th>\n",
       "      <th>genre_ids</th>\n",
       "      <th>movie_title</th>\n",
       "      <th>release_date</th>\n",
       "      <th>vote_average</th>\n",
       "      <th>vote_count</th>\n",
       "    </tr>\n",
       "  </thead>\n",
       "  <tbody>\n",
       "    <tr>\n",
       "      <th>26057</th>\n",
       "      <td>[27, 80, 80, 80, 80, 80, 80]</td>\n",
       "      <td>Murdery Christmas</td>\n",
       "      <td>2020-12-25</td>\n",
       "      <td>0.0</td>\n",
       "      <td>1</td>\n",
       "    </tr>\n",
       "  </tbody>\n",
       "</table>\n",
       "</div>"
      ],
      "text/plain": [
       "                          genre_ids        movie_title release_date  \\\n",
       "26057  [27, 80, 80, 80, 80, 80, 80]  Murdery Christmas   2020-12-25   \n",
       "\n",
       "       vote_average  vote_count  \n",
       "26057           0.0           1  "
      ]
     },
     "execution_count": 30,
     "metadata": {},
     "output_type": "execute_result"
    }
   ],
   "source": [
    "# first, we will remove movies earlier than 2009\n",
    "df2 = df2[df2.release_date.dt.strftime('%Y') > '2008']\n",
    "\n",
    "# we can see that the most recent film is from 2020, let's take a look at these rows\n",
    "df2[df2.release_date.dt.strftime('%Y') == '2020']"
   ]
  },
  {
   "cell_type": "markdown",
   "metadata": {},
   "source": [
    "From the above, we can see that there is only one entry for 2020 with only one vote count. From our descriptive statistics we can see that 75% of our data have vote counts of 24 or less. A low vote count may not be an accurate reflection of audience sentiment. So that we are working with a decent sample size for our ```vote_average```, I will be filtering the ```vote_count``` to include at least 24 votes."
   ]
  },
  {
   "cell_type": "code",
   "execution_count": 31,
   "metadata": {},
   "outputs": [],
   "source": [
    "# remove rows where vote count is less than 25\n",
    "df2 = df2[df2.vote_count > 24]"
   ]
  },
  {
   "cell_type": "markdown",
   "metadata": {},
   "source": [
    "To ensure that the naming convention is the same as The Numbers, I will be applying ```.title()``` for each movie title and appending the release year to the title name. "
   ]
  },
  {
   "cell_type": "code",
   "execution_count": 32,
   "metadata": {},
   "outputs": [],
   "source": [
    "# removing any duplicate rows and resetting the index\n",
    "df2 = df2.drop_duplicates().reset_index(drop=True)"
   ]
  },
  {
   "cell_type": "code",
   "execution_count": 33,
   "metadata": {},
   "outputs": [],
   "source": [
    "# iterating through each movie title to ensure a standardised naming convention as df1 \n",
    "df2.movie_title = df2.movie_title.map(lambda x: x.title())\n",
    "\n",
    "movie_title_year_df2 = []\n",
    "\n",
    "for i in range(len(df2.movie_title)):\n",
    "    movie_title_year_df2.append(f'{df2.movie_title[i]} ({df2.release_date.dt.year[i]})')\n",
    "\n",
    "df2['movie_title'] = movie_title_year_df2"
   ]
  },
  {
   "cell_type": "code",
   "execution_count": 34,
   "metadata": {},
   "outputs": [
    {
     "data": {
      "text/html": [
       "<div>\n",
       "<style scoped>\n",
       "    .dataframe tbody tr th:only-of-type {\n",
       "        vertical-align: middle;\n",
       "    }\n",
       "\n",
       "    .dataframe tbody tr th {\n",
       "        vertical-align: top;\n",
       "    }\n",
       "\n",
       "    .dataframe thead th {\n",
       "        text-align: right;\n",
       "    }\n",
       "</style>\n",
       "<table border=\"1\" class=\"dataframe\">\n",
       "  <thead>\n",
       "    <tr style=\"text-align: right;\">\n",
       "      <th></th>\n",
       "      <th>genre_ids</th>\n",
       "      <th>movie_title</th>\n",
       "      <th>release_date</th>\n",
       "      <th>vote_average</th>\n",
       "      <th>vote_count</th>\n",
       "    </tr>\n",
       "  </thead>\n",
       "  <tbody>\n",
       "    <tr>\n",
       "      <th>2081</th>\n",
       "      <td>[27, 53]</td>\n",
       "      <td>Beneath (2013)</td>\n",
       "      <td>2013-07-19</td>\n",
       "      <td>3.8</td>\n",
       "      <td>38</td>\n",
       "    </tr>\n",
       "    <tr>\n",
       "      <th>3398</th>\n",
       "      <td>[53, 18]</td>\n",
       "      <td>Eden (2015)</td>\n",
       "      <td>2015-09-18</td>\n",
       "      <td>5.4</td>\n",
       "      <td>29</td>\n",
       "    </tr>\n",
       "  </tbody>\n",
       "</table>\n",
       "</div>"
      ],
      "text/plain": [
       "     genre_ids     movie_title release_date  vote_average  vote_count\n",
       "2081  [27, 53]  Beneath (2013)   2013-07-19           3.8          38\n",
       "3398  [53, 18]     Eden (2015)   2015-09-18           5.4          29"
      ]
     },
     "execution_count": 34,
     "metadata": {},
     "output_type": "execute_result"
    }
   ],
   "source": [
    "# checking for duplicates\n",
    "df2[df2.movie_title.duplicated()]"
   ]
  },
  {
   "cell_type": "markdown",
   "metadata": {},
   "source": [
    "Let's check these duplicates; are they distinct movies?"
   ]
  },
  {
   "cell_type": "code",
   "execution_count": 35,
   "metadata": {},
   "outputs": [
    {
     "data": {
      "text/html": [
       "<div>\n",
       "<style scoped>\n",
       "    .dataframe tbody tr th:only-of-type {\n",
       "        vertical-align: middle;\n",
       "    }\n",
       "\n",
       "    .dataframe tbody tr th {\n",
       "        vertical-align: top;\n",
       "    }\n",
       "\n",
       "    .dataframe thead th {\n",
       "        text-align: right;\n",
       "    }\n",
       "</style>\n",
       "<table border=\"1\" class=\"dataframe\">\n",
       "  <thead>\n",
       "    <tr style=\"text-align: right;\">\n",
       "      <th></th>\n",
       "      <th>genre_ids</th>\n",
       "      <th>movie_title</th>\n",
       "      <th>release_date</th>\n",
       "      <th>vote_average</th>\n",
       "      <th>vote_count</th>\n",
       "    </tr>\n",
       "  </thead>\n",
       "  <tbody>\n",
       "    <tr>\n",
       "      <th>1755</th>\n",
       "      <td>[27]</td>\n",
       "      <td>Beneath (2013)</td>\n",
       "      <td>2013-10-08</td>\n",
       "      <td>5.2</td>\n",
       "      <td>76</td>\n",
       "    </tr>\n",
       "    <tr>\n",
       "      <th>2081</th>\n",
       "      <td>[27, 53]</td>\n",
       "      <td>Beneath (2013)</td>\n",
       "      <td>2013-07-19</td>\n",
       "      <td>3.8</td>\n",
       "      <td>38</td>\n",
       "    </tr>\n",
       "  </tbody>\n",
       "</table>\n",
       "</div>"
      ],
      "text/plain": [
       "     genre_ids     movie_title release_date  vote_average  vote_count\n",
       "1755      [27]  Beneath (2013)   2013-10-08           5.2          76\n",
       "2081  [27, 53]  Beneath (2013)   2013-07-19           3.8          38"
      ]
     },
     "execution_count": 35,
     "metadata": {},
     "output_type": "execute_result"
    }
   ],
   "source": [
    "df2[df2.movie_title == 'Beneath (2013)']"
   ]
  },
  {
   "cell_type": "code",
   "execution_count": 36,
   "metadata": {},
   "outputs": [
    {
     "data": {
      "text/html": [
       "<div>\n",
       "<style scoped>\n",
       "    .dataframe tbody tr th:only-of-type {\n",
       "        vertical-align: middle;\n",
       "    }\n",
       "\n",
       "    .dataframe tbody tr th {\n",
       "        vertical-align: top;\n",
       "    }\n",
       "\n",
       "    .dataframe thead th {\n",
       "        text-align: right;\n",
       "    }\n",
       "</style>\n",
       "<table border=\"1\" class=\"dataframe\">\n",
       "  <thead>\n",
       "    <tr style=\"text-align: right;\">\n",
       "      <th></th>\n",
       "      <th>genre_ids</th>\n",
       "      <th>movie_title</th>\n",
       "      <th>release_date</th>\n",
       "      <th>vote_average</th>\n",
       "      <th>vote_count</th>\n",
       "    </tr>\n",
       "  </thead>\n",
       "  <tbody>\n",
       "    <tr>\n",
       "      <th>2575</th>\n",
       "      <td>[18, 10402]</td>\n",
       "      <td>Eden (2015)</td>\n",
       "      <td>2015-06-19</td>\n",
       "      <td>5.8</td>\n",
       "      <td>57</td>\n",
       "    </tr>\n",
       "    <tr>\n",
       "      <th>3398</th>\n",
       "      <td>[53, 18]</td>\n",
       "      <td>Eden (2015)</td>\n",
       "      <td>2015-09-18</td>\n",
       "      <td>5.4</td>\n",
       "      <td>29</td>\n",
       "    </tr>\n",
       "  </tbody>\n",
       "</table>\n",
       "</div>"
      ],
      "text/plain": [
       "        genre_ids  movie_title release_date  vote_average  vote_count\n",
       "2575  [18, 10402]  Eden (2015)   2015-06-19           5.8          57\n",
       "3398     [53, 18]  Eden (2015)   2015-09-18           5.4          29"
      ]
     },
     "execution_count": 36,
     "metadata": {},
     "output_type": "execute_result"
    }
   ],
   "source": [
    "df2[df2.movie_title == 'Eden (2015)']"
   ]
  },
  {
   "cell_type": "markdown",
   "metadata": {},
   "source": [
    "Given their close release dates and similar genres, they don't appear to be distinct movies. I decided to keep the first of the movies as they have a higher vote count."
   ]
  },
  {
   "cell_type": "code",
   "execution_count": 37,
   "metadata": {},
   "outputs": [],
   "source": [
    "# dropping duplicates within movie_title by keeping the default keep=first \n",
    "df2.drop_duplicates(subset='movie_title', inplace=True)"
   ]
  },
  {
   "cell_type": "markdown",
   "metadata": {},
   "source": [
    "For readability, I will be mapping each genre_id to their corresponding genre name as found on the TMDb website."
   ]
  },
  {
   "cell_type": "code",
   "execution_count": 38,
   "metadata": {},
   "outputs": [
    {
     "data": {
      "text/plain": [
       "'['"
      ]
     },
     "execution_count": 38,
     "metadata": {},
     "output_type": "execute_result"
    }
   ],
   "source": [
    "# confirming whether genre_ids are strings or a list\n",
    "df2.genre_ids[0][0]"
   ]
  },
  {
   "cell_type": "markdown",
   "metadata": {},
   "source": [
    "We can see that while ```genre_ids``` appears to look like a list, it is actually a string with brackets and we will need to reformat ```genre_ids``` so that we can iterate through each id. "
   ]
  },
  {
   "cell_type": "code",
   "execution_count": 39,
   "metadata": {},
   "outputs": [],
   "source": [
    "# stripping the genre_ids string of brackets\n",
    "df2['genre_ids'] = df2.genre_ids.map(lambda x: x.strip('[ ]'))\n",
    "\n",
    "# splitting the string into a list of ids\n",
    "df2['genre_ids'] = df2.genre_ids.map(lambda x: x.split(', '))\n",
    "\n",
    "# iterating through each genre_id to ensure that there are no duplicates of a genre within a single row\n",
    "df2.genre_ids = df2.genre_ids.map(lambda x: list(set(x)))"
   ]
  },
  {
   "cell_type": "code",
   "execution_count": 40,
   "metadata": {},
   "outputs": [
    {
     "data": {
      "text/plain": [
       "'10751'"
      ]
     },
     "execution_count": 40,
     "metadata": {},
     "output_type": "execute_result"
    }
   ],
   "source": [
    "# confirming the above code worked \n",
    "df2.genre_ids[0][0]"
   ]
  },
  {
   "cell_type": "code",
   "execution_count": 41,
   "metadata": {},
   "outputs": [
    {
     "data": {
      "text/html": [
       "<div>\n",
       "<style scoped>\n",
       "    .dataframe tbody tr th:only-of-type {\n",
       "        vertical-align: middle;\n",
       "    }\n",
       "\n",
       "    .dataframe tbody tr th {\n",
       "        vertical-align: top;\n",
       "    }\n",
       "\n",
       "    .dataframe thead th {\n",
       "        text-align: right;\n",
       "    }\n",
       "</style>\n",
       "<table border=\"1\" class=\"dataframe\">\n",
       "  <thead>\n",
       "    <tr style=\"text-align: right;\">\n",
       "      <th></th>\n",
       "      <th>genre_ids</th>\n",
       "      <th>movie_title</th>\n",
       "      <th>release_date</th>\n",
       "      <th>vote_average</th>\n",
       "      <th>vote_count</th>\n",
       "    </tr>\n",
       "  </thead>\n",
       "  <tbody>\n",
       "    <tr>\n",
       "      <th>0</th>\n",
       "      <td>[10751, 12, 14]</td>\n",
       "      <td>Harry Potter And The Deathly Hallows: Part 1 (...</td>\n",
       "      <td>2010-11-19</td>\n",
       "      <td>7.7</td>\n",
       "      <td>10788</td>\n",
       "    </tr>\n",
       "    <tr>\n",
       "      <th>1</th>\n",
       "      <td>[10751, 12, 16, 14]</td>\n",
       "      <td>How To Train Your Dragon (2010)</td>\n",
       "      <td>2010-03-26</td>\n",
       "      <td>7.7</td>\n",
       "      <td>7610</td>\n",
       "    </tr>\n",
       "    <tr>\n",
       "      <th>2</th>\n",
       "      <td>[12, 28, 878]</td>\n",
       "      <td>Iron Man 2 (2010)</td>\n",
       "      <td>2010-05-07</td>\n",
       "      <td>6.8</td>\n",
       "      <td>12368</td>\n",
       "    </tr>\n",
       "    <tr>\n",
       "      <th>3</th>\n",
       "      <td>[12, 28, 878]</td>\n",
       "      <td>Inception (2010)</td>\n",
       "      <td>2010-07-16</td>\n",
       "      <td>8.3</td>\n",
       "      <td>22186</td>\n",
       "    </tr>\n",
       "    <tr>\n",
       "      <th>4</th>\n",
       "      <td>[10751, 12, 14]</td>\n",
       "      <td>Percy Jackson &amp; The Olympians: The Lightning T...</td>\n",
       "      <td>2010-02-11</td>\n",
       "      <td>6.1</td>\n",
       "      <td>4229</td>\n",
       "    </tr>\n",
       "  </tbody>\n",
       "</table>\n",
       "</div>"
      ],
      "text/plain": [
       "             genre_ids                                        movie_title  \\\n",
       "0      [10751, 12, 14]  Harry Potter And The Deathly Hallows: Part 1 (...   \n",
       "1  [10751, 12, 16, 14]                    How To Train Your Dragon (2010)   \n",
       "2        [12, 28, 878]                                  Iron Man 2 (2010)   \n",
       "3        [12, 28, 878]                                   Inception (2010)   \n",
       "4      [10751, 12, 14]  Percy Jackson & The Olympians: The Lightning T...   \n",
       "\n",
       "  release_date  vote_average  vote_count  \n",
       "0   2010-11-19           7.7       10788  \n",
       "1   2010-03-26           7.7        7610  \n",
       "2   2010-05-07           6.8       12368  \n",
       "3   2010-07-16           8.3       22186  \n",
       "4   2010-02-11           6.1        4229  "
      ]
     },
     "execution_count": 41,
     "metadata": {},
     "output_type": "execute_result"
    }
   ],
   "source": [
    "# resetting the index\n",
    "df2.reset_index(drop=True, inplace=True)\n",
    "\n",
    "# checking in to our modified dataframe\n",
    "df2.head()"
   ]
  },
  {
   "cell_type": "markdown",
   "metadata": {},
   "source": [
    "#### 2.2. Feature Engineering\n",
    "**Joining the TMDb dataframe to The Numbers dataframe**\n",
    "\n",
    "So that we can assess the relationship between genre, release month and vote average with profitability, I will be joining the TMDb dataframe (df2) with The Numbers dataframe (df1).\n",
    "\n",
    "Before joining, I will remove ```release_date``` from the TMDb dataframe to avoid duplicate data."
   ]
  },
  {
   "cell_type": "code",
   "execution_count": 42,
   "metadata": {},
   "outputs": [],
   "source": [
    "# drop release_date column\n",
    "df2.drop(['release_date'], axis=1, inplace=True)"
   ]
  },
  {
   "cell_type": "code",
   "execution_count": 43,
   "metadata": {},
   "outputs": [
    {
     "data": {
      "text/html": [
       "<div>\n",
       "<style scoped>\n",
       "    .dataframe tbody tr th:only-of-type {\n",
       "        vertical-align: middle;\n",
       "    }\n",
       "\n",
       "    .dataframe tbody tr th {\n",
       "        vertical-align: top;\n",
       "    }\n",
       "\n",
       "    .dataframe thead th {\n",
       "        text-align: right;\n",
       "    }\n",
       "</style>\n",
       "<table border=\"1\" class=\"dataframe\">\n",
       "  <thead>\n",
       "    <tr style=\"text-align: right;\">\n",
       "      <th></th>\n",
       "      <th>release_date</th>\n",
       "      <th>movie_title</th>\n",
       "      <th>production_budget_mil</th>\n",
       "      <th>worldwide_gross_mil</th>\n",
       "      <th>global_profit_mil</th>\n",
       "      <th>roi</th>\n",
       "      <th>production_budget_tier</th>\n",
       "      <th>genre_ids</th>\n",
       "      <th>vote_average</th>\n",
       "      <th>vote_count</th>\n",
       "    </tr>\n",
       "  </thead>\n",
       "  <tbody>\n",
       "    <tr>\n",
       "      <th>0</th>\n",
       "      <td>2009-12-18</td>\n",
       "      <td>Avatar (2009)</td>\n",
       "      <td>425.0</td>\n",
       "      <td>2776.345279</td>\n",
       "      <td>2351.345279</td>\n",
       "      <td>553.257713</td>\n",
       "      <td>High</td>\n",
       "      <td>[12, 14, 28, 878]</td>\n",
       "      <td>7.4</td>\n",
       "      <td>18676</td>\n",
       "    </tr>\n",
       "    <tr>\n",
       "      <th>1</th>\n",
       "      <td>2011-05-20</td>\n",
       "      <td>Pirates Of The Caribbean: On Stranger Tides (2...</td>\n",
       "      <td>410.6</td>\n",
       "      <td>1045.663875</td>\n",
       "      <td>635.063875</td>\n",
       "      <td>154.667286</td>\n",
       "      <td>High</td>\n",
       "      <td>[12, 14, 28]</td>\n",
       "      <td>6.4</td>\n",
       "      <td>8571</td>\n",
       "    </tr>\n",
       "    <tr>\n",
       "      <th>2</th>\n",
       "      <td>2015-05-01</td>\n",
       "      <td>Avengers: Age Of Ultron (2015)</td>\n",
       "      <td>330.6</td>\n",
       "      <td>1403.013963</td>\n",
       "      <td>1072.413963</td>\n",
       "      <td>324.384139</td>\n",
       "      <td>High</td>\n",
       "      <td>[12, 28, 878]</td>\n",
       "      <td>7.3</td>\n",
       "      <td>13457</td>\n",
       "    </tr>\n",
       "    <tr>\n",
       "      <th>3</th>\n",
       "      <td>2018-04-27</td>\n",
       "      <td>Avengers: Infinity War (2018)</td>\n",
       "      <td>300.0</td>\n",
       "      <td>2048.134200</td>\n",
       "      <td>1748.134200</td>\n",
       "      <td>582.711400</td>\n",
       "      <td>High</td>\n",
       "      <td>[12, 14, 28]</td>\n",
       "      <td>8.3</td>\n",
       "      <td>13948</td>\n",
       "    </tr>\n",
       "    <tr>\n",
       "      <th>4</th>\n",
       "      <td>2017-11-17</td>\n",
       "      <td>Justice League (2017)</td>\n",
       "      <td>300.0</td>\n",
       "      <td>655.945209</td>\n",
       "      <td>355.945209</td>\n",
       "      <td>118.648403</td>\n",
       "      <td>High</td>\n",
       "      <td>[12, 14, 28, 878]</td>\n",
       "      <td>6.2</td>\n",
       "      <td>7510</td>\n",
       "    </tr>\n",
       "  </tbody>\n",
       "</table>\n",
       "</div>"
      ],
      "text/plain": [
       "  release_date                                        movie_title  \\\n",
       "0   2009-12-18                                      Avatar (2009)   \n",
       "1   2011-05-20  Pirates Of The Caribbean: On Stranger Tides (2...   \n",
       "2   2015-05-01                     Avengers: Age Of Ultron (2015)   \n",
       "3   2018-04-27                      Avengers: Infinity War (2018)   \n",
       "4   2017-11-17                              Justice League (2017)   \n",
       "\n",
       "   production_budget_mil  worldwide_gross_mil  global_profit_mil         roi  \\\n",
       "0                  425.0          2776.345279        2351.345279  553.257713   \n",
       "1                  410.6          1045.663875         635.063875  154.667286   \n",
       "2                  330.6          1403.013963        1072.413963  324.384139   \n",
       "3                  300.0          2048.134200        1748.134200  582.711400   \n",
       "4                  300.0           655.945209         355.945209  118.648403   \n",
       "\n",
       "  production_budget_tier          genre_ids  vote_average  vote_count  \n",
       "0                   High  [12, 14, 28, 878]           7.4       18676  \n",
       "1                   High       [12, 14, 28]           6.4        8571  \n",
       "2                   High      [12, 28, 878]           7.3       13457  \n",
       "3                   High       [12, 14, 28]           8.3       13948  \n",
       "4                   High  [12, 14, 28, 878]           6.2        7510  "
      ]
     },
     "execution_count": 43,
     "metadata": {},
     "output_type": "execute_result"
    }
   ],
   "source": [
    "# merge df1 with df2 on an inner join\n",
    "df_tn_tmdb = df1.merge(df2, on='movie_title', how='inner')\n",
    "df_tn_tmdb.head()"
   ]
  },
  {
   "cell_type": "code",
   "execution_count": 44,
   "metadata": {},
   "outputs": [
    {
     "name": "stdout",
     "output_type": "stream",
     "text": [
      "<class 'pandas.core.frame.DataFrame'>\n",
      "RangeIndex: 1395 entries, 0 to 1394\n",
      "Data columns (total 10 columns):\n",
      " #   Column                  Non-Null Count  Dtype         \n",
      "---  ------                  --------------  -----         \n",
      " 0   release_date            1395 non-null   datetime64[ns]\n",
      " 1   movie_title             1395 non-null   object        \n",
      " 2   production_budget_mil   1395 non-null   float64       \n",
      " 3   worldwide_gross_mil     1395 non-null   float64       \n",
      " 4   global_profit_mil       1395 non-null   float64       \n",
      " 5   roi                     1395 non-null   float64       \n",
      " 6   production_budget_tier  1395 non-null   category      \n",
      " 7   genre_ids               1395 non-null   object        \n",
      " 8   vote_average            1395 non-null   float64       \n",
      " 9   vote_count              1395 non-null   int64         \n",
      "dtypes: category(1), datetime64[ns](1), float64(5), int64(1), object(2)\n",
      "memory usage: 99.7+ KB\n"
     ]
    }
   ],
   "source": [
    "df_tn_tmdb.info()"
   ]
  },
  {
   "cell_type": "markdown",
   "metadata": {},
   "source": [
    "For readability, I replaced each genre ID with their corresponding genre name. I started by pulling a list of genres present within the dataframe and then mapping each genre name (as provided by the TMDb website: https://developer.themoviedb.org/reference/genre-movie-list) to each ID. "
   ]
  },
  {
   "cell_type": "code",
   "execution_count": 45,
   "metadata": {},
   "outputs": [
    {
     "data": {
      "text/plain": [
       "{'10402',\n",
       " '10749',\n",
       " '10751',\n",
       " '10752',\n",
       " '12',\n",
       " '14',\n",
       " '16',\n",
       " '18',\n",
       " '27',\n",
       " '28',\n",
       " '35',\n",
       " '36',\n",
       " '37',\n",
       " '53',\n",
       " '80',\n",
       " '878',\n",
       " '9648',\n",
       " '99'}"
      ]
     },
     "execution_count": 45,
     "metadata": {},
     "output_type": "execute_result"
    }
   ],
   "source": [
    "# create an empty list to store a list of all genres present within the dataframe regardless of duplicates\n",
    "list_of_genres = []\n",
    "for i in range(len(df_tn_tmdb.genre_ids)): \n",
    "    for id in range(len(df_tn_tmdb.genre_ids[i])):\n",
    "        list_of_genres.append(df_tn_tmdb.genre_ids[i][id])\n",
    "\n",
    "# removing duplicate genres from the list with .set()\n",
    "set(list_of_genres)"
   ]
  },
  {
   "cell_type": "code",
   "execution_count": 46,
   "metadata": {},
   "outputs": [],
   "source": [
    "# creating a dictionary with genre IDs and their corresponding names\n",
    "genre_mapping = {\n",
    "    '10402': 'Music',\n",
    "    '10749': 'Romance', \n",
    "    '10751': 'Family',\n",
    "    '10752': 'War',\n",
    "    '12': 'Adventure', \n",
    "    '14': 'Fantasy', \n",
    "    '16': 'Animation',\n",
    "    '18': 'Drama',\n",
    "    '27': 'Horror',\n",
    "    '28': 'Action',\n",
    "    '35': 'Comedy',\n",
    "    '36': 'History',\n",
    "    '37': 'Western',\n",
    "    '53': 'Thriller',\n",
    "    '80': 'Crime',\n",
    "    '878': 'Science Fiction',\n",
    "    '9648': 'TV Movie',\n",
    "    '99': 'Documentary'}\n",
    "\n",
    "# map genre name onto each ID\n",
    "df_tn_tmdb['genre_ids'] = df_tn_tmdb['genre_ids'].apply(lambda x: [genre_mapping[i] for i in x])"
   ]
  },
  {
   "cell_type": "code",
   "execution_count": 47,
   "metadata": {},
   "outputs": [
    {
     "data": {
      "text/html": [
       "<div>\n",
       "<style scoped>\n",
       "    .dataframe tbody tr th:only-of-type {\n",
       "        vertical-align: middle;\n",
       "    }\n",
       "\n",
       "    .dataframe tbody tr th {\n",
       "        vertical-align: top;\n",
       "    }\n",
       "\n",
       "    .dataframe thead th {\n",
       "        text-align: right;\n",
       "    }\n",
       "</style>\n",
       "<table border=\"1\" class=\"dataframe\">\n",
       "  <thead>\n",
       "    <tr style=\"text-align: right;\">\n",
       "      <th></th>\n",
       "      <th>release_date</th>\n",
       "      <th>movie_title</th>\n",
       "      <th>production_budget_mil</th>\n",
       "      <th>worldwide_gross_mil</th>\n",
       "      <th>global_profit_mil</th>\n",
       "      <th>roi</th>\n",
       "      <th>production_budget_tier</th>\n",
       "      <th>genre_ids</th>\n",
       "      <th>vote_average</th>\n",
       "      <th>vote_count</th>\n",
       "    </tr>\n",
       "  </thead>\n",
       "  <tbody>\n",
       "    <tr>\n",
       "      <th>0</th>\n",
       "      <td>2009-12-18</td>\n",
       "      <td>Avatar (2009)</td>\n",
       "      <td>425.0</td>\n",
       "      <td>2776.345279</td>\n",
       "      <td>2351.345279</td>\n",
       "      <td>553.257713</td>\n",
       "      <td>High</td>\n",
       "      <td>[Adventure, Fantasy, Action, Science Fiction]</td>\n",
       "      <td>7.4</td>\n",
       "      <td>18676</td>\n",
       "    </tr>\n",
       "    <tr>\n",
       "      <th>1</th>\n",
       "      <td>2011-05-20</td>\n",
       "      <td>Pirates Of The Caribbean: On Stranger Tides (2...</td>\n",
       "      <td>410.6</td>\n",
       "      <td>1045.663875</td>\n",
       "      <td>635.063875</td>\n",
       "      <td>154.667286</td>\n",
       "      <td>High</td>\n",
       "      <td>[Adventure, Fantasy, Action]</td>\n",
       "      <td>6.4</td>\n",
       "      <td>8571</td>\n",
       "    </tr>\n",
       "    <tr>\n",
       "      <th>2</th>\n",
       "      <td>2015-05-01</td>\n",
       "      <td>Avengers: Age Of Ultron (2015)</td>\n",
       "      <td>330.6</td>\n",
       "      <td>1403.013963</td>\n",
       "      <td>1072.413963</td>\n",
       "      <td>324.384139</td>\n",
       "      <td>High</td>\n",
       "      <td>[Adventure, Action, Science Fiction]</td>\n",
       "      <td>7.3</td>\n",
       "      <td>13457</td>\n",
       "    </tr>\n",
       "    <tr>\n",
       "      <th>3</th>\n",
       "      <td>2018-04-27</td>\n",
       "      <td>Avengers: Infinity War (2018)</td>\n",
       "      <td>300.0</td>\n",
       "      <td>2048.134200</td>\n",
       "      <td>1748.134200</td>\n",
       "      <td>582.711400</td>\n",
       "      <td>High</td>\n",
       "      <td>[Adventure, Fantasy, Action]</td>\n",
       "      <td>8.3</td>\n",
       "      <td>13948</td>\n",
       "    </tr>\n",
       "    <tr>\n",
       "      <th>4</th>\n",
       "      <td>2017-11-17</td>\n",
       "      <td>Justice League (2017)</td>\n",
       "      <td>300.0</td>\n",
       "      <td>655.945209</td>\n",
       "      <td>355.945209</td>\n",
       "      <td>118.648403</td>\n",
       "      <td>High</td>\n",
       "      <td>[Adventure, Fantasy, Action, Science Fiction]</td>\n",
       "      <td>6.2</td>\n",
       "      <td>7510</td>\n",
       "    </tr>\n",
       "  </tbody>\n",
       "</table>\n",
       "</div>"
      ],
      "text/plain": [
       "  release_date                                        movie_title  \\\n",
       "0   2009-12-18                                      Avatar (2009)   \n",
       "1   2011-05-20  Pirates Of The Caribbean: On Stranger Tides (2...   \n",
       "2   2015-05-01                     Avengers: Age Of Ultron (2015)   \n",
       "3   2018-04-27                      Avengers: Infinity War (2018)   \n",
       "4   2017-11-17                              Justice League (2017)   \n",
       "\n",
       "   production_budget_mil  worldwide_gross_mil  global_profit_mil         roi  \\\n",
       "0                  425.0          2776.345279        2351.345279  553.257713   \n",
       "1                  410.6          1045.663875         635.063875  154.667286   \n",
       "2                  330.6          1403.013963        1072.413963  324.384139   \n",
       "3                  300.0          2048.134200        1748.134200  582.711400   \n",
       "4                  300.0           655.945209         355.945209  118.648403   \n",
       "\n",
       "  production_budget_tier                                      genre_ids  \\\n",
       "0                   High  [Adventure, Fantasy, Action, Science Fiction]   \n",
       "1                   High                   [Adventure, Fantasy, Action]   \n",
       "2                   High           [Adventure, Action, Science Fiction]   \n",
       "3                   High                   [Adventure, Fantasy, Action]   \n",
       "4                   High  [Adventure, Fantasy, Action, Science Fiction]   \n",
       "\n",
       "   vote_average  vote_count  \n",
       "0           7.4       18676  \n",
       "1           6.4        8571  \n",
       "2           7.3       13457  \n",
       "3           8.3       13948  \n",
       "4           6.2        7510  "
      ]
     },
     "execution_count": 47,
     "metadata": {},
     "output_type": "execute_result"
    }
   ],
   "source": [
    "df_tn_tmdb.head()"
   ]
  },
  {
   "cell_type": "markdown",
   "metadata": {},
   "source": [
    "### 3. IMDb\n",
    "#### 3.1. Data Cleaning "
   ]
  },
  {
   "cell_type": "code",
   "execution_count": 48,
   "metadata": {},
   "outputs": [
    {
     "name": "stdout",
     "output_type": "stream",
     "text": [
      "<class 'pandas.core.frame.DataFrame'>\n",
      "RangeIndex: 210566 entries, 0 to 210565\n",
      "Data columns (total 7 columns):\n",
      " #   Column          Non-Null Count   Dtype \n",
      "---  ------          --------------   ----- \n",
      " 0   Unnamed: 0      210566 non-null  int64 \n",
      " 1   tconst          210566 non-null  object\n",
      " 2   titleType       210566 non-null  object\n",
      " 3   primaryTitle    210566 non-null  object\n",
      " 4   startYear       210566 non-null  int64 \n",
      " 5   runtimeMinutes  210566 non-null  int64 \n",
      " 6   genres          210566 non-null  object\n",
      "dtypes: int64(3), object(4)\n",
      "memory usage: 11.2+ MB\n"
     ]
    }
   ],
   "source": [
    "df3.info()"
   ]
  },
  {
   "cell_type": "markdown",
   "metadata": {},
   "source": [
    "I started by dropping ```Unnamed: 0``` as it appeared to be a duplicate index."
   ]
  },
  {
   "cell_type": "code",
   "execution_count": 49,
   "metadata": {},
   "outputs": [],
   "source": [
    "# dropping irrelevant column\n",
    "df3.drop(['Unnamed: 0'], axis=1, inplace=True)"
   ]
  },
  {
   "cell_type": "markdown",
   "metadata": {},
   "source": [
    "As nulls are denoted by ```\\N```s in IMDb, I confirmed there were no true missing values by replacing ```\\N``` with NaN."
   ]
  },
  {
   "cell_type": "code",
   "execution_count": 50,
   "metadata": {},
   "outputs": [
    {
     "data": {
      "text/plain": [
       "tconst            False\n",
       "titleType         False\n",
       "primaryTitle      False\n",
       "startYear         False\n",
       "runtimeMinutes    False\n",
       "genres            False\n",
       "dtype: bool"
      ]
     },
     "execution_count": 50,
     "metadata": {},
     "output_type": "execute_result"
    }
   ],
   "source": [
    "# replacing all \\Ns with NaN\n",
    "df3.replace(r'\\N', np.nan, inplace=True)\n",
    "\n",
    "# confirming there are no nulls within the dataframe\n",
    "df3.isna().any()"
   ]
  },
  {
   "cell_type": "markdown",
   "metadata": {},
   "source": [
    "As the target variables for the IMDb dataset is audience ratings and runtimes, I decided to drop movies from 2023. Given we are still within 2023, there may not have been enough time or data to provide an accurate sense of audience sentiment. \n",
    "\n",
    "Please note that movies prior to 2009 had already been removed in ```imdb_do_not_run```."
   ]
  },
  {
   "cell_type": "code",
   "execution_count": 51,
   "metadata": {},
   "outputs": [],
   "source": [
    "# removing movies released in 2023\n",
    "df3 = df3[df3.startYear < 2023]\n",
    "\n",
    "df3.reset_index(drop=True, inplace=True)"
   ]
  },
  {
   "cell_type": "code",
   "execution_count": 52,
   "metadata": {},
   "outputs": [
    {
     "data": {
      "text/plain": [
       "False"
      ]
     },
     "execution_count": 52,
     "metadata": {},
     "output_type": "execute_result"
    }
   ],
   "source": [
    "# confirming any duplicates within the dataframe\n",
    "df4.duplicated().any()"
   ]
  },
  {
   "cell_type": "markdown",
   "metadata": {},
   "source": [
    "I then standardised the naming convention for movie titles to align with The Numbers and TMDb dataframes for consistency."
   ]
  },
  {
   "cell_type": "code",
   "execution_count": 53,
   "metadata": {},
   "outputs": [],
   "source": [
    "# rename move title column name\n",
    "df3.rename(columns={'primaryTitle':'movie_title'}, inplace=True)\n",
    "# capitalising the film title \n",
    "df3.movie_title = df3.movie_title.map(lambda x: x.title())\n",
    "\n",
    "# adding the release year to the movie title\n",
    "movie_title_year_df3 = []\n",
    "\n",
    "for i in range(len(df3.movie_title)):\n",
    "    movie_title_year_df3.append(f'{df3.movie_title[i]} ({df3.startYear[i]})')\n",
    "\n",
    "df3['movie_title'] = movie_title_year_df3"
   ]
  },
  {
   "cell_type": "code",
   "execution_count": 54,
   "metadata": {},
   "outputs": [
    {
     "data": {
      "text/html": [
       "<div>\n",
       "<style scoped>\n",
       "    .dataframe tbody tr th:only-of-type {\n",
       "        vertical-align: middle;\n",
       "    }\n",
       "\n",
       "    .dataframe tbody tr th {\n",
       "        vertical-align: top;\n",
       "    }\n",
       "\n",
       "    .dataframe thead th {\n",
       "        text-align: right;\n",
       "    }\n",
       "</style>\n",
       "<table border=\"1\" class=\"dataframe\">\n",
       "  <thead>\n",
       "    <tr style=\"text-align: right;\">\n",
       "      <th></th>\n",
       "      <th>tconst</th>\n",
       "      <th>titleType</th>\n",
       "      <th>movie_title</th>\n",
       "      <th>startYear</th>\n",
       "      <th>runtimeMinutes</th>\n",
       "      <th>genres</th>\n",
       "    </tr>\n",
       "  </thead>\n",
       "  <tbody>\n",
       "    <tr>\n",
       "      <th>0</th>\n",
       "      <td>tt0013274</td>\n",
       "      <td>movie</td>\n",
       "      <td>Istoriya Grazhdanskoy Voyny (2021)</td>\n",
       "      <td>2021</td>\n",
       "      <td>94</td>\n",
       "      <td>Documentary</td>\n",
       "    </tr>\n",
       "    <tr>\n",
       "      <th>1</th>\n",
       "      <td>tt0062336</td>\n",
       "      <td>movie</td>\n",
       "      <td>The Tango Of The Widower And Its Distorting Mi...</td>\n",
       "      <td>2020</td>\n",
       "      <td>70</td>\n",
       "      <td>Drama</td>\n",
       "    </tr>\n",
       "    <tr>\n",
       "      <th>2</th>\n",
       "      <td>tt0068865</td>\n",
       "      <td>movie</td>\n",
       "      <td>Lives Of Performers (2016)</td>\n",
       "      <td>2016</td>\n",
       "      <td>90</td>\n",
       "      <td>Drama</td>\n",
       "    </tr>\n",
       "    <tr>\n",
       "      <th>3</th>\n",
       "      <td>tt0069049</td>\n",
       "      <td>movie</td>\n",
       "      <td>The Other Side Of The Wind (2018)</td>\n",
       "      <td>2018</td>\n",
       "      <td>122</td>\n",
       "      <td>Drama</td>\n",
       "    </tr>\n",
       "    <tr>\n",
       "      <th>4</th>\n",
       "      <td>tt0077684</td>\n",
       "      <td>movie</td>\n",
       "      <td>Histórias De Combóios Em Portugal (2022)</td>\n",
       "      <td>2022</td>\n",
       "      <td>46</td>\n",
       "      <td>Documentary</td>\n",
       "    </tr>\n",
       "  </tbody>\n",
       "</table>\n",
       "</div>"
      ],
      "text/plain": [
       "      tconst titleType                                        movie_title  \\\n",
       "0  tt0013274     movie                 Istoriya Grazhdanskoy Voyny (2021)   \n",
       "1  tt0062336     movie  The Tango Of The Widower And Its Distorting Mi...   \n",
       "2  tt0068865     movie                         Lives Of Performers (2016)   \n",
       "3  tt0069049     movie                  The Other Side Of The Wind (2018)   \n",
       "4  tt0077684     movie           Histórias De Combóios Em Portugal (2022)   \n",
       "\n",
       "   startYear  runtimeMinutes       genres  \n",
       "0       2021              94  Documentary  \n",
       "1       2020              70        Drama  \n",
       "2       2016              90        Drama  \n",
       "3       2018             122        Drama  \n",
       "4       2022              46  Documentary  "
      ]
     },
     "execution_count": 54,
     "metadata": {},
     "output_type": "execute_result"
    }
   ],
   "source": [
    "df3.head()"
   ]
  },
  {
   "cell_type": "markdown",
   "metadata": {},
   "source": [
    "To prepare the second IMDb dataframe for joining, I confirmed there were no missing values."
   ]
  },
  {
   "cell_type": "code",
   "execution_count": 55,
   "metadata": {},
   "outputs": [
    {
     "name": "stdout",
     "output_type": "stream",
     "text": [
      "<class 'pandas.core.frame.DataFrame'>\n",
      "RangeIndex: 1335975 entries, 0 to 1335974\n",
      "Data columns (total 3 columns):\n",
      " #   Column         Non-Null Count    Dtype  \n",
      "---  ------         --------------    -----  \n",
      " 0   tconst         1335975 non-null  object \n",
      " 1   averageRating  1335975 non-null  float64\n",
      " 2   numVotes       1335975 non-null  int64  \n",
      "dtypes: float64(1), int64(1), object(1)\n",
      "memory usage: 30.6+ MB\n"
     ]
    }
   ],
   "source": [
    "df4.info()"
   ]
  },
  {
   "cell_type": "code",
   "execution_count": 56,
   "metadata": {},
   "outputs": [
    {
     "data": {
      "text/plain": [
       "tconst           False\n",
       "averageRating    False\n",
       "numVotes         False\n",
       "dtype: bool"
      ]
     },
     "execution_count": 56,
     "metadata": {},
     "output_type": "execute_result"
    }
   ],
   "source": [
    "# replace all \\N with NaNs to find any hidden missing values\n",
    "df4.replace(r'\\N', np.nan, inplace=True)\n",
    "\n",
    "# check for NaNs\n",
    "df4.isna().any()"
   ]
  },
  {
   "cell_type": "markdown",
   "metadata": {},
   "source": [
    "#### 3.2. Feature Engineering\n",
    "**Joining the IMDb dataframes together**\n",
    "\n",
    "To join the IMDb dataframes together, I first set the index of both dataframes to ```tconst```, which is the unique identifier for IMDb."
   ]
  },
  {
   "cell_type": "code",
   "execution_count": 57,
   "metadata": {},
   "outputs": [],
   "source": [
    "# set the index of df3 and df4 so that we can join the dataframes together\n",
    "df3.set_index('tconst', inplace=True)\n",
    "df4.set_index('tconst', inplace=True)"
   ]
  },
  {
   "cell_type": "code",
   "execution_count": 58,
   "metadata": {},
   "outputs": [
    {
     "data": {
      "text/html": [
       "<div>\n",
       "<style scoped>\n",
       "    .dataframe tbody tr th:only-of-type {\n",
       "        vertical-align: middle;\n",
       "    }\n",
       "\n",
       "    .dataframe tbody tr th {\n",
       "        vertical-align: top;\n",
       "    }\n",
       "\n",
       "    .dataframe thead th {\n",
       "        text-align: right;\n",
       "    }\n",
       "</style>\n",
       "<table border=\"1\" class=\"dataframe\">\n",
       "  <thead>\n",
       "    <tr style=\"text-align: right;\">\n",
       "      <th></th>\n",
       "      <th>titleType</th>\n",
       "      <th>movie_title</th>\n",
       "      <th>startYear</th>\n",
       "      <th>runtimeMinutes</th>\n",
       "      <th>genres</th>\n",
       "      <th>averageRating</th>\n",
       "      <th>numVotes</th>\n",
       "    </tr>\n",
       "    <tr>\n",
       "      <th>tconst</th>\n",
       "      <th></th>\n",
       "      <th></th>\n",
       "      <th></th>\n",
       "      <th></th>\n",
       "      <th></th>\n",
       "      <th></th>\n",
       "      <th></th>\n",
       "    </tr>\n",
       "  </thead>\n",
       "  <tbody>\n",
       "    <tr>\n",
       "      <th>tt0013274</th>\n",
       "      <td>movie</td>\n",
       "      <td>Istoriya Grazhdanskoy Voyny (2021)</td>\n",
       "      <td>2021</td>\n",
       "      <td>94</td>\n",
       "      <td>Documentary</td>\n",
       "      <td>6.8</td>\n",
       "      <td>57</td>\n",
       "    </tr>\n",
       "    <tr>\n",
       "      <th>tt0062336</th>\n",
       "      <td>movie</td>\n",
       "      <td>The Tango Of The Widower And Its Distorting Mi...</td>\n",
       "      <td>2020</td>\n",
       "      <td>70</td>\n",
       "      <td>Drama</td>\n",
       "      <td>6.4</td>\n",
       "      <td>176</td>\n",
       "    </tr>\n",
       "    <tr>\n",
       "      <th>tt0068865</th>\n",
       "      <td>movie</td>\n",
       "      <td>Lives Of Performers (2016)</td>\n",
       "      <td>2016</td>\n",
       "      <td>90</td>\n",
       "      <td>Drama</td>\n",
       "      <td>5.4</td>\n",
       "      <td>75</td>\n",
       "    </tr>\n",
       "    <tr>\n",
       "      <th>tt0069049</th>\n",
       "      <td>movie</td>\n",
       "      <td>The Other Side Of The Wind (2018)</td>\n",
       "      <td>2018</td>\n",
       "      <td>122</td>\n",
       "      <td>Drama</td>\n",
       "      <td>6.7</td>\n",
       "      <td>7777</td>\n",
       "    </tr>\n",
       "    <tr>\n",
       "      <th>tt0096235</th>\n",
       "      <td>movie</td>\n",
       "      <td>Taxi Killer (2022)</td>\n",
       "      <td>2022</td>\n",
       "      <td>106</td>\n",
       "      <td>Action,Crime,Drama</td>\n",
       "      <td>5.9</td>\n",
       "      <td>63</td>\n",
       "    </tr>\n",
       "  </tbody>\n",
       "</table>\n",
       "</div>"
      ],
      "text/plain": [
       "          titleType                                        movie_title  \\\n",
       "tconst                                                                   \n",
       "tt0013274     movie                 Istoriya Grazhdanskoy Voyny (2021)   \n",
       "tt0062336     movie  The Tango Of The Widower And Its Distorting Mi...   \n",
       "tt0068865     movie                         Lives Of Performers (2016)   \n",
       "tt0069049     movie                  The Other Side Of The Wind (2018)   \n",
       "tt0096235     movie                                 Taxi Killer (2022)   \n",
       "\n",
       "           startYear  runtimeMinutes              genres  averageRating  \\\n",
       "tconst                                                                    \n",
       "tt0013274       2021              94         Documentary            6.8   \n",
       "tt0062336       2020              70               Drama            6.4   \n",
       "tt0068865       2016              90               Drama            5.4   \n",
       "tt0069049       2018             122               Drama            6.7   \n",
       "tt0096235       2022             106  Action,Crime,Drama            5.9   \n",
       "\n",
       "           numVotes  \n",
       "tconst               \n",
       "tt0013274        57  \n",
       "tt0062336       176  \n",
       "tt0068865        75  \n",
       "tt0069049      7777  \n",
       "tt0096235        63  "
      ]
     },
     "execution_count": 58,
     "metadata": {},
     "output_type": "execute_result"
    }
   ],
   "source": [
    "# inner join on df3 and df4\n",
    "df_imdb = df3.join(df4, how='inner')\n",
    "df_imdb.head()"
   ]
  },
  {
   "cell_type": "code",
   "execution_count": 59,
   "metadata": {},
   "outputs": [
    {
     "data": {
      "text/html": [
       "<div>\n",
       "<style scoped>\n",
       "    .dataframe tbody tr th:only-of-type {\n",
       "        vertical-align: middle;\n",
       "    }\n",
       "\n",
       "    .dataframe tbody tr th {\n",
       "        vertical-align: top;\n",
       "    }\n",
       "\n",
       "    .dataframe thead th {\n",
       "        text-align: right;\n",
       "    }\n",
       "</style>\n",
       "<table border=\"1\" class=\"dataframe\">\n",
       "  <thead>\n",
       "    <tr style=\"text-align: right;\">\n",
       "      <th></th>\n",
       "      <th>startYear</th>\n",
       "      <th>runtimeMinutes</th>\n",
       "      <th>averageRating</th>\n",
       "      <th>numVotes</th>\n",
       "    </tr>\n",
       "  </thead>\n",
       "  <tbody>\n",
       "    <tr>\n",
       "      <th>count</th>\n",
       "      <td>126061.00</td>\n",
       "      <td>126061.00</td>\n",
       "      <td>126061.00</td>\n",
       "      <td>126061.00</td>\n",
       "    </tr>\n",
       "    <tr>\n",
       "      <th>mean</th>\n",
       "      <td>2015.74</td>\n",
       "      <td>92.92</td>\n",
       "      <td>6.27</td>\n",
       "      <td>3794.75</td>\n",
       "    </tr>\n",
       "    <tr>\n",
       "      <th>std</th>\n",
       "      <td>3.87</td>\n",
       "      <td>197.85</td>\n",
       "      <td>1.46</td>\n",
       "      <td>34325.73</td>\n",
       "    </tr>\n",
       "    <tr>\n",
       "      <th>min</th>\n",
       "      <td>2009.00</td>\n",
       "      <td>1.00</td>\n",
       "      <td>1.00</td>\n",
       "      <td>5.00</td>\n",
       "    </tr>\n",
       "    <tr>\n",
       "      <th>25%</th>\n",
       "      <td>2013.00</td>\n",
       "      <td>80.00</td>\n",
       "      <td>5.40</td>\n",
       "      <td>20.00</td>\n",
       "    </tr>\n",
       "    <tr>\n",
       "      <th>50%</th>\n",
       "      <td>2016.00</td>\n",
       "      <td>90.00</td>\n",
       "      <td>6.40</td>\n",
       "      <td>75.00</td>\n",
       "    </tr>\n",
       "    <tr>\n",
       "      <th>75%</th>\n",
       "      <td>2019.00</td>\n",
       "      <td>103.00</td>\n",
       "      <td>7.30</td>\n",
       "      <td>406.00</td>\n",
       "    </tr>\n",
       "    <tr>\n",
       "      <th>max</th>\n",
       "      <td>2022.00</td>\n",
       "      <td>51420.00</td>\n",
       "      <td>10.00</td>\n",
       "      <td>2446691.00</td>\n",
       "    </tr>\n",
       "  </tbody>\n",
       "</table>\n",
       "</div>"
      ],
      "text/plain": [
       "       startYear runtimeMinutes averageRating    numVotes\n",
       "count  126061.00      126061.00     126061.00   126061.00\n",
       "mean     2015.74          92.92          6.27     3794.75\n",
       "std         3.87         197.85          1.46    34325.73\n",
       "min      2009.00           1.00          1.00        5.00\n",
       "25%      2013.00          80.00          5.40       20.00\n",
       "50%      2016.00          90.00          6.40       75.00\n",
       "75%      2019.00         103.00          7.30      406.00\n",
       "max      2022.00       51420.00         10.00  2446691.00"
      ]
     },
     "execution_count": 59,
     "metadata": {},
     "output_type": "execute_result"
    }
   ],
   "source": [
    "# printing the descriptive statistics for the new dataframe\n",
    "df_imdb.describe().apply(lambda x: x.apply('{0:.2f}'.format))"
   ]
  },
  {
   "cell_type": "markdown",
   "metadata": {},
   "source": [
    "Looking at the descriptive statistics, we can see that the longest movie length is 51420 minutes, which is the equivalent of 857 hours, significantly longer than I would have expected an average movie to be. I decided to look at the distribution of runtime minutes via a boxplot."
   ]
  },
  {
   "cell_type": "code",
   "execution_count": 60,
   "metadata": {},
   "outputs": [
    {
     "data": {
      "image/png": "[encoded data removed]",
      "text/plain": [
       "<Figure size 800x400 with 2 Axes>"
      ]
     },
     "metadata": {},
     "output_type": "display_data"
    }
   ],
   "source": [
    "# generating boxplots of all movies and their runtime minutes\n",
    "fig, axes = plt.subplots(1,2,figsize=(8,4))\n",
    "axes[0].boxplot(df_imdb['runtimeMinutes'])\n",
    "axes[1].boxplot(df_imdb['runtimeMinutes'], showfliers=False)\n",
    "axes[0].title.set_text('With Outliers')\n",
    "axes[1].title.set_text('Without Outliers')\n",
    "axes[0].set_xlabel(\"Movies from IMDb\")\n",
    "axes[1].set_xlabel(\"Movies from IMDb\")\n",
    "axes[0].set_ylabel(\"Runtime Minutes\")\n",
    "axes[1].set_ylabel(\"Runtime Minutes\")\n",
    "axes[0].xaxis.set_tick_params(labelbottom=False)\n",
    "axes[1].xaxis.set_tick_params(labelbottom=False);"
   ]
  },
  {
   "cell_type": "markdown",
   "metadata": {},
   "source": [
    "From the boxplots, we can see multiple movies that exceed 10000 minutes (166.67 hours), which may significantly skew our data. For the sake of regular distribution, I will be focusing on movies less than 300 minutes (5 hours). \n",
    "\n",
    "I also decided to categorise runtime minutes into 30 minute increments so that we could compare groups of movie lengths."
   ]
  },
  {
   "cell_type": "code",
   "execution_count": 61,
   "metadata": {},
   "outputs": [],
   "source": [
    "# remove movies that exceed 300 minutes \n",
    "df_imdb = df_imdb[df_imdb.runtimeMinutes < 300]"
   ]
  },
  {
   "cell_type": "code",
   "execution_count": 62,
   "metadata": {},
   "outputs": [],
   "source": [
    "# binning runtime minutes data into 30 minutes increments\n",
    "df_imdb['runtimeMinutes'] = pd.cut(df_imdb['runtimeMinutes'], \\\n",
    "       bins = [0, 30, 60, 90, 120, 150, 180, 210, 240, 270, 300], \\\n",
    "       labels=['< 30', '30-60', '60-90', '90-120', '120-150', '150-180', '180-210', '210-240', '240-270', '270+'])"
   ]
  },
  {
   "cell_type": "markdown",
   "metadata": {},
   "source": [
    "Finally, I dropped ```titleType```, ```startYear```, and ```genres``` as they irrelevant to my analysis."
   ]
  },
  {
   "cell_type": "code",
   "execution_count": 63,
   "metadata": {},
   "outputs": [],
   "source": [
    "# dropping unnecessary columns\n",
    "df_imdb.drop(['titleType', 'genres'], axis=1, inplace=True)"
   ]
  },
  {
   "cell_type": "code",
   "execution_count": 64,
   "metadata": {},
   "outputs": [
    {
     "data": {
      "text/html": [
       "<div>\n",
       "<style scoped>\n",
       "    .dataframe tbody tr th:only-of-type {\n",
       "        vertical-align: middle;\n",
       "    }\n",
       "\n",
       "    .dataframe tbody tr th {\n",
       "        vertical-align: top;\n",
       "    }\n",
       "\n",
       "    .dataframe thead th {\n",
       "        text-align: right;\n",
       "    }\n",
       "</style>\n",
       "<table border=\"1\" class=\"dataframe\">\n",
       "  <thead>\n",
       "    <tr style=\"text-align: right;\">\n",
       "      <th></th>\n",
       "      <th>movie_title</th>\n",
       "      <th>startYear</th>\n",
       "      <th>runtimeMinutes</th>\n",
       "      <th>averageRating</th>\n",
       "      <th>numVotes</th>\n",
       "    </tr>\n",
       "    <tr>\n",
       "      <th>tconst</th>\n",
       "      <th></th>\n",
       "      <th></th>\n",
       "      <th></th>\n",
       "      <th></th>\n",
       "      <th></th>\n",
       "    </tr>\n",
       "  </thead>\n",
       "  <tbody>\n",
       "    <tr>\n",
       "      <th>tt0013274</th>\n",
       "      <td>Istoriya Grazhdanskoy Voyny (2021)</td>\n",
       "      <td>2021</td>\n",
       "      <td>90-120</td>\n",
       "      <td>6.8</td>\n",
       "      <td>57</td>\n",
       "    </tr>\n",
       "    <tr>\n",
       "      <th>tt0062336</th>\n",
       "      <td>The Tango Of The Widower And Its Distorting Mi...</td>\n",
       "      <td>2020</td>\n",
       "      <td>60-90</td>\n",
       "      <td>6.4</td>\n",
       "      <td>176</td>\n",
       "    </tr>\n",
       "    <tr>\n",
       "      <th>tt0068865</th>\n",
       "      <td>Lives Of Performers (2016)</td>\n",
       "      <td>2016</td>\n",
       "      <td>60-90</td>\n",
       "      <td>5.4</td>\n",
       "      <td>75</td>\n",
       "    </tr>\n",
       "    <tr>\n",
       "      <th>tt0069049</th>\n",
       "      <td>The Other Side Of The Wind (2018)</td>\n",
       "      <td>2018</td>\n",
       "      <td>120-150</td>\n",
       "      <td>6.7</td>\n",
       "      <td>7777</td>\n",
       "    </tr>\n",
       "    <tr>\n",
       "      <th>tt0096235</th>\n",
       "      <td>Taxi Killer (2022)</td>\n",
       "      <td>2022</td>\n",
       "      <td>90-120</td>\n",
       "      <td>5.9</td>\n",
       "      <td>63</td>\n",
       "    </tr>\n",
       "  </tbody>\n",
       "</table>\n",
       "</div>"
      ],
      "text/plain": [
       "                                                 movie_title  startYear  \\\n",
       "tconst                                                                    \n",
       "tt0013274                 Istoriya Grazhdanskoy Voyny (2021)       2021   \n",
       "tt0062336  The Tango Of The Widower And Its Distorting Mi...       2020   \n",
       "tt0068865                         Lives Of Performers (2016)       2016   \n",
       "tt0069049                  The Other Side Of The Wind (2018)       2018   \n",
       "tt0096235                                 Taxi Killer (2022)       2022   \n",
       "\n",
       "          runtimeMinutes  averageRating  numVotes  \n",
       "tconst                                             \n",
       "tt0013274         90-120            6.8        57  \n",
       "tt0062336          60-90            6.4       176  \n",
       "tt0068865          60-90            5.4        75  \n",
       "tt0069049        120-150            6.7      7777  \n",
       "tt0096235         90-120            5.9        63  "
      ]
     },
     "execution_count": 64,
     "metadata": {},
     "output_type": "execute_result"
    }
   ],
   "source": [
    "df_imdb.head()"
   ]
  },
  {
   "cell_type": "markdown",
   "metadata": {},
   "source": [
    "## Data Analysis\n",
    "### The Numbers data\n",
    "\n",
    "#### What is the relationship between production budget and global profit/ profitability?"
   ]
  },
  {
   "cell_type": "markdown",
   "metadata": {},
   "source": [
    "I began my data analysis by exploring the relationship between production budget and global profit using The Numbers data."
   ]
  },
  {
   "cell_type": "code",
   "execution_count": 65,
   "metadata": {},
   "outputs": [
    {
     "data": {
      "image/png": "[encoded data removed]",
      "text/plain": [
       "<Figure size 1200x700 with 1 Axes>"
      ]
     },
     "metadata": {},
     "output_type": "display_data"
    }
   ],
   "source": [
    "fig, ax = plt.subplots(figsize=(12,7))\n",
    "\n",
    "sns.regplot(x='production_budget_mil', y='global_profit_mil', data=df1).set(title='Production Budget vs. Global Profit')\n",
    "plt.axvline(0, color='black', linewidth=1, alpha=0.6)\n",
    "plt.axhline(0, color='black', linewidth=1, alpha=0.6)\n",
    "\n",
    "plt.xlabel('Production Budget (MM)')\n",
    "plt.ylabel('Global Profit (MM)');"
   ]
  },
  {
   "cell_type": "code",
   "execution_count": 66,
   "metadata": {},
   "outputs": [
    {
     "name": "stdout",
     "output_type": "stream",
     "text": [
      "Calculated Pearson Correlation (r) between production budget and global profit is: 0.68\n"
     ]
    }
   ],
   "source": [
    "# looking at the correlation between production budget and global profit using Pearson's correlation coefficient r\n",
    "corr_budget_profit = np.corrcoef(df1.production_budget_mil, df1.global_profit_mil)[0,1] \n",
    "print(f'Calculated Pearson Correlation (r) between production budget and global profit is: \\\n",
    "{\"{0:.2f}\".format(corr_budget_profit)}')"
   ]
  },
  {
   "cell_type": "markdown",
   "metadata": {},
   "source": [
    "From the line of regression in the above scatter plot, we can see that as production budget increases, there is also a general increase in global profit although there is some variability, especially as move up the production budget axis. Pearson's correlation coefficient measures to be r=0.68, which shows a moderate to strong positive correlation between production budget and global profit. \n",
    "\n",
    "While this confirms that the higher budget the more global profit the film will pull in, we need to focus on our ROI metric to assess profitability."
   ]
  },
  {
   "cell_type": "code",
   "execution_count": 67,
   "metadata": {},
   "outputs": [
    {
     "data": {
      "image/png": "[encoded data removed]",
      "text/plain": [
       "<Figure size 800x600 with 1 Axes>"
      ]
     },
     "metadata": {},
     "output_type": "display_data"
    }
   ],
   "source": [
    "fig, ax = plt.subplots(figsize=(8,6))\n",
    "\n",
    "sns.regplot(x='production_budget_mil', y='roi', data=df1).set(title='Production Budget vs. ROI')\n",
    "plt.axvline(0, color='black', linewidth=1, alpha=0.6)\n",
    "plt.axhline(0, color='black', linewidth=1, alpha=0.6)\n",
    "\n",
    "plt.xlabel('Production Budget (MM)')\n",
    "plt.ylabel('ROI (%)');"
   ]
  },
  {
   "cell_type": "code",
   "execution_count": 68,
   "metadata": {},
   "outputs": [
    {
     "name": "stdout",
     "output_type": "stream",
     "text": [
      "Calculated Pearson Correlation (r) between production budget and ROI is: -0.04\n"
     ]
    }
   ],
   "source": [
    "# looking at the correlation between production budget and global profit using Pearson's correlation coefficient r\n",
    "corr_budget_roi = np.corrcoef(df1.production_budget_mil, df1.roi)[0,1] \n",
    "print(f'Calculated Pearson Correlation (r) between production budget and ROI is: \\\n",
    "{\"{0:.2f}\".format(corr_budget_roi)}')"
   ]
  },
  {
   "cell_type": "markdown",
   "metadata": {},
   "source": [
    "We can see that there is great variability between production budget and ROI, with r=-0.04 showing a low negative correlation between the two variables. From a visual assessment of the above visualisation, my hypothesis is that the low-budget films yielding an extremely high ROI are skewing results. \n",
    "\n",
    "To investigate this further, I looked into the relationship between each budget level with production budget, worldwide gross, global profit and ROI. I focused on the median given the presence of outliers."
   ]
  },
  {
   "cell_type": "code",
   "execution_count": 69,
   "metadata": {},
   "outputs": [
    {
     "data": {
      "text/html": [
       "<div>\n",
       "<style scoped>\n",
       "    .dataframe tbody tr th:only-of-type {\n",
       "        vertical-align: middle;\n",
       "    }\n",
       "\n",
       "    .dataframe tbody tr th {\n",
       "        vertical-align: top;\n",
       "    }\n",
       "\n",
       "    .dataframe thead th {\n",
       "        text-align: right;\n",
       "    }\n",
       "</style>\n",
       "<table border=\"1\" class=\"dataframe\">\n",
       "  <thead>\n",
       "    <tr style=\"text-align: right;\">\n",
       "      <th></th>\n",
       "      <th>production_budget_tier</th>\n",
       "      <th>production_budget_mil_median</th>\n",
       "      <th>worldwide_gross_mil_median</th>\n",
       "      <th>global_profit_mil_median</th>\n",
       "      <th>roi_median</th>\n",
       "      <th>count_of_movies</th>\n",
       "    </tr>\n",
       "  </thead>\n",
       "  <tbody>\n",
       "    <tr>\n",
       "      <th>0</th>\n",
       "      <td>Low</td>\n",
       "      <td>2.0</td>\n",
       "      <td>1.577585</td>\n",
       "      <td>0.088390</td>\n",
       "      <td>7.009267</td>\n",
       "      <td>459</td>\n",
       "    </tr>\n",
       "    <tr>\n",
       "      <th>1</th>\n",
       "      <td>Medium</td>\n",
       "      <td>20.0</td>\n",
       "      <td>36.588512</td>\n",
       "      <td>14.551283</td>\n",
       "      <td>80.738155</td>\n",
       "      <td>1183</td>\n",
       "    </tr>\n",
       "    <tr>\n",
       "      <th>2</th>\n",
       "      <td>High</td>\n",
       "      <td>100.0</td>\n",
       "      <td>276.471539</td>\n",
       "      <td>160.845456</td>\n",
       "      <td>162.844521</td>\n",
       "      <td>498</td>\n",
       "    </tr>\n",
       "  </tbody>\n",
       "</table>\n",
       "</div>"
      ],
      "text/plain": [
       "  production_budget_tier  production_budget_mil_median  \\\n",
       "0                    Low                           2.0   \n",
       "1                 Medium                          20.0   \n",
       "2                   High                         100.0   \n",
       "\n",
       "   worldwide_gross_mil_median  global_profit_mil_median  roi_median  \\\n",
       "0                    1.577585                  0.088390    7.009267   \n",
       "1                   36.588512                 14.551283   80.738155   \n",
       "2                  276.471539                160.845456  162.844521   \n",
       "\n",
       "   count_of_movies  \n",
       "0              459  \n",
       "1             1183  \n",
       "2              498  "
      ]
     },
     "execution_count": 69,
     "metadata": {},
     "output_type": "execute_result"
    }
   ],
   "source": [
    "# creating a new dataframe grouped by budget tier and looking at the median statistics of each numeric column \n",
    "groupedby_budget = df1.groupby(df1.production_budget_tier).median(numeric_only=True)\n",
    "groupedby_budget.columns = [col + '_median' for col in groupedby_budget.columns]\n",
    "# appending a column with the count of movies to see distribution\n",
    "groupedby_budget['count_of_movies'] = df1.groupby(df1.production_budget_tier)['movie_title'].count()\n",
    "groupedby_budget.reset_index(inplace=True)\n",
    "groupedby_budget"
   ]
  },
  {
   "cell_type": "code",
   "execution_count": 70,
   "metadata": {},
   "outputs": [
    {
     "data": {
      "image/png": "[encoded data removed]",
      "text/plain": [
       "<Figure size 600x400 with 1 Axes>"
      ]
     },
     "metadata": {},
     "output_type": "display_data"
    }
   ],
   "source": [
    "fig, ax = plt.subplots(figsize=(6,4))\n",
    "sns.boxplot(x=df1.roi, y=df1.production_budget_tier, showfliers=False, palette='vlag').set(title=\"ROI by Production Budget Category\")\n",
    "\n",
    "plt.xlabel('ROI (%)')\n",
    "plt.ylabel('Production Budget')\n",
    "plt.axvline(100, color='black', linestyle='--', linewidth=1, alpha=0.6)\n",
    "plt.text(110,0.53, 'ROI=100', fontsize='x-small');"
   ]
  },
  {
   "cell_type": "markdown",
   "metadata": {},
   "source": [
    "We can see the high-end films yield the highest median ROI and is the only production budget category with a median higher than an ROI of 100. This supports the idea that high production budget films will typically yield a higher ROI and pull in a greater global profit.\n",
    "\n",
    "While low-budget films have the lowest median ROI of 7%, barely breaking even, it also has the highest variability with 75% of their films yielding a ROI of more than 400%. This would be an interesting avenue to explore for studios with a limited budget."
   ]
  },
  {
   "cell_type": "markdown",
   "metadata": {},
   "source": [
    "#### Does release month have a relationship on ROI?\n",
    "\n",
    "Now that we have established that for maximum profits, a higher production budget is necessary, I decided to explore whether release month had an impact on profitability. Are there certain seasons or periods where movies will generate a higher profit?\n",
    "\n",
    "I used the same method as I did when looking at the relationship between budget categories and profitability."
   ]
  },
  {
   "cell_type": "code",
   "execution_count": 71,
   "metadata": {},
   "outputs": [
    {
     "data": {
      "text/html": [
       "<div>\n",
       "<style scoped>\n",
       "    .dataframe tbody tr th:only-of-type {\n",
       "        vertical-align: middle;\n",
       "    }\n",
       "\n",
       "    .dataframe tbody tr th {\n",
       "        vertical-align: top;\n",
       "    }\n",
       "\n",
       "    .dataframe thead th {\n",
       "        text-align: right;\n",
       "    }\n",
       "</style>\n",
       "<table border=\"1\" class=\"dataframe\">\n",
       "  <thead>\n",
       "    <tr style=\"text-align: right;\">\n",
       "      <th></th>\n",
       "      <th>release_date</th>\n",
       "      <th>production_budget_mil_median</th>\n",
       "      <th>worldwide_gross_mil_median</th>\n",
       "      <th>global_profit_mil_median</th>\n",
       "      <th>roi_median</th>\n",
       "      <th>count_of_movies</th>\n",
       "    </tr>\n",
       "  </thead>\n",
       "  <tbody>\n",
       "    <tr>\n",
       "      <th>0</th>\n",
       "      <td>1</td>\n",
       "      <td>23.0</td>\n",
       "      <td>48.437072</td>\n",
       "      <td>19.780530</td>\n",
       "      <td>112.033036</td>\n",
       "      <td>142</td>\n",
       "    </tr>\n",
       "    <tr>\n",
       "      <th>1</th>\n",
       "      <td>2</td>\n",
       "      <td>26.5</td>\n",
       "      <td>51.392713</td>\n",
       "      <td>22.200023</td>\n",
       "      <td>116.267777</td>\n",
       "      <td>156</td>\n",
       "    </tr>\n",
       "    <tr>\n",
       "      <th>2</th>\n",
       "      <td>3</td>\n",
       "      <td>20.0</td>\n",
       "      <td>36.715516</td>\n",
       "      <td>14.953905</td>\n",
       "      <td>89.926215</td>\n",
       "      <td>182</td>\n",
       "    </tr>\n",
       "    <tr>\n",
       "      <th>3</th>\n",
       "      <td>4</td>\n",
       "      <td>17.0</td>\n",
       "      <td>23.910210</td>\n",
       "      <td>6.594052</td>\n",
       "      <td>52.339267</td>\n",
       "      <td>189</td>\n",
       "    </tr>\n",
       "    <tr>\n",
       "      <th>4</th>\n",
       "      <td>5</td>\n",
       "      <td>25.0</td>\n",
       "      <td>58.329674</td>\n",
       "      <td>30.621358</td>\n",
       "      <td>118.073048</td>\n",
       "      <td>158</td>\n",
       "    </tr>\n",
       "  </tbody>\n",
       "</table>\n",
       "</div>"
      ],
      "text/plain": [
       "   release_date  production_budget_mil_median  worldwide_gross_mil_median  \\\n",
       "0             1                          23.0                   48.437072   \n",
       "1             2                          26.5                   51.392713   \n",
       "2             3                          20.0                   36.715516   \n",
       "3             4                          17.0                   23.910210   \n",
       "4             5                          25.0                   58.329674   \n",
       "\n",
       "   global_profit_mil_median  roi_median  count_of_movies  \n",
       "0                 19.780530  112.033036              142  \n",
       "1                 22.200023  116.267777              156  \n",
       "2                 14.953905   89.926215              182  \n",
       "3                  6.594052   52.339267              189  \n",
       "4                 30.621358  118.073048              158  "
      ]
     },
     "execution_count": 71,
     "metadata": {},
     "output_type": "execute_result"
    }
   ],
   "source": [
    "groupedby_month = df1.groupby(df1.release_date.dt.month).median(numeric_only=True)\n",
    "groupedby_month.columns = [col + '_median' for col in groupedby_month.columns]\n",
    "groupedby_month['count_of_movies'] = df1.groupby(df1.release_date.dt.month)['movie_title'].count()\n",
    "groupedby_month.reset_index(inplace=True)\n",
    "groupedby_month.head()"
   ]
  },
  {
   "cell_type": "code",
   "execution_count": 72,
   "metadata": {},
   "outputs": [
    {
     "data": {
      "image/png": "[encoded data removed]",
      "text/plain": [
       "<Figure size 1300x500 with 2 Axes>"
      ]
     },
     "metadata": {},
     "output_type": "display_data"
    }
   ],
   "source": [
    "fig, axes = plt.subplots(1,2,figsize=(13,5))\n",
    "sns.lineplot(x=groupedby_month.release_date, y=groupedby_month.roi_median, ax=axes[0]).set(title=\"ROI Median by Release Month\")\n",
    "sns.boxplot(x=df1.release_date.dt.month, y=df1.global_profit_mil, showfliers=False, ax=axes[1]).set(title=\"Global Profit by Release Month\")\n",
    "axes[0].set_xlabel(\"Release Month\")\n",
    "axes[1].set_xlabel(\"Release Month\")\n",
    "axes[0].set_ylabel(\"ROI (%)\")\n",
    "axes[1].set_ylabel(\"Global Profit (MM)\");"
   ]
  },
  {
   "cell_type": "markdown",
   "metadata": {},
   "source": [
    "We can see that median ROI tends to be the highest during summer months of the Northern hemisphere and towards the end of the year. This aligns with the holiday periods of the Northern hemisphere and suggests people are more likely to watch movies during these months. We also see an increase in February, which potentially could be attributed to Valentine's Day.\n",
    "\n",
    "We will now investigate whether genre has an impact on profitability."
   ]
  },
  {
   "cell_type": "markdown",
   "metadata": {},
   "source": [
    "### The Numbers and TMDb\n",
    "#### Are certain genres more profitable than other?\n",
    "\n",
    "Looking at the joined Numbers and TMDb dataframe, we can see that movies are assigned to multiple genres. So that we can investigate each genre individually, I have decided to explode the dataframe so that each movie may appear multiple times but the genre exists on its own row."
   ]
  },
  {
   "cell_type": "code",
   "execution_count": 73,
   "metadata": {},
   "outputs": [
    {
     "data": {
      "text/html": [
       "<div>\n",
       "<style scoped>\n",
       "    .dataframe tbody tr th:only-of-type {\n",
       "        vertical-align: middle;\n",
       "    }\n",
       "\n",
       "    .dataframe tbody tr th {\n",
       "        vertical-align: top;\n",
       "    }\n",
       "\n",
       "    .dataframe thead th {\n",
       "        text-align: right;\n",
       "    }\n",
       "</style>\n",
       "<table border=\"1\" class=\"dataframe\">\n",
       "  <thead>\n",
       "    <tr style=\"text-align: right;\">\n",
       "      <th></th>\n",
       "      <th>release_date</th>\n",
       "      <th>movie_title</th>\n",
       "      <th>production_budget_mil</th>\n",
       "      <th>worldwide_gross_mil</th>\n",
       "      <th>global_profit_mil</th>\n",
       "      <th>roi</th>\n",
       "      <th>production_budget_tier</th>\n",
       "      <th>genre_ids</th>\n",
       "      <th>vote_average</th>\n",
       "      <th>vote_count</th>\n",
       "    </tr>\n",
       "  </thead>\n",
       "  <tbody>\n",
       "    <tr>\n",
       "      <th>0</th>\n",
       "      <td>2009-12-18</td>\n",
       "      <td>Avatar (2009)</td>\n",
       "      <td>425.0</td>\n",
       "      <td>2776.345279</td>\n",
       "      <td>2351.345279</td>\n",
       "      <td>553.257713</td>\n",
       "      <td>High</td>\n",
       "      <td>Adventure</td>\n",
       "      <td>7.4</td>\n",
       "      <td>18676</td>\n",
       "    </tr>\n",
       "    <tr>\n",
       "      <th>0</th>\n",
       "      <td>2009-12-18</td>\n",
       "      <td>Avatar (2009)</td>\n",
       "      <td>425.0</td>\n",
       "      <td>2776.345279</td>\n",
       "      <td>2351.345279</td>\n",
       "      <td>553.257713</td>\n",
       "      <td>High</td>\n",
       "      <td>Fantasy</td>\n",
       "      <td>7.4</td>\n",
       "      <td>18676</td>\n",
       "    </tr>\n",
       "    <tr>\n",
       "      <th>0</th>\n",
       "      <td>2009-12-18</td>\n",
       "      <td>Avatar (2009)</td>\n",
       "      <td>425.0</td>\n",
       "      <td>2776.345279</td>\n",
       "      <td>2351.345279</td>\n",
       "      <td>553.257713</td>\n",
       "      <td>High</td>\n",
       "      <td>Action</td>\n",
       "      <td>7.4</td>\n",
       "      <td>18676</td>\n",
       "    </tr>\n",
       "    <tr>\n",
       "      <th>0</th>\n",
       "      <td>2009-12-18</td>\n",
       "      <td>Avatar (2009)</td>\n",
       "      <td>425.0</td>\n",
       "      <td>2776.345279</td>\n",
       "      <td>2351.345279</td>\n",
       "      <td>553.257713</td>\n",
       "      <td>High</td>\n",
       "      <td>Science Fiction</td>\n",
       "      <td>7.4</td>\n",
       "      <td>18676</td>\n",
       "    </tr>\n",
       "    <tr>\n",
       "      <th>1</th>\n",
       "      <td>2011-05-20</td>\n",
       "      <td>Pirates Of The Caribbean: On Stranger Tides (2...</td>\n",
       "      <td>410.6</td>\n",
       "      <td>1045.663875</td>\n",
       "      <td>635.063875</td>\n",
       "      <td>154.667286</td>\n",
       "      <td>High</td>\n",
       "      <td>Adventure</td>\n",
       "      <td>6.4</td>\n",
       "      <td>8571</td>\n",
       "    </tr>\n",
       "  </tbody>\n",
       "</table>\n",
       "</div>"
      ],
      "text/plain": [
       "  release_date                                        movie_title  \\\n",
       "0   2009-12-18                                      Avatar (2009)   \n",
       "0   2009-12-18                                      Avatar (2009)   \n",
       "0   2009-12-18                                      Avatar (2009)   \n",
       "0   2009-12-18                                      Avatar (2009)   \n",
       "1   2011-05-20  Pirates Of The Caribbean: On Stranger Tides (2...   \n",
       "\n",
       "   production_budget_mil  worldwide_gross_mil  global_profit_mil         roi  \\\n",
       "0                  425.0          2776.345279        2351.345279  553.257713   \n",
       "0                  425.0          2776.345279        2351.345279  553.257713   \n",
       "0                  425.0          2776.345279        2351.345279  553.257713   \n",
       "0                  425.0          2776.345279        2351.345279  553.257713   \n",
       "1                  410.6          1045.663875         635.063875  154.667286   \n",
       "\n",
       "  production_budget_tier        genre_ids  vote_average  vote_count  \n",
       "0                   High        Adventure           7.4       18676  \n",
       "0                   High          Fantasy           7.4       18676  \n",
       "0                   High           Action           7.4       18676  \n",
       "0                   High  Science Fiction           7.4       18676  \n",
       "1                   High        Adventure           6.4        8571  "
      ]
     },
     "execution_count": 73,
     "metadata": {},
     "output_type": "execute_result"
    }
   ],
   "source": [
    "# exploding by genre so that we can groupby genre\n",
    "df_bygenre = df_tn_tmdb.explode('genre_ids')\n",
    "df_bygenre.head()"
   ]
  },
  {
   "cell_type": "code",
   "execution_count": 74,
   "metadata": {},
   "outputs": [
    {
     "data": {
      "text/html": [
       "<div>\n",
       "<style scoped>\n",
       "    .dataframe tbody tr th:only-of-type {\n",
       "        vertical-align: middle;\n",
       "    }\n",
       "\n",
       "    .dataframe tbody tr th {\n",
       "        vertical-align: top;\n",
       "    }\n",
       "\n",
       "    .dataframe thead th {\n",
       "        text-align: right;\n",
       "    }\n",
       "</style>\n",
       "<table border=\"1\" class=\"dataframe\">\n",
       "  <thead>\n",
       "    <tr style=\"text-align: right;\">\n",
       "      <th></th>\n",
       "      <th>genre_ids</th>\n",
       "      <th>production_budget_mil_median</th>\n",
       "      <th>worldwide_gross_mil_median</th>\n",
       "      <th>global_profit_mil_median</th>\n",
       "      <th>roi_median</th>\n",
       "      <th>vote_average_median</th>\n",
       "      <th>vote_count_median</th>\n",
       "      <th>count_of_movies</th>\n",
       "    </tr>\n",
       "  </thead>\n",
       "  <tbody>\n",
       "    <tr>\n",
       "      <th>0</th>\n",
       "      <td>Action</td>\n",
       "      <td>61.0</td>\n",
       "      <td>141.507355</td>\n",
       "      <td>70.497035</td>\n",
       "      <td>129.114186</td>\n",
       "      <td>6.20</td>\n",
       "      <td>2394.0</td>\n",
       "      <td>387</td>\n",
       "    </tr>\n",
       "    <tr>\n",
       "      <th>1</th>\n",
       "      <td>Adventure</td>\n",
       "      <td>110.0</td>\n",
       "      <td>276.471539</td>\n",
       "      <td>153.180847</td>\n",
       "      <td>166.249253</td>\n",
       "      <td>6.35</td>\n",
       "      <td>3186.0</td>\n",
       "      <td>272</td>\n",
       "    </tr>\n",
       "    <tr>\n",
       "      <th>2</th>\n",
       "      <td>Animation</td>\n",
       "      <td>85.0</td>\n",
       "      <td>333.771037</td>\n",
       "      <td>219.150134</td>\n",
       "      <td>200.916073</td>\n",
       "      <td>6.60</td>\n",
       "      <td>1851.0</td>\n",
       "      <td>97</td>\n",
       "    </tr>\n",
       "    <tr>\n",
       "      <th>3</th>\n",
       "      <td>Comedy</td>\n",
       "      <td>28.0</td>\n",
       "      <td>69.807260</td>\n",
       "      <td>35.768579</td>\n",
       "      <td>155.968362</td>\n",
       "      <td>6.20</td>\n",
       "      <td>968.0</td>\n",
       "      <td>493</td>\n",
       "    </tr>\n",
       "    <tr>\n",
       "      <th>4</th>\n",
       "      <td>Crime</td>\n",
       "      <td>30.0</td>\n",
       "      <td>46.341481</td>\n",
       "      <td>16.344860</td>\n",
       "      <td>66.971321</td>\n",
       "      <td>6.30</td>\n",
       "      <td>1186.0</td>\n",
       "      <td>202</td>\n",
       "    </tr>\n",
       "  </tbody>\n",
       "</table>\n",
       "</div>"
      ],
      "text/plain": [
       "   genre_ids  production_budget_mil_median  worldwide_gross_mil_median  \\\n",
       "0     Action                          61.0                  141.507355   \n",
       "1  Adventure                         110.0                  276.471539   \n",
       "2  Animation                          85.0                  333.771037   \n",
       "3     Comedy                          28.0                   69.807260   \n",
       "4      Crime                          30.0                   46.341481   \n",
       "\n",
       "   global_profit_mil_median  roi_median  vote_average_median  \\\n",
       "0                 70.497035  129.114186                 6.20   \n",
       "1                153.180847  166.249253                 6.35   \n",
       "2                219.150134  200.916073                 6.60   \n",
       "3                 35.768579  155.968362                 6.20   \n",
       "4                 16.344860   66.971321                 6.30   \n",
       "\n",
       "   vote_count_median  count_of_movies  \n",
       "0             2394.0              387  \n",
       "1             3186.0              272  \n",
       "2             1851.0               97  \n",
       "3              968.0              493  \n",
       "4             1186.0              202  "
      ]
     },
     "execution_count": 74,
     "metadata": {},
     "output_type": "execute_result"
    }
   ],
   "source": [
    "groupedby_genre = df_bygenre.groupby(df_bygenre.genre_ids).median(numeric_only=True)\n",
    "groupedby_genre.columns = [col + '_median' for col in groupedby_genre.columns]\n",
    "groupedby_genre['count_of_movies'] = df_bygenre.groupby(df_bygenre.genre_ids)['movie_title'].count()\n",
    "groupedby_genre.reset_index(inplace=True)\n",
    "groupedby_genre.head()"
   ]
  },
  {
   "cell_type": "code",
   "execution_count": 75,
   "metadata": {},
   "outputs": [
    {
     "data": {
      "image/png": "[encoded data removed]",
      "text/plain": [
       "<Figure size 1100x500 with 1 Axes>"
      ]
     },
     "metadata": {},
     "output_type": "display_data"
    }
   ],
   "source": [
    "fig, ax = plt.subplots(figsize=(11,5))\n",
    "sns.scatterplot(x='roi_median', y='global_profit_mil_median', data=groupedby_genre, hue='genre_ids', legend=False)\\\n",
    ".set(title='ROI Median vs. Global Profit Median by Genre')\n",
    "\n",
    "plt.xlabel('ROI (%)')\n",
    "plt.ylabel('Global Profit (MM)')\n",
    "\n",
    "# add data label for each genre\n",
    "for i, genre in enumerate(groupedby_genre.genre_ids):\n",
    "    plt.text(groupedby_genre.roi_median[i]+7, groupedby_genre.global_profit_mil_median[i]-2, genre, fontsize='small');"
   ]
  },
  {
   "cell_type": "markdown",
   "metadata": {},
   "source": [
    "From the scatterplot above, we can see that while Horror and Documentary genres have the highest ROI, their global profits are on the lower end given their smaller budgets. For the best chances of profitability, my recommendation would be to produce an Animation, Adventure, Fantasy or Family film with a high-end budget."
   ]
  },
  {
   "cell_type": "markdown",
   "metadata": {},
   "source": [
    "#### Is there a relationship between vote average and profitability?\n",
    "\n",
    "I wanted to investigate whether there was a relationship between audience sentiment (as defined by the vote average) and profitability. For example, if audiences rated a film highly, would that reflect a greater profit or ROI?\n",
    "\n",
    "Below, I looked at the Pearson correlation coefficient between vote average and ROI, and vote average and global profit."
   ]
  },
  {
   "cell_type": "code",
   "execution_count": 76,
   "metadata": {},
   "outputs": [
    {
     "name": "stdout",
     "output_type": "stream",
     "text": [
      "Calculated Pearson Correlation (r) between vote average and ROI is: 0.01\n"
     ]
    }
   ],
   "source": [
    "# calculating r for vote average and ROI\n",
    "corr_vote_avg_roi = np.corrcoef(df_tn_tmdb.vote_average, df_tn_tmdb.roi)[0,1] \n",
    "print(f'Calculated Pearson Correlation (r) between vote average and ROI is: \\\n",
    "{\"{0:.2f}\".format(corr_vote_avg_roi)}')"
   ]
  },
  {
   "cell_type": "code",
   "execution_count": 77,
   "metadata": {},
   "outputs": [
    {
     "name": "stdout",
     "output_type": "stream",
     "text": [
      "Calculated Pearson Correlation (r) between vote average and global profit is: 0.30\n"
     ]
    }
   ],
   "source": [
    "# calculating r for vote average and global profit\n",
    "corr_vote_avg_global_profit = np.corrcoef(df_tn_tmdb.vote_average, df_tn_tmdb.global_profit_mil)[0,1] \n",
    "print(f'Calculated Pearson Correlation (r) between vote average and global profit is: \\\n",
    "{\"{0:.2f}\".format(corr_vote_avg_global_profit)}')"
   ]
  },
  {
   "cell_type": "markdown",
   "metadata": {},
   "source": [
    "There appears to be no correlation between vote average and ROI and a low positive correlation between vote average and global profit."
   ]
  },
  {
   "cell_type": "markdown",
   "metadata": {},
   "source": [
    "### IMDb\n",
    "#### What is the relationship between runtimes and average ratings?\n",
    "\n",
    "While we have established there is no correlation between average ratings and the profitability of the movie, I decided to take a look at whether certain runtimes have higher averaging ratings than others to provide a guide of how long a movie should be."
   ]
  },
  {
   "cell_type": "code",
   "execution_count": 78,
   "metadata": {},
   "outputs": [
    {
     "data": {
      "text/html": [
       "<div>\n",
       "<style scoped>\n",
       "    .dataframe tbody tr th:only-of-type {\n",
       "        vertical-align: middle;\n",
       "    }\n",
       "\n",
       "    .dataframe tbody tr th {\n",
       "        vertical-align: top;\n",
       "    }\n",
       "\n",
       "    .dataframe thead th {\n",
       "        text-align: right;\n",
       "    }\n",
       "</style>\n",
       "<table border=\"1\" class=\"dataframe\">\n",
       "  <thead>\n",
       "    <tr style=\"text-align: right;\">\n",
       "      <th></th>\n",
       "      <th>runtimeMinutes</th>\n",
       "      <th>startYear_median</th>\n",
       "      <th>averageRating_median</th>\n",
       "      <th>numVotes_median</th>\n",
       "    </tr>\n",
       "  </thead>\n",
       "  <tbody>\n",
       "    <tr>\n",
       "      <th>0</th>\n",
       "      <td>&lt; 30</td>\n",
       "      <td>2014.0</td>\n",
       "      <td>7.3</td>\n",
       "      <td>16.0</td>\n",
       "    </tr>\n",
       "    <tr>\n",
       "      <th>1</th>\n",
       "      <td>30-60</td>\n",
       "      <td>2015.0</td>\n",
       "      <td>7.1</td>\n",
       "      <td>18.0</td>\n",
       "    </tr>\n",
       "    <tr>\n",
       "      <th>2</th>\n",
       "      <td>60-90</td>\n",
       "      <td>2016.0</td>\n",
       "      <td>6.3</td>\n",
       "      <td>57.0</td>\n",
       "    </tr>\n",
       "    <tr>\n",
       "      <th>3</th>\n",
       "      <td>90-120</td>\n",
       "      <td>2016.0</td>\n",
       "      <td>6.3</td>\n",
       "      <td>153.0</td>\n",
       "    </tr>\n",
       "    <tr>\n",
       "      <th>4</th>\n",
       "      <td>120-150</td>\n",
       "      <td>2017.0</td>\n",
       "      <td>6.5</td>\n",
       "      <td>251.0</td>\n",
       "    </tr>\n",
       "  </tbody>\n",
       "</table>\n",
       "</div>"
      ],
      "text/plain": [
       "  runtimeMinutes  startYear_median  averageRating_median  numVotes_median\n",
       "0           < 30            2014.0                   7.3             16.0\n",
       "1          30-60            2015.0                   7.1             18.0\n",
       "2          60-90            2016.0                   6.3             57.0\n",
       "3         90-120            2016.0                   6.3            153.0\n",
       "4        120-150            2017.0                   6.5            251.0"
      ]
     },
     "execution_count": 78,
     "metadata": {},
     "output_type": "execute_result"
    }
   ],
   "source": [
    "groupedby_runtime = df_imdb.groupby(df_imdb.runtimeMinutes).median(numeric_only=True)\n",
    "groupedby_runtime.columns = [col + '_median' for col in groupedby_runtime.columns]\n",
    "groupedby_runtime.reset_index(inplace=True)\n",
    "groupedby_runtime.head()"
   ]
  },
  {
   "cell_type": "code",
   "execution_count": 79,
   "metadata": {},
   "outputs": [
    {
     "data": {
      "image/png": "[encoded data removed]",
      "text/plain": [
       "<Figure size 1300x500 with 2 Axes>"
      ]
     },
     "metadata": {},
     "output_type": "display_data"
    }
   ],
   "source": [
    "fig, axes = plt.subplots(1, 2, figsize=(13,5))\n",
    "sns.boxplot(x='averageRating', y='runtimeMinutes', data=df_imdb, showfliers=False, palette=\"vlag\", ax=axes[0])\\\n",
    ".set(title='Runtimes vs. Average Rating')\n",
    "sns.barplot(x='runtimeMinutes', y='numVotes_median', data=groupedby_runtime, palette=\"vlag\", errorbar=None, ax=axes[1])\\\n",
    ".set(title='Median Number of Votes per Movie')\n",
    "plt.xticks(rotation=45)\n",
    "\n",
    "axes[0].set_xlabel(\"Average Rating\")\n",
    "axes[1].set_xlabel(\"Runtime (min)\")\n",
    "axes[0].set_ylabel(\"Runtime (min)\")\n",
    "axes[1].set_ylabel(\"Number of Votes\");"
   ]
  },
  {
   "cell_type": "markdown",
   "metadata": {},
   "source": [
    "We can see that as runtime increases, so does the median average rating. However, note that the median number of votes per movie also drops significantly for movies over 180 minutes. The smaller sample size suggests that these movies are less popular and appeal to a niche audience.\n",
    "\n",
    "Based on the above visualisations, it appears that movies with a runtime of 150 to 180 minutes have a higher average rating. However, it is important to keep in mind that we did not find a correlation between audience sentiment and average rating, and while audience may enjoy movies between 150 to 180 minutes more it does not speak to profitability. Further analysis will need to be conducted to assess whether runtimes impact profitability."
   ]
  },
  {
   "cell_type": "markdown",
   "metadata": {},
   "source": [
    "## Conclusions\n",
    "\n",
    "From the above analysis, I would recommend the following actionable insights to produce a successful film: \n",
    "\n",
    "* **Invest in a high-end production budget of at least 50 million USD to maximise profitability.** While low-budget movies have the potential to yield significant ROI, profits will remain low. High-end films not only yield a high ROI but also a signficant global profit.\n",
    "* **Produce an Animated film within the Adventure, Fantasy, and/or Family genre.** The median global profit of an Animation film is over $200MM with a median ROI of 200%. Adventure, Fantasy and Family genres have also shown to yield high ROI and global profits. \n",
    "* **Release the film during July.** July sees the highest median ROI and greatest median global profits. This month corresponds with summer holidays in the Northern hemisphere and it is likely more people, particularly families, are watching movies during this break."
   ]
  },
  {
   "cell_type": "markdown",
   "metadata": {},
   "source": [
    "## Evaluation\n",
    "\n",
    "#### Limitations and Further Considerations \n",
    "\n",
    "\n",
    "A significant limitation of this analysis is that the data was limited to 2019. Below is a graph that demonstrates the impact of COVID-19 on the number of films released per year:"
   ]
  },
  {
   "cell_type": "code",
   "execution_count": 80,
   "metadata": {},
   "outputs": [
    {
     "data": {
      "image/png": "[encoded data removed]",
      "text/plain": [
       "<Figure size 640x480 with 1 Axes>"
      ]
     },
     "metadata": {},
     "output_type": "display_data"
    }
   ],
   "source": [
    "groupedby_year = df_imdb.groupby(['startYear']).count().reset_index()\n",
    "\n",
    "fig, ax = plt.subplots()\n",
    "ax.plot(groupedby_year['startYear'], groupedby_year['movie_title'])\n",
    "ax.set_title('Number of films released between 2009 and 2022')\n",
    "\n",
    "plt.xlabel('Year')\n",
    "plt.ylabel('Number of films');"
   ]
  },
  {
   "cell_type": "markdown",
   "metadata": {},
   "source": [
    "So that we can assess the influence of the pandemic on box office numbers, we would need to analyse data from 2020 to 2022. \n",
    "\n",
    "While the IMDb data did include films up until 2022, this dataframe was only used to assess the relationship between average rating and runtimes. Given that we established there was no relationship between average ratings with profitability, further research needs to be conducted to examine the influence of runtime on profitability or if there is any relationship at all.\n",
    "\n",
    "Another consideration to take is the introduction of streaming services and their impact on the film industry. Given the ease of accessibility and its private, household use, streaming services have influenced the way audiences consume film. Since Amazon Prime Video and Netflix launched their streaming services in 2006 and 2007 respectively, the streaming industry has grown exponentially. \n",
    "\n",
    "This analysis provides a thorough exploration of box office successes from 2009 to 2019 and has considered multiple variables that may contribute to a film's overall success. Given the large sample size and timeline of the analysis, I am confident that with the actionable insights recommended, Microsoft would be able to produce a movie that would be financially successful. To take into consideration the changes to the film industry in the recent years, further analysis is recommended so that Microsoft can maximise profits across all platforms."
   ]
  }
 ],
 "metadata": {
  "kernelspec": {
   "display_name": "Python 3 (ipykernel)",
   "language": "python",
   "name": "python3"
  },
  "language_info": {
   "codemirror_mode": {
    "name": "ipython",
    "version": 3
   },
   "file_extension": ".py",
   "mimetype": "text/x-python",
   "name": "python",
   "nbconvert_exporter": "python",
   "pygments_lexer": "ipython3",
   "version": "3.9.16"
  }
 },
 "nbformat": 4,
 "nbformat_minor": 4
}
