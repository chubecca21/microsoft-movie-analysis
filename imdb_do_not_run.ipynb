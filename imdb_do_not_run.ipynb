{
 "cells": [
  {
   "cell_type": "markdown",
   "id": "11cdab9a-2f38-4861-9d64-53551dc6893a",
   "metadata": {},
   "source": [
    "## IMDb\n",
    "\n",
    "So that I was working with the most up-to-date data, I downloaded ```title.basics.tsv.gz``` from the IMDb Developer website (https://developer.imdb.com/non-commercial-datasets/) on the 7th of August 2023. Given the size of the file, I have created a new zipped csv with the relevant information to work with instead.\n",
    "\n",
    "Changes made: \n",
    "* titleType filtered to only include movie and tvMovie\n",
    "* Adult films removed\n",
    "* irrelevant columns dropped\n",
    "* \\N converted to NaNs and dropped from the dataset\n",
    "* startYear filtered to be greater than 2008\n",
    "* index reset\n",
    "\n",
    "The original ```title.basics.aug23.tsv.gz``` file has not been pushed to GitHub."
   ]
  },
  {
   "cell_type": "code",
   "execution_count": 1,
   "id": "6e135ef2-0acd-4dd2-8f71-b80619c16f49",
   "metadata": {},
   "outputs": [],
   "source": [
    "import pandas as pd\n",
    "import numpy as np"
   ]
  },
  {
   "cell_type": "code",
   "execution_count": 2,
   "id": "1cc2b958-9639-4b65-9279-bea611a1ab76",
   "metadata": {},
   "outputs": [
    {
     "name": "stderr",
     "output_type": "stream",
     "text": [
      "/var/folders/d8/jdms80v532n7kh4s12c24qx40000gn/T/ipykernel_7984/3306636889.py:1: DtypeWarning: Columns (4) have mixed types. Specify dtype option on import or set low_memory=False.\n",
      "  df_imdb = pd.read_csv('./zippedData/title.basics.aug23.tsv.gz', sep='\\t')\n"
     ]
    },
    {
     "data": {
      "text/html": [
       "<div>\n",
       "<style scoped>\n",
       "    .dataframe tbody tr th:only-of-type {\n",
       "        vertical-align: middle;\n",
       "    }\n",
       "\n",
       "    .dataframe tbody tr th {\n",
       "        vertical-align: top;\n",
       "    }\n",
       "\n",
       "    .dataframe thead th {\n",
       "        text-align: right;\n",
       "    }\n",
       "</style>\n",
       "<table border=\"1\" class=\"dataframe\">\n",
       "  <thead>\n",
       "    <tr style=\"text-align: right;\">\n",
       "      <th></th>\n",
       "      <th>tconst</th>\n",
       "      <th>titleType</th>\n",
       "      <th>primaryTitle</th>\n",
       "      <th>originalTitle</th>\n",
       "      <th>isAdult</th>\n",
       "      <th>startYear</th>\n",
       "      <th>endYear</th>\n",
       "      <th>runtimeMinutes</th>\n",
       "      <th>genres</th>\n",
       "    </tr>\n",
       "  </thead>\n",
       "  <tbody>\n",
       "    <tr>\n",
       "      <th>0</th>\n",
       "      <td>tt0000001</td>\n",
       "      <td>short</td>\n",
       "      <td>Carmencita</td>\n",
       "      <td>Carmencita</td>\n",
       "      <td>0</td>\n",
       "      <td>1894</td>\n",
       "      <td>\\N</td>\n",
       "      <td>1</td>\n",
       "      <td>Documentary,Short</td>\n",
       "    </tr>\n",
       "    <tr>\n",
       "      <th>1</th>\n",
       "      <td>tt0000002</td>\n",
       "      <td>short</td>\n",
       "      <td>Le clown et ses chiens</td>\n",
       "      <td>Le clown et ses chiens</td>\n",
       "      <td>0</td>\n",
       "      <td>1892</td>\n",
       "      <td>\\N</td>\n",
       "      <td>5</td>\n",
       "      <td>Animation,Short</td>\n",
       "    </tr>\n",
       "    <tr>\n",
       "      <th>2</th>\n",
       "      <td>tt0000003</td>\n",
       "      <td>short</td>\n",
       "      <td>Pauvre Pierrot</td>\n",
       "      <td>Pauvre Pierrot</td>\n",
       "      <td>0</td>\n",
       "      <td>1892</td>\n",
       "      <td>\\N</td>\n",
       "      <td>4</td>\n",
       "      <td>Animation,Comedy,Romance</td>\n",
       "    </tr>\n",
       "    <tr>\n",
       "      <th>3</th>\n",
       "      <td>tt0000004</td>\n",
       "      <td>short</td>\n",
       "      <td>Un bon bock</td>\n",
       "      <td>Un bon bock</td>\n",
       "      <td>0</td>\n",
       "      <td>1892</td>\n",
       "      <td>\\N</td>\n",
       "      <td>12</td>\n",
       "      <td>Animation,Short</td>\n",
       "    </tr>\n",
       "    <tr>\n",
       "      <th>4</th>\n",
       "      <td>tt0000005</td>\n",
       "      <td>short</td>\n",
       "      <td>Blacksmith Scene</td>\n",
       "      <td>Blacksmith Scene</td>\n",
       "      <td>0</td>\n",
       "      <td>1893</td>\n",
       "      <td>\\N</td>\n",
       "      <td>1</td>\n",
       "      <td>Comedy,Short</td>\n",
       "    </tr>\n",
       "  </tbody>\n",
       "</table>\n",
       "</div>"
      ],
      "text/plain": [
       "      tconst titleType            primaryTitle           originalTitle  \\\n",
       "0  tt0000001     short              Carmencita              Carmencita   \n",
       "1  tt0000002     short  Le clown et ses chiens  Le clown et ses chiens   \n",
       "2  tt0000003     short          Pauvre Pierrot          Pauvre Pierrot   \n",
       "3  tt0000004     short             Un bon bock             Un bon bock   \n",
       "4  tt0000005     short        Blacksmith Scene        Blacksmith Scene   \n",
       "\n",
       "  isAdult startYear endYear runtimeMinutes                    genres  \n",
       "0       0      1894      \\N              1         Documentary,Short  \n",
       "1       0      1892      \\N              5           Animation,Short  \n",
       "2       0      1892      \\N              4  Animation,Comedy,Romance  \n",
       "3       0      1892      \\N             12           Animation,Short  \n",
       "4       0      1893      \\N              1              Comedy,Short  "
      ]
     },
     "execution_count": 2,
     "metadata": {},
     "output_type": "execute_result"
    }
   ],
   "source": [
    "df_imdb = pd.read_csv('./zippedData/title.basics.aug23.tsv.gz', sep='\\t')\n",
    "df_imdb.head()"
   ]
  },
  {
   "cell_type": "code",
   "execution_count": 3,
   "id": "69474e92-a126-4300-a219-3ae3bff6c46f",
   "metadata": {},
   "outputs": [
    {
     "name": "stdout",
     "output_type": "stream",
     "text": [
      "<class 'pandas.core.frame.DataFrame'>\n",
      "RangeIndex: 10058021 entries, 0 to 10058020\n",
      "Data columns (total 9 columns):\n",
      " #   Column          Dtype \n",
      "---  ------          ----- \n",
      " 0   tconst          object\n",
      " 1   titleType       object\n",
      " 2   primaryTitle    object\n",
      " 3   originalTitle   object\n",
      " 4   isAdult         object\n",
      " 5   startYear       object\n",
      " 6   endYear         object\n",
      " 7   runtimeMinutes  object\n",
      " 8   genres          object\n",
      "dtypes: object(9)\n",
      "memory usage: 690.6+ MB\n"
     ]
    }
   ],
   "source": [
    "df_imdb.info()"
   ]
  },
  {
   "cell_type": "code",
   "execution_count": 4,
   "id": "f20d6ea1-961e-4c8e-aaa6-a9046aa946af",
   "metadata": {},
   "outputs": [
    {
     "data": {
      "text/plain": [
       "titleType\n",
       "tvEpisode       7654568\n",
       "short            944420\n",
       "movie            653179\n",
       "video            277989\n",
       "tvSeries         247567\n",
       "tvMovie          142593\n",
       "tvMiniSeries      49691\n",
       "tvSpecial         42676\n",
       "videoGame         35336\n",
       "tvShort           10001\n",
       "tvPilot               1\n",
       "Name: count, dtype: int64"
      ]
     },
     "execution_count": 4,
     "metadata": {},
     "output_type": "execute_result"
    }
   ],
   "source": [
    "df_imdb.titleType.value_counts()"
   ]
  },
  {
   "cell_type": "code",
   "execution_count": 5,
   "id": "76257d11-12fd-4cd0-9115-b79ed8b1cd3b",
   "metadata": {},
   "outputs": [],
   "source": [
    "# removing all titles that are not movie or tvMovie\n",
    "df_imdb = df_imdb[(df_imdb.titleType == \"movie\") | (df_imdb.titleType == \"tvMovie\")]\n",
    "\n",
    "# removing adult titles\n",
    "df_imdb = df_imdb[df_imdb.isAdult == 0]\n",
    "\n",
    "# dropping irrelevant columns\n",
    "df_imdb.drop(['originalTitle', 'isAdult', 'endYear'], axis=1, inplace=True)"
   ]
  },
  {
   "cell_type": "code",
   "execution_count": 6,
   "id": "32f57855-6d1e-4f4e-b557-3da13f3f63a7",
   "metadata": {},
   "outputs": [
    {
     "data": {
      "text/plain": [
       "tconst                 0\n",
       "titleType              0\n",
       "primaryTitle           2\n",
       "startYear          95386\n",
       "runtimeMinutes    282328\n",
       "genres             83712\n",
       "dtype: int64"
      ]
     },
     "execution_count": 6,
     "metadata": {},
     "output_type": "execute_result"
    }
   ],
   "source": [
    "# replacing \\N with NaN to reveal all null values\n",
    "df_imdb.replace(r'\\N', np.nan, inplace=True)\n",
    "\n",
    "# find all nulls\n",
    "df_imdb.isna().sum()"
   ]
  },
  {
   "cell_type": "code",
   "execution_count": 7,
   "id": "7c4235fa-d123-4885-b0e8-5cae544e024f",
   "metadata": {},
   "outputs": [],
   "source": [
    "# dropping all nulls given the size of the dataset\n",
    "df_imdb.dropna(inplace=True)"
   ]
  },
  {
   "cell_type": "code",
   "execution_count": 8,
   "id": "81ecafa9-4ad4-47f4-8347-75f4b09f0a9e",
   "metadata": {},
   "outputs": [],
   "source": [
    "# converting startYear into an int64 datatype\n",
    "df_imdb['startYear'] = df_imdb['startYear'].astype('int64')\n",
    "\n",
    "# removing titles with a startYear earlier than 2000\n",
    "df_imdb = df_imdb[df_imdb['startYear'] > 2008]"
   ]
  },
  {
   "cell_type": "code",
   "execution_count": 9,
   "id": "8f6d56f0-450f-4a39-9480-e05e3196cc70",
   "metadata": {},
   "outputs": [],
   "source": [
    "# resetting the index\n",
    "df_imdb.reset_index(drop=True, inplace=True)"
   ]
  },
  {
   "cell_type": "code",
   "execution_count": 10,
   "id": "c9a03a6f-8fd6-40dd-9640-20a0b4e362ee",
   "metadata": {},
   "outputs": [
    {
     "name": "stdout",
     "output_type": "stream",
     "text": [
      "<class 'pandas.core.frame.DataFrame'>\n",
      "RangeIndex: 210566 entries, 0 to 210565\n",
      "Data columns (total 6 columns):\n",
      " #   Column          Non-Null Count   Dtype \n",
      "---  ------          --------------   ----- \n",
      " 0   tconst          210566 non-null  object\n",
      " 1   titleType       210566 non-null  object\n",
      " 2   primaryTitle    210566 non-null  object\n",
      " 3   startYear       210566 non-null  int64 \n",
      " 4   runtimeMinutes  210566 non-null  object\n",
      " 5   genres          210566 non-null  object\n",
      "dtypes: int64(1), object(5)\n",
      "memory usage: 9.6+ MB\n"
     ]
    }
   ],
   "source": [
    "df_imdb.info()"
   ]
  },
  {
   "cell_type": "code",
   "execution_count": 11,
   "id": "0361fc52-c0e6-430c-b4dc-f16976e5a007",
   "metadata": {},
   "outputs": [],
   "source": [
    "df_imdb.to_csv('./zippedData/imdb_basics.aug23_reduced.csv.gz')"
   ]
  }
 ],
 "metadata": {
  "kernelspec": {
   "display_name": "Python 3 (ipykernel)",
   "language": "python",
   "name": "python3"
  },
  "language_info": {
   "codemirror_mode": {
    "name": "ipython",
    "version": 3
   },
   "file_extension": ".py",
   "mimetype": "text/x-python",
   "name": "python",
   "nbconvert_exporter": "python",
   "pygments_lexer": "ipython3",
   "version": "3.9.16"
  }
 },
 "nbformat": 4,
 "nbformat_minor": 5
}
