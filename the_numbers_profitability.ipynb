{
 "cells": [
  {
   "cell_type": "code",
   "execution_count": 1,
   "id": "83e4e973-cdef-4465-a3ad-46ff0925dd44",
   "metadata": {},
   "outputs": [],
   "source": [
    "import pandas as pd\n",
    "import numpy as np\n",
    "import matplotlib.pyplot as plt\n",
    "import seaborn as sns\n",
    "\n",
    "%matplotlib inline"
   ]
  },
  {
   "cell_type": "markdown",
   "id": "4bf770b0-f80d-4db7-bd78-788637d7d975",
   "metadata": {},
   "source": [
    "## Data Preparation\n",
    "### Cleaning The Numbers data"
   ]
  },
  {
   "cell_type": "code",
   "execution_count": 3,
   "id": "4af1f7b4-db2a-4a3e-9961-4284a608ca41",
   "metadata": {},
   "outputs": [
    {
     "data": {
      "text/html": [
       "<div>\n",
       "<style scoped>\n",
       "    .dataframe tbody tr th:only-of-type {\n",
       "        vertical-align: middle;\n",
       "    }\n",
       "\n",
       "    .dataframe tbody tr th {\n",
       "        vertical-align: top;\n",
       "    }\n",
       "\n",
       "    .dataframe thead th {\n",
       "        text-align: right;\n",
       "    }\n",
       "</style>\n",
       "<table border=\"1\" class=\"dataframe\">\n",
       "  <thead>\n",
       "    <tr style=\"text-align: right;\">\n",
       "      <th></th>\n",
       "      <th>id</th>\n",
       "      <th>release_date</th>\n",
       "      <th>movie</th>\n",
       "      <th>production_budget</th>\n",
       "      <th>domestic_gross</th>\n",
       "      <th>worldwide_gross</th>\n",
       "    </tr>\n",
       "  </thead>\n",
       "  <tbody>\n",
       "    <tr>\n",
       "      <th>0</th>\n",
       "      <td>1</td>\n",
       "      <td>Dec 18, 2009</td>\n",
       "      <td>Avatar</td>\n",
       "      <td>$425,000,000</td>\n",
       "      <td>$760,507,625</td>\n",
       "      <td>$2,776,345,279</td>\n",
       "    </tr>\n",
       "    <tr>\n",
       "      <th>1</th>\n",
       "      <td>2</td>\n",
       "      <td>May 20, 2011</td>\n",
       "      <td>Pirates of the Caribbean: On Stranger Tides</td>\n",
       "      <td>$410,600,000</td>\n",
       "      <td>$241,063,875</td>\n",
       "      <td>$1,045,663,875</td>\n",
       "    </tr>\n",
       "    <tr>\n",
       "      <th>2</th>\n",
       "      <td>3</td>\n",
       "      <td>Jun 7, 2019</td>\n",
       "      <td>Dark Phoenix</td>\n",
       "      <td>$350,000,000</td>\n",
       "      <td>$42,762,350</td>\n",
       "      <td>$149,762,350</td>\n",
       "    </tr>\n",
       "    <tr>\n",
       "      <th>3</th>\n",
       "      <td>4</td>\n",
       "      <td>May 1, 2015</td>\n",
       "      <td>Avengers: Age of Ultron</td>\n",
       "      <td>$330,600,000</td>\n",
       "      <td>$459,005,868</td>\n",
       "      <td>$1,403,013,963</td>\n",
       "    </tr>\n",
       "    <tr>\n",
       "      <th>4</th>\n",
       "      <td>5</td>\n",
       "      <td>Dec 15, 2017</td>\n",
       "      <td>Star Wars Ep. VIII: The Last Jedi</td>\n",
       "      <td>$317,000,000</td>\n",
       "      <td>$620,181,382</td>\n",
       "      <td>$1,316,721,747</td>\n",
       "    </tr>\n",
       "  </tbody>\n",
       "</table>\n",
       "</div>"
      ],
      "text/plain": [
       "   id  release_date                                        movie  \\\n",
       "0   1  Dec 18, 2009                                       Avatar   \n",
       "1   2  May 20, 2011  Pirates of the Caribbean: On Stranger Tides   \n",
       "2   3   Jun 7, 2019                                 Dark Phoenix   \n",
       "3   4   May 1, 2015                      Avengers: Age of Ultron   \n",
       "4   5  Dec 15, 2017            Star Wars Ep. VIII: The Last Jedi   \n",
       "\n",
       "  production_budget domestic_gross worldwide_gross  \n",
       "0      $425,000,000   $760,507,625  $2,776,345,279  \n",
       "1      $410,600,000   $241,063,875  $1,045,663,875  \n",
       "2      $350,000,000    $42,762,350    $149,762,350  \n",
       "3      $330,600,000   $459,005,868  $1,403,013,963  \n",
       "4      $317,000,000   $620,181,382  $1,316,721,747  "
      ]
     },
     "execution_count": 3,
     "metadata": {},
     "output_type": "execute_result"
    }
   ],
   "source": [
    "df1 = pd.read_csv('./zippedData/tn.movie_budgets.csv.gz')\n",
    "df1.head()"
   ]
  },
  {
   "cell_type": "code",
   "execution_count": 4,
   "id": "7c45fef4-a5ee-47c8-8088-20699ec8c8b4",
   "metadata": {},
   "outputs": [],
   "source": [
    "# drop unnecssary columns: domestic_gross and id\n",
    "df1.drop(['id', 'domestic_gross'], axis=1, inplace=True)"
   ]
  },
  {
   "cell_type": "code",
   "execution_count": 5,
   "id": "81217551-dcf6-47d2-ad60-7467dcf101fc",
   "metadata": {},
   "outputs": [
    {
     "name": "stdout",
     "output_type": "stream",
     "text": [
      "<class 'pandas.core.frame.DataFrame'>\n",
      "RangeIndex: 5782 entries, 0 to 5781\n",
      "Data columns (total 4 columns):\n",
      " #   Column             Non-Null Count  Dtype \n",
      "---  ------             --------------  ----- \n",
      " 0   release_date       5782 non-null   object\n",
      " 1   movie              5782 non-null   object\n",
      " 2   production_budget  5782 non-null   object\n",
      " 3   worldwide_gross    5782 non-null   object\n",
      "dtypes: object(4)\n",
      "memory usage: 180.8+ KB\n"
     ]
    }
   ],
   "source": [
    "df1.info()"
   ]
  },
  {
   "cell_type": "code",
   "execution_count": 6,
   "id": "11c39ba5-7b5c-4609-b954-8d086295de1c",
   "metadata": {},
   "outputs": [],
   "source": [
    "# define function to convert financials from object to int\n",
    "\n",
    "def convert_to_int(v):\n",
    "    df1[v] = df1[v].map(lambda x: x.replace(',',''))\n",
    "    df1[v] = df1[v].map(lambda x: x.strip('$'))\n",
    "    df1[v] = df1[v].astype('int64')\n",
    "\n",
    "convert_to_int('production_budget')\n",
    "convert_to_int('worldwide_gross')"
   ]
  },
  {
   "cell_type": "code",
   "execution_count": 7,
   "id": "570e0322-970b-487c-b0b2-856d3161d8ba",
   "metadata": {},
   "outputs": [],
   "source": [
    "df1.release_date = pd.to_datetime(df1.release_date)"
   ]
  },
  {
   "cell_type": "code",
   "execution_count": 8,
   "id": "a2e3138c-9c3a-46f7-9f79-5e4997a8448b",
   "metadata": {},
   "outputs": [
    {
     "data": {
      "text/html": [
       "<div>\n",
       "<style scoped>\n",
       "    .dataframe tbody tr th:only-of-type {\n",
       "        vertical-align: middle;\n",
       "    }\n",
       "\n",
       "    .dataframe tbody tr th {\n",
       "        vertical-align: top;\n",
       "    }\n",
       "\n",
       "    .dataframe thead th {\n",
       "        text-align: right;\n",
       "    }\n",
       "</style>\n",
       "<table border=\"1\" class=\"dataframe\">\n",
       "  <thead>\n",
       "    <tr style=\"text-align: right;\">\n",
       "      <th></th>\n",
       "      <th>release_date</th>\n",
       "      <th>production_budget</th>\n",
       "      <th>worldwide_gross</th>\n",
       "    </tr>\n",
       "  </thead>\n",
       "  <tbody>\n",
       "    <tr>\n",
       "      <th>count</th>\n",
       "      <td>5782.00</td>\n",
       "      <td>5782.00</td>\n",
       "      <td>5782.00</td>\n",
       "    </tr>\n",
       "    <tr>\n",
       "      <th>mean</th>\n",
       "      <td>.2f</td>\n",
       "      <td>31587757.10</td>\n",
       "      <td>91487460.91</td>\n",
       "    </tr>\n",
       "    <tr>\n",
       "      <th>min</th>\n",
       "      <td>.2f</td>\n",
       "      <td>1100.00</td>\n",
       "      <td>0.00</td>\n",
       "    </tr>\n",
       "    <tr>\n",
       "      <th>25%</th>\n",
       "      <td>.2f</td>\n",
       "      <td>5000000.00</td>\n",
       "      <td>4125414.75</td>\n",
       "    </tr>\n",
       "    <tr>\n",
       "      <th>50%</th>\n",
       "      <td>.2f</td>\n",
       "      <td>17000000.00</td>\n",
       "      <td>27984448.50</td>\n",
       "    </tr>\n",
       "    <tr>\n",
       "      <th>75%</th>\n",
       "      <td>.2f</td>\n",
       "      <td>40000000.00</td>\n",
       "      <td>97645836.50</td>\n",
       "    </tr>\n",
       "    <tr>\n",
       "      <th>max</th>\n",
       "      <td>.2f</td>\n",
       "      <td>425000000.00</td>\n",
       "      <td>2776345279.00</td>\n",
       "    </tr>\n",
       "    <tr>\n",
       "      <th>std</th>\n",
       "      <td>nan</td>\n",
       "      <td>41812076.83</td>\n",
       "      <td>174719968.78</td>\n",
       "    </tr>\n",
       "  </tbody>\n",
       "</table>\n",
       "</div>"
      ],
      "text/plain": [
       "      release_date production_budget worldwide_gross\n",
       "count      5782.00           5782.00         5782.00\n",
       "mean           .2f       31587757.10     91487460.91\n",
       "min            .2f           1100.00            0.00\n",
       "25%            .2f        5000000.00      4125414.75\n",
       "50%            .2f       17000000.00     27984448.50\n",
       "75%            .2f       40000000.00     97645836.50\n",
       "max            .2f      425000000.00   2776345279.00\n",
       "std            nan       41812076.83    174719968.78"
      ]
     },
     "execution_count": 8,
     "metadata": {},
     "output_type": "execute_result"
    }
   ],
   "source": [
    "df1.describe().apply(lambda x: x.apply('{0:.2f}'.format))"
   ]
  },
  {
   "cell_type": "code",
   "execution_count": 9,
   "id": "2ba12659-9c06-4d8f-b367-26473949343d",
   "metadata": {},
   "outputs": [],
   "source": [
    "# exploring the minimum we can see that the minimum worldwide_gross is 0\n",
    "# given that there are no nulls, we will assume that 0 represents missing values and to avoid these numbers skewing the results, \\\n",
    "# we will remove them\n",
    "\n",
    "missing_worldwide_gross = df1[df1.worldwide_gross == 0].index\n",
    "df1.drop(missing_worldwide_gross, inplace=True)"
   ]
  },
  {
   "cell_type": "code",
   "execution_count": 10,
   "id": "3e165c2a-2757-45d2-8174-07744824b85a",
   "metadata": {},
   "outputs": [
    {
     "data": {
      "text/plain": [
       "count                             5415\n",
       "mean     2004-02-20 12:26:11.634349056\n",
       "min                1915-02-08 00:00:00\n",
       "25%                1999-12-13 12:00:00\n",
       "50%                2006-08-11 00:00:00\n",
       "75%                2012-05-18 00:00:00\n",
       "max                2019-06-21 00:00:00\n",
       "Name: release_date, dtype: object"
      ]
     },
     "execution_count": 10,
     "metadata": {},
     "output_type": "execute_result"
    }
   ],
   "source": [
    "# let's look at the date range - we can see from below that the earliest film included is 1915, and the latest is 2019\n",
    "df1.release_date.describe()"
   ]
  },
  {
   "cell_type": "code",
   "execution_count": 11,
   "id": "6a26781f-a41f-4d54-befd-8670a0d8e89d",
   "metadata": {},
   "outputs": [],
   "source": [
    "# given this data, let's look at the last decade available\n",
    "df1 = df1[df1.release_date.dt.strftime('%Y') > '2008'].reset_index(drop=True)"
   ]
  },
  {
   "cell_type": "code",
   "execution_count": 12,
   "id": "01199516-d13a-4368-aa28-f206cd2b71e7",
   "metadata": {},
   "outputs": [],
   "source": [
    "# for consistency sake let's update the movie column heading and standardise the title\n",
    "df1.rename(columns={'movie':'movie_title'}, inplace=True)\n",
    "df1.movie_title = df1.movie_title.map(lambda x: x.title())"
   ]
  },
  {
   "cell_type": "code",
   "execution_count": 13,
   "id": "5d0b1705-1f3c-4846-9ad8-6fe4cc5e63e9",
   "metadata": {},
   "outputs": [
    {
     "name": "stdout",
     "output_type": "stream",
     "text": [
      "<class 'pandas.core.frame.DataFrame'>\n",
      "RangeIndex: 2140 entries, 0 to 2139\n",
      "Data columns (total 4 columns):\n",
      " #   Column             Non-Null Count  Dtype         \n",
      "---  ------             --------------  -----         \n",
      " 0   release_date       2140 non-null   datetime64[ns]\n",
      " 1   movie_title        2140 non-null   object        \n",
      " 2   production_budget  2140 non-null   int64         \n",
      " 3   worldwide_gross    2140 non-null   int64         \n",
      "dtypes: datetime64[ns](1), int64(2), object(1)\n",
      "memory usage: 67.0+ KB\n"
     ]
    }
   ],
   "source": [
    "df1.info()"
   ]
  },
  {
   "cell_type": "code",
   "execution_count": 438,
   "id": "83dfff9e-7f35-4fd5-bbe7-f23ecc21711e",
   "metadata": {},
   "outputs": [
    {
     "data": {
      "text/html": [
       "<div>\n",
       "<style scoped>\n",
       "    .dataframe tbody tr th:only-of-type {\n",
       "        vertical-align: middle;\n",
       "    }\n",
       "\n",
       "    .dataframe tbody tr th {\n",
       "        vertical-align: top;\n",
       "    }\n",
       "\n",
       "    .dataframe thead th {\n",
       "        text-align: right;\n",
       "    }\n",
       "</style>\n",
       "<table border=\"1\" class=\"dataframe\">\n",
       "  <thead>\n",
       "    <tr style=\"text-align: right;\">\n",
       "      <th></th>\n",
       "      <th>release_date</th>\n",
       "      <th>movie_title</th>\n",
       "      <th>production_budget</th>\n",
       "      <th>worldwide_gross</th>\n",
       "    </tr>\n",
       "  </thead>\n",
       "  <tbody>\n",
       "    <tr>\n",
       "      <th>268</th>\n",
       "      <td>2018-11-21</td>\n",
       "      <td>Robin Hood</td>\n",
       "      <td>99000000</td>\n",
       "      <td>84747441</td>\n",
       "    </tr>\n",
       "    <tr>\n",
       "      <th>1329</th>\n",
       "      <td>2015-08-14</td>\n",
       "      <td>Brothers</td>\n",
       "      <td>13000000</td>\n",
       "      <td>17856688</td>\n",
       "    </tr>\n",
       "    <tr>\n",
       "      <th>1960</th>\n",
       "      <td>2013-10-25</td>\n",
       "      <td>The Square</td>\n",
       "      <td>1500000</td>\n",
       "      <td>176262</td>\n",
       "    </tr>\n",
       "    <tr>\n",
       "      <th>2077</th>\n",
       "      <td>2009-04-23</td>\n",
       "      <td>Home</td>\n",
       "      <td>500000</td>\n",
       "      <td>44793168</td>\n",
       "    </tr>\n",
       "  </tbody>\n",
       "</table>\n",
       "</div>"
      ],
      "text/plain": [
       "     release_date movie_title  production_budget  worldwide_gross\n",
       "268    2018-11-21  Robin Hood           99000000         84747441\n",
       "1329   2015-08-14    Brothers           13000000         17856688\n",
       "1960   2013-10-25  The Square            1500000           176262\n",
       "2077   2009-04-23        Home             500000         44793168"
      ]
     },
     "execution_count": 438,
     "metadata": {},
     "output_type": "execute_result"
    }
   ],
   "source": [
    "# checking for duplicates in the movie title column\n",
    "df1[df1.movie_title.duplicated()]"
   ]
  },
  {
   "cell_type": "markdown",
   "id": "e638e2d9-6344-437e-bfc5-d042c1f7b78b",
   "metadata": {},
   "source": [
    "Looking below, we can see that all four duplicates are legitimate entries. Based on the release date, they are different movies with the same name."
   ]
  },
  {
   "cell_type": "code",
   "execution_count": 439,
   "id": "c3be5df2-162d-4c73-bb57-0a67dc634c91",
   "metadata": {},
   "outputs": [
    {
     "data": {
      "text/html": [
       "<div>\n",
       "<style scoped>\n",
       "    .dataframe tbody tr th:only-of-type {\n",
       "        vertical-align: middle;\n",
       "    }\n",
       "\n",
       "    .dataframe tbody tr th {\n",
       "        vertical-align: top;\n",
       "    }\n",
       "\n",
       "    .dataframe thead th {\n",
       "        text-align: right;\n",
       "    }\n",
       "</style>\n",
       "<table border=\"1\" class=\"dataframe\">\n",
       "  <thead>\n",
       "    <tr style=\"text-align: right;\">\n",
       "      <th></th>\n",
       "      <th>release_date</th>\n",
       "      <th>movie_title</th>\n",
       "      <th>production_budget</th>\n",
       "      <th>worldwide_gross</th>\n",
       "    </tr>\n",
       "  </thead>\n",
       "  <tbody>\n",
       "    <tr>\n",
       "      <th>907</th>\n",
       "      <td>2009-12-04</td>\n",
       "      <td>Brothers</td>\n",
       "      <td>26000000</td>\n",
       "      <td>45043870</td>\n",
       "    </tr>\n",
       "    <tr>\n",
       "      <th>1329</th>\n",
       "      <td>2015-08-14</td>\n",
       "      <td>Brothers</td>\n",
       "      <td>13000000</td>\n",
       "      <td>17856688</td>\n",
       "    </tr>\n",
       "  </tbody>\n",
       "</table>\n",
       "</div>"
      ],
      "text/plain": [
       "     release_date movie_title  production_budget  worldwide_gross\n",
       "907    2009-12-04    Brothers           26000000         45043870\n",
       "1329   2015-08-14    Brothers           13000000         17856688"
      ]
     },
     "execution_count": 439,
     "metadata": {},
     "output_type": "execute_result"
    }
   ],
   "source": [
    "df1[df1.movie_title == 'Robin Hood']"
   ]
  },
  {
   "cell_type": "code",
   "execution_count": 440,
   "id": "227e8477-ec90-4ddc-8e2f-b3c2f8aa2635",
   "metadata": {},
   "outputs": [
    {
     "data": {
      "text/html": [
       "<div>\n",
       "<style scoped>\n",
       "    .dataframe tbody tr th:only-of-type {\n",
       "        vertical-align: middle;\n",
       "    }\n",
       "\n",
       "    .dataframe tbody tr th {\n",
       "        vertical-align: top;\n",
       "    }\n",
       "\n",
       "    .dataframe thead th {\n",
       "        text-align: right;\n",
       "    }\n",
       "</style>\n",
       "<table border=\"1\" class=\"dataframe\">\n",
       "  <thead>\n",
       "    <tr style=\"text-align: right;\">\n",
       "      <th></th>\n",
       "      <th>release_date</th>\n",
       "      <th>movie_title</th>\n",
       "      <th>production_budget</th>\n",
       "      <th>worldwide_gross</th>\n",
       "    </tr>\n",
       "  </thead>\n",
       "  <tbody>\n",
       "    <tr>\n",
       "      <th>907</th>\n",
       "      <td>2009-12-04</td>\n",
       "      <td>Brothers</td>\n",
       "      <td>26000000</td>\n",
       "      <td>45043870</td>\n",
       "    </tr>\n",
       "    <tr>\n",
       "      <th>1329</th>\n",
       "      <td>2015-08-14</td>\n",
       "      <td>Brothers</td>\n",
       "      <td>13000000</td>\n",
       "      <td>17856688</td>\n",
       "    </tr>\n",
       "  </tbody>\n",
       "</table>\n",
       "</div>"
      ],
      "text/plain": [
       "     release_date movie_title  production_budget  worldwide_gross\n",
       "907    2009-12-04    Brothers           26000000         45043870\n",
       "1329   2015-08-14    Brothers           13000000         17856688"
      ]
     },
     "execution_count": 440,
     "metadata": {},
     "output_type": "execute_result"
    }
   ],
   "source": [
    "df1[df1.movie_title == 'Brothers']"
   ]
  },
  {
   "cell_type": "code",
   "execution_count": 86,
   "id": "8caa633a-3135-4a0d-8cce-bcceaa82b17c",
   "metadata": {},
   "outputs": [
    {
     "data": {
      "text/html": [
       "<div>\n",
       "<style scoped>\n",
       "    .dataframe tbody tr th:only-of-type {\n",
       "        vertical-align: middle;\n",
       "    }\n",
       "\n",
       "    .dataframe tbody tr th {\n",
       "        vertical-align: top;\n",
       "    }\n",
       "\n",
       "    .dataframe thead th {\n",
       "        text-align: right;\n",
       "    }\n",
       "</style>\n",
       "<table border=\"1\" class=\"dataframe\">\n",
       "  <thead>\n",
       "    <tr style=\"text-align: right;\">\n",
       "      <th></th>\n",
       "      <th>release_date</th>\n",
       "      <th>movie_title</th>\n",
       "      <th>production_budget</th>\n",
       "      <th>worldwide_gross</th>\n",
       "    </tr>\n",
       "  </thead>\n",
       "  <tbody>\n",
       "    <tr>\n",
       "      <th>5009</th>\n",
       "      <td>2010-04-09</td>\n",
       "      <td>The Square</td>\n",
       "      <td>1900000</td>\n",
       "      <td>740932</td>\n",
       "    </tr>\n",
       "    <tr>\n",
       "      <th>5099</th>\n",
       "      <td>2013-10-25</td>\n",
       "      <td>The Square</td>\n",
       "      <td>1500000</td>\n",
       "      <td>176262</td>\n",
       "    </tr>\n",
       "  </tbody>\n",
       "</table>\n",
       "</div>"
      ],
      "text/plain": [
       "     release_date movie_title  production_budget  worldwide_gross\n",
       "5009   2010-04-09  The Square            1900000           740932\n",
       "5099   2013-10-25  The Square            1500000           176262"
      ]
     },
     "execution_count": 86,
     "metadata": {},
     "output_type": "execute_result"
    }
   ],
   "source": [
    "df1[df1.movie_title == 'The Square']"
   ]
  },
  {
   "cell_type": "code",
   "execution_count": 278,
   "id": "c7a3951c-e7a8-4a76-a3f5-a325e50da644",
   "metadata": {},
   "outputs": [
    {
     "data": {
      "text/html": [
       "<div>\n",
       "<style scoped>\n",
       "    .dataframe tbody tr th:only-of-type {\n",
       "        vertical-align: middle;\n",
       "    }\n",
       "\n",
       "    .dataframe tbody tr th {\n",
       "        vertical-align: top;\n",
       "    }\n",
       "\n",
       "    .dataframe thead th {\n",
       "        text-align: right;\n",
       "    }\n",
       "</style>\n",
       "<table border=\"1\" class=\"dataframe\">\n",
       "  <thead>\n",
       "    <tr style=\"text-align: right;\">\n",
       "      <th></th>\n",
       "      <th>release_date</th>\n",
       "      <th>movie_title</th>\n",
       "      <th>production_budget_mil</th>\n",
       "      <th>worldwide_gross_mil</th>\n",
       "      <th>global_profit_mil</th>\n",
       "      <th>roi</th>\n",
       "      <th>production_budget_tier</th>\n",
       "    </tr>\n",
       "  </thead>\n",
       "  <tbody>\n",
       "    <tr>\n",
       "      <th>243</th>\n",
       "      <td>2015-03-27</td>\n",
       "      <td>Home</td>\n",
       "      <td>130.0</td>\n",
       "      <td>385.997896</td>\n",
       "      <td>255.997896</td>\n",
       "      <td>196.921458</td>\n",
       "      <td>High</td>\n",
       "    </tr>\n",
       "    <tr>\n",
       "      <th>5459</th>\n",
       "      <td>2009-04-23</td>\n",
       "      <td>Home</td>\n",
       "      <td>0.5</td>\n",
       "      <td>44.793168</td>\n",
       "      <td>44.293168</td>\n",
       "      <td>8858.633600</td>\n",
       "      <td>Low</td>\n",
       "    </tr>\n",
       "  </tbody>\n",
       "</table>\n",
       "</div>"
      ],
      "text/plain": [
       "     release_date movie_title  production_budget_mil  worldwide_gross_mil  \\\n",
       "243    2015-03-27        Home                  130.0           385.997896   \n",
       "5459   2009-04-23        Home                    0.5            44.793168   \n",
       "\n",
       "      global_profit_mil          roi production_budget_tier  \n",
       "243          255.997896   196.921458                   High  \n",
       "5459          44.293168  8858.633600                    Low  "
      ]
     },
     "execution_count": 278,
     "metadata": {},
     "output_type": "execute_result"
    }
   ],
   "source": [
    "df1[df1.movie_title == 'Home']"
   ]
  },
  {
   "cell_type": "markdown",
   "id": "b47d0a71-20c4-4f59-98ae-6643d2fa19ab",
   "metadata": {},
   "source": [
    "So that we can distinguish between movies of the same name, I have appended the release year to the end of their movie_title."
   ]
  },
  {
   "cell_type": "code",
   "execution_count": 441,
   "id": "d7318729-5478-4b6b-8a0a-aca85c038651",
   "metadata": {},
   "outputs": [],
   "source": [
    "movie_title_year_df1 = []\n",
    "\n",
    "for i in range(len(df1.movie_title)):\n",
    "    movie_title_year_df1.append(df1.movie_title[i] + f' ({df1.release_date.dt.year[i]})')\n",
    "\n",
    "df1['movie_title'] = movie_title_year_df1"
   ]
  },
  {
   "cell_type": "code",
   "execution_count": 442,
   "id": "a23ad3b1-49c5-401f-ae39-ba59db80f25b",
   "metadata": {},
   "outputs": [
    {
     "data": {
      "text/html": [
       "<div>\n",
       "<style scoped>\n",
       "    .dataframe tbody tr th:only-of-type {\n",
       "        vertical-align: middle;\n",
       "    }\n",
       "\n",
       "    .dataframe tbody tr th {\n",
       "        vertical-align: top;\n",
       "    }\n",
       "\n",
       "    .dataframe thead th {\n",
       "        text-align: right;\n",
       "    }\n",
       "</style>\n",
       "<table border=\"1\" class=\"dataframe\">\n",
       "  <thead>\n",
       "    <tr style=\"text-align: right;\">\n",
       "      <th></th>\n",
       "      <th>release_date</th>\n",
       "      <th>movie_title</th>\n",
       "      <th>production_budget</th>\n",
       "      <th>worldwide_gross</th>\n",
       "    </tr>\n",
       "  </thead>\n",
       "  <tbody>\n",
       "    <tr>\n",
       "      <th>0</th>\n",
       "      <td>2009-12-18</td>\n",
       "      <td>Avatar (2009)</td>\n",
       "      <td>425000000</td>\n",
       "      <td>2776345279</td>\n",
       "    </tr>\n",
       "    <tr>\n",
       "      <th>1</th>\n",
       "      <td>2011-05-20</td>\n",
       "      <td>Pirates Of The Caribbean: On Stranger Tides (2...</td>\n",
       "      <td>410600000</td>\n",
       "      <td>1045663875</td>\n",
       "    </tr>\n",
       "    <tr>\n",
       "      <th>2</th>\n",
       "      <td>2019-06-07</td>\n",
       "      <td>Dark Phoenix (2019)</td>\n",
       "      <td>350000000</td>\n",
       "      <td>149762350</td>\n",
       "    </tr>\n",
       "    <tr>\n",
       "      <th>3</th>\n",
       "      <td>2015-05-01</td>\n",
       "      <td>Avengers: Age Of Ultron (2015)</td>\n",
       "      <td>330600000</td>\n",
       "      <td>1403013963</td>\n",
       "    </tr>\n",
       "    <tr>\n",
       "      <th>4</th>\n",
       "      <td>2017-12-15</td>\n",
       "      <td>Star Wars Ep. Viii: The Last Jedi (2017)</td>\n",
       "      <td>317000000</td>\n",
       "      <td>1316721747</td>\n",
       "    </tr>\n",
       "  </tbody>\n",
       "</table>\n",
       "</div>"
      ],
      "text/plain": [
       "  release_date                                        movie_title  \\\n",
       "0   2009-12-18                                      Avatar (2009)   \n",
       "1   2011-05-20  Pirates Of The Caribbean: On Stranger Tides (2...   \n",
       "2   2019-06-07                                Dark Phoenix (2019)   \n",
       "3   2015-05-01                     Avengers: Age Of Ultron (2015)   \n",
       "4   2017-12-15           Star Wars Ep. Viii: The Last Jedi (2017)   \n",
       "\n",
       "   production_budget  worldwide_gross  \n",
       "0          425000000       2776345279  \n",
       "1          410600000       1045663875  \n",
       "2          350000000        149762350  \n",
       "3          330600000       1403013963  \n",
       "4          317000000       1316721747  "
      ]
     },
     "execution_count": 442,
     "metadata": {},
     "output_type": "execute_result"
    }
   ],
   "source": [
    "df1.head()"
   ]
  },
  {
   "cell_type": "code",
   "execution_count": 443,
   "id": "835c4fe8-540b-4774-90fd-3eee5f42b556",
   "metadata": {},
   "outputs": [],
   "source": [
    "# converting financials in millions for readability\n",
    "df1['production_budget_mil'] = df1.production_budget/1000000\n",
    "df1['worldwide_gross_mil'] = df1.worldwide_gross/1000000\n",
    "\n",
    "# dropping original production budget and worldwide gross to simplify table\n",
    "df1.drop(['production_budget', 'worldwide_gross'], axis=1, inplace=True)\n",
    "\n",
    "# calculating the global profit in millions and ROI\n",
    "df1['global_profit_mil'] = df1['worldwide_gross_mil'] - df1['production_budget_mil']\n",
    "df1['roi'] = (df1.global_profit_mil/df1.production_budget_mil)*100"
   ]
  },
  {
   "cell_type": "markdown",
   "id": "98474b51-4901-4225-be8c-86f65c536529",
   "metadata": {},
   "source": [
    "Binning budgets - \n",
    "\n",
    "We are going to use Studiobinder's definition of budget tiers (https://www.studiobinder.com/blog/production-budget/): \n",
    "\n",
    "* Low budget (these are usually financed through self-financing or small private funding): 5 million and below\n",
    "* Mid-level (usually financed by a studio): 5-50 million\n",
    "* High-budget (almost always financed by a film studio): more than 50 million"
   ]
  },
  {
   "cell_type": "code",
   "execution_count": 444,
   "id": "1630c4fb-10c6-4063-a6e9-b7ef6a040eb4",
   "metadata": {},
   "outputs": [],
   "source": [
    "# let's bin the budgets \n",
    "df1['production_budget_tier'] = pd.cut(df1['production_budget_mil'], bins=[0, 5, 50, np.inf], labels=['Low', 'Medium', 'High'])"
   ]
  },
  {
   "cell_type": "code",
   "execution_count": 445,
   "id": "73f73242-9015-4a21-a885-ef991cc50d73",
   "metadata": {},
   "outputs": [
    {
     "data": {
      "text/html": [
       "<div>\n",
       "<style scoped>\n",
       "    .dataframe tbody tr th:only-of-type {\n",
       "        vertical-align: middle;\n",
       "    }\n",
       "\n",
       "    .dataframe tbody tr th {\n",
       "        vertical-align: top;\n",
       "    }\n",
       "\n",
       "    .dataframe thead th {\n",
       "        text-align: right;\n",
       "    }\n",
       "</style>\n",
       "<table border=\"1\" class=\"dataframe\">\n",
       "  <thead>\n",
       "    <tr style=\"text-align: right;\">\n",
       "      <th></th>\n",
       "      <th>release_date</th>\n",
       "      <th>movie_title</th>\n",
       "      <th>production_budget_mil</th>\n",
       "      <th>worldwide_gross_mil</th>\n",
       "      <th>global_profit_mil</th>\n",
       "      <th>roi</th>\n",
       "      <th>production_budget_tier</th>\n",
       "    </tr>\n",
       "  </thead>\n",
       "  <tbody>\n",
       "    <tr>\n",
       "      <th>0</th>\n",
       "      <td>2009-12-18</td>\n",
       "      <td>Avatar (2009)</td>\n",
       "      <td>425.0</td>\n",
       "      <td>2776.345279</td>\n",
       "      <td>2351.345279</td>\n",
       "      <td>553.257713</td>\n",
       "      <td>High</td>\n",
       "    </tr>\n",
       "    <tr>\n",
       "      <th>1</th>\n",
       "      <td>2011-05-20</td>\n",
       "      <td>Pirates Of The Caribbean: On Stranger Tides (2...</td>\n",
       "      <td>410.6</td>\n",
       "      <td>1045.663875</td>\n",
       "      <td>635.063875</td>\n",
       "      <td>154.667286</td>\n",
       "      <td>High</td>\n",
       "    </tr>\n",
       "    <tr>\n",
       "      <th>2</th>\n",
       "      <td>2019-06-07</td>\n",
       "      <td>Dark Phoenix (2019)</td>\n",
       "      <td>350.0</td>\n",
       "      <td>149.762350</td>\n",
       "      <td>-200.237650</td>\n",
       "      <td>-57.210757</td>\n",
       "      <td>High</td>\n",
       "    </tr>\n",
       "    <tr>\n",
       "      <th>3</th>\n",
       "      <td>2015-05-01</td>\n",
       "      <td>Avengers: Age Of Ultron (2015)</td>\n",
       "      <td>330.6</td>\n",
       "      <td>1403.013963</td>\n",
       "      <td>1072.413963</td>\n",
       "      <td>324.384139</td>\n",
       "      <td>High</td>\n",
       "    </tr>\n",
       "    <tr>\n",
       "      <th>4</th>\n",
       "      <td>2017-12-15</td>\n",
       "      <td>Star Wars Ep. Viii: The Last Jedi (2017)</td>\n",
       "      <td>317.0</td>\n",
       "      <td>1316.721747</td>\n",
       "      <td>999.721747</td>\n",
       "      <td>315.369636</td>\n",
       "      <td>High</td>\n",
       "    </tr>\n",
       "  </tbody>\n",
       "</table>\n",
       "</div>"
      ],
      "text/plain": [
       "  release_date                                        movie_title  \\\n",
       "0   2009-12-18                                      Avatar (2009)   \n",
       "1   2011-05-20  Pirates Of The Caribbean: On Stranger Tides (2...   \n",
       "2   2019-06-07                                Dark Phoenix (2019)   \n",
       "3   2015-05-01                     Avengers: Age Of Ultron (2015)   \n",
       "4   2017-12-15           Star Wars Ep. Viii: The Last Jedi (2017)   \n",
       "\n",
       "   production_budget_mil  worldwide_gross_mil  global_profit_mil         roi  \\\n",
       "0                  425.0          2776.345279        2351.345279  553.257713   \n",
       "1                  410.6          1045.663875         635.063875  154.667286   \n",
       "2                  350.0           149.762350        -200.237650  -57.210757   \n",
       "3                  330.6          1403.013963        1072.413963  324.384139   \n",
       "4                  317.0          1316.721747         999.721747  315.369636   \n",
       "\n",
       "  production_budget_tier  \n",
       "0                   High  \n",
       "1                   High  \n",
       "2                   High  \n",
       "3                   High  \n",
       "4                   High  "
      ]
     },
     "execution_count": 445,
     "metadata": {},
     "output_type": "execute_result"
    }
   ],
   "source": [
    "df1.head()"
   ]
  },
  {
   "cell_type": "markdown",
   "id": "419e1375-7f9a-4f2b-b74f-e84461b1983f",
   "metadata": {},
   "source": [
    "### Cleaning The Movie Data Base dataset"
   ]
  },
  {
   "cell_type": "code",
   "execution_count": 529,
   "id": "7368d97c-b02c-408e-bb50-6cfdea8dd599",
   "metadata": {},
   "outputs": [
    {
     "data": {
      "text/html": [
       "<div>\n",
       "<style scoped>\n",
       "    .dataframe tbody tr th:only-of-type {\n",
       "        vertical-align: middle;\n",
       "    }\n",
       "\n",
       "    .dataframe tbody tr th {\n",
       "        vertical-align: top;\n",
       "    }\n",
       "\n",
       "    .dataframe thead th {\n",
       "        text-align: right;\n",
       "    }\n",
       "</style>\n",
       "<table border=\"1\" class=\"dataframe\">\n",
       "  <thead>\n",
       "    <tr style=\"text-align: right;\">\n",
       "      <th></th>\n",
       "      <th>Unnamed: 0</th>\n",
       "      <th>genre_ids</th>\n",
       "      <th>id</th>\n",
       "      <th>original_language</th>\n",
       "      <th>original_title</th>\n",
       "      <th>popularity</th>\n",
       "      <th>release_date</th>\n",
       "      <th>title</th>\n",
       "      <th>vote_average</th>\n",
       "      <th>vote_count</th>\n",
       "    </tr>\n",
       "  </thead>\n",
       "  <tbody>\n",
       "    <tr>\n",
       "      <th>0</th>\n",
       "      <td>0</td>\n",
       "      <td>[12, 14, 10751]</td>\n",
       "      <td>12444</td>\n",
       "      <td>en</td>\n",
       "      <td>Harry Potter and the Deathly Hallows: Part 1</td>\n",
       "      <td>33.533</td>\n",
       "      <td>2010-11-19</td>\n",
       "      <td>Harry Potter and the Deathly Hallows: Part 1</td>\n",
       "      <td>7.7</td>\n",
       "      <td>10788</td>\n",
       "    </tr>\n",
       "    <tr>\n",
       "      <th>1</th>\n",
       "      <td>1</td>\n",
       "      <td>[14, 12, 16, 10751]</td>\n",
       "      <td>10191</td>\n",
       "      <td>en</td>\n",
       "      <td>How to Train Your Dragon</td>\n",
       "      <td>28.734</td>\n",
       "      <td>2010-03-26</td>\n",
       "      <td>How to Train Your Dragon</td>\n",
       "      <td>7.7</td>\n",
       "      <td>7610</td>\n",
       "    </tr>\n",
       "    <tr>\n",
       "      <th>2</th>\n",
       "      <td>2</td>\n",
       "      <td>[12, 28, 878]</td>\n",
       "      <td>10138</td>\n",
       "      <td>en</td>\n",
       "      <td>Iron Man 2</td>\n",
       "      <td>28.515</td>\n",
       "      <td>2010-05-07</td>\n",
       "      <td>Iron Man 2</td>\n",
       "      <td>6.8</td>\n",
       "      <td>12368</td>\n",
       "    </tr>\n",
       "    <tr>\n",
       "      <th>3</th>\n",
       "      <td>3</td>\n",
       "      <td>[16, 35, 10751]</td>\n",
       "      <td>862</td>\n",
       "      <td>en</td>\n",
       "      <td>Toy Story</td>\n",
       "      <td>28.005</td>\n",
       "      <td>1995-11-22</td>\n",
       "      <td>Toy Story</td>\n",
       "      <td>7.9</td>\n",
       "      <td>10174</td>\n",
       "    </tr>\n",
       "    <tr>\n",
       "      <th>4</th>\n",
       "      <td>4</td>\n",
       "      <td>[28, 878, 12]</td>\n",
       "      <td>27205</td>\n",
       "      <td>en</td>\n",
       "      <td>Inception</td>\n",
       "      <td>27.920</td>\n",
       "      <td>2010-07-16</td>\n",
       "      <td>Inception</td>\n",
       "      <td>8.3</td>\n",
       "      <td>22186</td>\n",
       "    </tr>\n",
       "  </tbody>\n",
       "</table>\n",
       "</div>"
      ],
      "text/plain": [
       "   Unnamed: 0            genre_ids     id original_language  \\\n",
       "0           0      [12, 14, 10751]  12444                en   \n",
       "1           1  [14, 12, 16, 10751]  10191                en   \n",
       "2           2        [12, 28, 878]  10138                en   \n",
       "3           3      [16, 35, 10751]    862                en   \n",
       "4           4        [28, 878, 12]  27205                en   \n",
       "\n",
       "                                 original_title  popularity release_date  \\\n",
       "0  Harry Potter and the Deathly Hallows: Part 1      33.533   2010-11-19   \n",
       "1                      How to Train Your Dragon      28.734   2010-03-26   \n",
       "2                                    Iron Man 2      28.515   2010-05-07   \n",
       "3                                     Toy Story      28.005   1995-11-22   \n",
       "4                                     Inception      27.920   2010-07-16   \n",
       "\n",
       "                                          title  vote_average  vote_count  \n",
       "0  Harry Potter and the Deathly Hallows: Part 1           7.7       10788  \n",
       "1                      How to Train Your Dragon           7.7        7610  \n",
       "2                                    Iron Man 2           6.8       12368  \n",
       "3                                     Toy Story           7.9       10174  \n",
       "4                                     Inception           8.3       22186  "
      ]
     },
     "execution_count": 529,
     "metadata": {},
     "output_type": "execute_result"
    }
   ],
   "source": [
    "df2 = pd.read_csv('./zippedData/tmdb.movies.csv.gz')\n",
    "df2.head()"
   ]
  },
  {
   "cell_type": "code",
   "execution_count": 530,
   "id": "0a2f562b-c1bf-47ae-8302-9cc361f888cd",
   "metadata": {},
   "outputs": [
    {
     "data": {
      "text/plain": [
       "array(['en', 'nl', 'es', 'ja', 'sv', 'de', 'fr', 'cn', 'it', 'ru', 'zh',\n",
       "       'hi', 'no', 'ko', 'da', 'fi', 'pl', 'te', 'hu', 'tr', 'pt', 'he',\n",
       "       'fa', 'th', 'cs', 'et', 'tl', 'lt', 'xx', 'bs', 'ar', 'is', 'el',\n",
       "       'mr', 'hr', 'ro', 'sr', 'uk', 'nb', 'hz', 'ca', 'bg', 'sl', 'lv',\n",
       "       'si', 'ab', 'ta', 'bo', 'id', 'sq', 'bn', 'gu', 'lo', 'ne', 'kk',\n",
       "       'hy', 'ps', 'kn', 'vi', 'ku', 'ka', 'ml', 'ur', 'mi', 'eu', 'sn',\n",
       "       'cy', 'ha', 'ky', 'yi', 'pa', 'xh', 'cr', 'sw', 'af', 'dz'],\n",
       "      dtype=object)"
      ]
     },
     "execution_count": 530,
     "metadata": {},
     "output_type": "execute_result"
    }
   ],
   "source": [
    "df2.original_language.unique()"
   ]
  },
  {
   "cell_type": "code",
   "execution_count": 531,
   "id": "a260a22e-05ff-4bd1-bc5f-89bc80cbc1dd",
   "metadata": {},
   "outputs": [],
   "source": [
    "# let's focus on english movies for now\n",
    "df2 = df2[df2.original_language == 'en']"
   ]
  },
  {
   "cell_type": "code",
   "execution_count": 532,
   "id": "98354e1d-1fbc-4c76-8a18-7c846085105a",
   "metadata": {},
   "outputs": [],
   "source": [
    "# let's drop unnamed, id, original_title, and popularity\n",
    "df2.drop(['Unnamed: 0', 'id', 'original_title', 'popularity', 'original_language'], axis=1, inplace=True)"
   ]
  },
  {
   "cell_type": "code",
   "execution_count": 533,
   "id": "38222f54-15d6-4cc8-8199-fead4131460e",
   "metadata": {},
   "outputs": [
    {
     "name": "stdout",
     "output_type": "stream",
     "text": [
      "<class 'pandas.core.frame.DataFrame'>\n",
      "Index: 23291 entries, 0 to 26516\n",
      "Data columns (total 5 columns):\n",
      " #   Column        Non-Null Count  Dtype  \n",
      "---  ------        --------------  -----  \n",
      " 0   genre_ids     23291 non-null  object \n",
      " 1   release_date  23291 non-null  object \n",
      " 2   title         23291 non-null  object \n",
      " 3   vote_average  23291 non-null  float64\n",
      " 4   vote_count    23291 non-null  int64  \n",
      "dtypes: float64(1), int64(1), object(3)\n",
      "memory usage: 1.1+ MB\n"
     ]
    }
   ],
   "source": [
    "df2.info()"
   ]
  },
  {
   "cell_type": "code",
   "execution_count": 534,
   "id": "50909727-11ce-4ea5-8aef-1c95dd52dd07",
   "metadata": {},
   "outputs": [],
   "source": [
    "df2.release_date = pd.to_datetime(df2.release_date)"
   ]
  },
  {
   "cell_type": "code",
   "execution_count": 535,
   "id": "97d6f9bc-9c1c-4f8a-b143-b3b694c0207c",
   "metadata": {},
   "outputs": [
    {
     "data": {
      "text/html": [
       "<div>\n",
       "<style scoped>\n",
       "    .dataframe tbody tr th:only-of-type {\n",
       "        vertical-align: middle;\n",
       "    }\n",
       "\n",
       "    .dataframe tbody tr th {\n",
       "        vertical-align: top;\n",
       "    }\n",
       "\n",
       "    .dataframe thead th {\n",
       "        text-align: right;\n",
       "    }\n",
       "</style>\n",
       "<table border=\"1\" class=\"dataframe\">\n",
       "  <thead>\n",
       "    <tr style=\"text-align: right;\">\n",
       "      <th></th>\n",
       "      <th>release_date</th>\n",
       "      <th>vote_average</th>\n",
       "      <th>vote_count</th>\n",
       "    </tr>\n",
       "  </thead>\n",
       "  <tbody>\n",
       "    <tr>\n",
       "      <th>count</th>\n",
       "      <td>23291</td>\n",
       "      <td>23291.000000</td>\n",
       "      <td>23291.000000</td>\n",
       "    </tr>\n",
       "    <tr>\n",
       "      <th>mean</th>\n",
       "      <td>2014-06-30 21:08:44.442917888</td>\n",
       "      <td>5.953458</td>\n",
       "      <td>209.307887</td>\n",
       "    </tr>\n",
       "    <tr>\n",
       "      <th>min</th>\n",
       "      <td>1930-04-29 00:00:00</td>\n",
       "      <td>0.000000</td>\n",
       "      <td>1.000000</td>\n",
       "    </tr>\n",
       "    <tr>\n",
       "      <th>25%</th>\n",
       "      <td>2012-07-27 00:00:00</td>\n",
       "      <td>5.000000</td>\n",
       "      <td>1.000000</td>\n",
       "    </tr>\n",
       "    <tr>\n",
       "      <th>50%</th>\n",
       "      <td>2014-10-05 00:00:00</td>\n",
       "      <td>6.000000</td>\n",
       "      <td>4.000000</td>\n",
       "    </tr>\n",
       "    <tr>\n",
       "      <th>75%</th>\n",
       "      <td>2016-10-09 12:00:00</td>\n",
       "      <td>7.000000</td>\n",
       "      <td>24.000000</td>\n",
       "    </tr>\n",
       "    <tr>\n",
       "      <th>max</th>\n",
       "      <td>2020-12-25 00:00:00</td>\n",
       "      <td>10.000000</td>\n",
       "      <td>22186.000000</td>\n",
       "    </tr>\n",
       "    <tr>\n",
       "      <th>std</th>\n",
       "      <td>NaN</td>\n",
       "      <td>1.897055</td>\n",
       "      <td>1016.214512</td>\n",
       "    </tr>\n",
       "  </tbody>\n",
       "</table>\n",
       "</div>"
      ],
      "text/plain": [
       "                        release_date  vote_average    vote_count\n",
       "count                          23291  23291.000000  23291.000000\n",
       "mean   2014-06-30 21:08:44.442917888      5.953458    209.307887\n",
       "min              1930-04-29 00:00:00      0.000000      1.000000\n",
       "25%              2012-07-27 00:00:00      5.000000      1.000000\n",
       "50%              2014-10-05 00:00:00      6.000000      4.000000\n",
       "75%              2016-10-09 12:00:00      7.000000     24.000000\n",
       "max              2020-12-25 00:00:00     10.000000  22186.000000\n",
       "std                              NaN      1.897055   1016.214512"
      ]
     },
     "execution_count": 535,
     "metadata": {},
     "output_type": "execute_result"
    }
   ],
   "source": [
    "df2.describe()"
   ]
  },
  {
   "cell_type": "code",
   "execution_count": 536,
   "id": "acc14080-48ba-421a-969d-4f3038ef3bc6",
   "metadata": {},
   "outputs": [
    {
     "data": {
      "text/html": [
       "<div>\n",
       "<style scoped>\n",
       "    .dataframe tbody tr th:only-of-type {\n",
       "        vertical-align: middle;\n",
       "    }\n",
       "\n",
       "    .dataframe tbody tr th {\n",
       "        vertical-align: top;\n",
       "    }\n",
       "\n",
       "    .dataframe thead th {\n",
       "        text-align: right;\n",
       "    }\n",
       "</style>\n",
       "<table border=\"1\" class=\"dataframe\">\n",
       "  <thead>\n",
       "    <tr style=\"text-align: right;\">\n",
       "      <th></th>\n",
       "      <th>genre_ids</th>\n",
       "      <th>release_date</th>\n",
       "      <th>title</th>\n",
       "      <th>vote_average</th>\n",
       "      <th>vote_count</th>\n",
       "    </tr>\n",
       "  </thead>\n",
       "  <tbody>\n",
       "    <tr>\n",
       "      <th>26057</th>\n",
       "      <td>[27, 80, 80, 80, 80, 80, 80]</td>\n",
       "      <td>2020-12-25</td>\n",
       "      <td>Murdery Christmas</td>\n",
       "      <td>0.0</td>\n",
       "      <td>1</td>\n",
       "    </tr>\n",
       "  </tbody>\n",
       "</table>\n",
       "</div>"
      ],
      "text/plain": [
       "                          genre_ids release_date              title  \\\n",
       "26057  [27, 80, 80, 80, 80, 80, 80]   2020-12-25  Murdery Christmas   \n",
       "\n",
       "       vote_average  vote_count  \n",
       "26057           0.0           1  "
      ]
     },
     "execution_count": 536,
     "metadata": {},
     "output_type": "execute_result"
    }
   ],
   "source": [
    "# so that we are looking at the same year frame, let's filter by year 2009-2019\n",
    "df2 = df2[df2.release_date.dt.strftime('%Y') > '2008']\n",
    "\n",
    "# we can see that max date included 2020, so let's check those rows \n",
    "\n",
    "df2[df2.release_date.dt.strftime('%Y') == '2020']"
   ]
  },
  {
   "cell_type": "code",
   "execution_count": 537,
   "id": "acf5cb94-785a-46ca-bea1-e85e9044aa1a",
   "metadata": {},
   "outputs": [],
   "source": [
    "# There is only one entry with no vote counts. Let's filter vote counts, which will get rid of this entry as well\n",
    "# we can see that the majority of vote_counts lie between 1-27. The low vote count may not provide an accurate depiction of movie success \\\n",
    "# as vote_average may be inflated due to the particular movie being catered to a niche audience\n",
    "\n",
    "df2 = df2[df2.vote_count > 27]"
   ]
  },
  {
   "cell_type": "code",
   "execution_count": 538,
   "id": "95621109-735d-4baa-a040-cd3c24b3a80a",
   "metadata": {},
   "outputs": [],
   "source": [
    "# rename title to movie_title for consistency \n",
    "df2.rename(columns={'title':'movie_title'}, inplace=True)\n",
    "df2.movie_title = df2.movie_title.map(lambda x: x.title())\n",
    "\n",
    "# looking for duplicates and removing these while resetting the index\n",
    "df2 = df2.drop_duplicates().reset_index(drop=True)"
   ]
  },
  {
   "cell_type": "code",
   "execution_count": 539,
   "id": "b634641e-eb82-40dd-8c50-820e5bfc49f2",
   "metadata": {},
   "outputs": [],
   "source": [
    "# so that the movie title is standardised with df1\n",
    "movie_title_year_df2 = []\n",
    "\n",
    "for i in range(len(df2.movie_title)):\n",
    "    movie_title_year_df2.append(df2.movie_title[i] + f' ({df2.release_date.dt.year[i]})')\n",
    "\n",
    "df2['movie_title'] = movie_title_year_df2"
   ]
  },
  {
   "cell_type": "code",
   "execution_count": 540,
   "id": "d846be04-dcb5-491d-9fbb-aee8b899cf39",
   "metadata": {},
   "outputs": [
    {
     "data": {
      "text/html": [
       "<div>\n",
       "<style scoped>\n",
       "    .dataframe tbody tr th:only-of-type {\n",
       "        vertical-align: middle;\n",
       "    }\n",
       "\n",
       "    .dataframe tbody tr th {\n",
       "        vertical-align: top;\n",
       "    }\n",
       "\n",
       "    .dataframe thead th {\n",
       "        text-align: right;\n",
       "    }\n",
       "</style>\n",
       "<table border=\"1\" class=\"dataframe\">\n",
       "  <thead>\n",
       "    <tr style=\"text-align: right;\">\n",
       "      <th></th>\n",
       "      <th>genre_ids</th>\n",
       "      <th>release_date</th>\n",
       "      <th>movie_title</th>\n",
       "      <th>vote_average</th>\n",
       "      <th>vote_count</th>\n",
       "    </tr>\n",
       "  </thead>\n",
       "  <tbody>\n",
       "    <tr>\n",
       "      <th>1974</th>\n",
       "      <td>[27, 53]</td>\n",
       "      <td>2013-07-19</td>\n",
       "      <td>Beneath (2013)</td>\n",
       "      <td>3.8</td>\n",
       "      <td>38</td>\n",
       "    </tr>\n",
       "    <tr>\n",
       "      <th>3237</th>\n",
       "      <td>[53, 18]</td>\n",
       "      <td>2015-09-18</td>\n",
       "      <td>Eden (2015)</td>\n",
       "      <td>5.4</td>\n",
       "      <td>29</td>\n",
       "    </tr>\n",
       "  </tbody>\n",
       "</table>\n",
       "</div>"
      ],
      "text/plain": [
       "     genre_ids release_date     movie_title  vote_average  vote_count\n",
       "1974  [27, 53]   2013-07-19  Beneath (2013)           3.8          38\n",
       "3237  [53, 18]   2015-09-18     Eden (2015)           5.4          29"
      ]
     },
     "execution_count": 540,
     "metadata": {},
     "output_type": "execute_result"
    }
   ],
   "source": [
    "# checking for duplicates\n",
    "df2[df2.movie_title.duplicated()]"
   ]
  },
  {
   "cell_type": "markdown",
   "id": "d24069eb-e260-4787-8466-a37c1aa18589",
   "metadata": {},
   "source": [
    "Let's check these duplicates; are they distinct movies?"
   ]
  },
  {
   "cell_type": "code",
   "execution_count": 541,
   "id": "77ae7437-1d75-42ef-9cd9-908db90ae8a6",
   "metadata": {},
   "outputs": [
    {
     "data": {
      "text/html": [
       "<div>\n",
       "<style scoped>\n",
       "    .dataframe tbody tr th:only-of-type {\n",
       "        vertical-align: middle;\n",
       "    }\n",
       "\n",
       "    .dataframe tbody tr th {\n",
       "        vertical-align: top;\n",
       "    }\n",
       "\n",
       "    .dataframe thead th {\n",
       "        text-align: right;\n",
       "    }\n",
       "</style>\n",
       "<table border=\"1\" class=\"dataframe\">\n",
       "  <thead>\n",
       "    <tr style=\"text-align: right;\">\n",
       "      <th></th>\n",
       "      <th>genre_ids</th>\n",
       "      <th>release_date</th>\n",
       "      <th>movie_title</th>\n",
       "      <th>vote_average</th>\n",
       "      <th>vote_count</th>\n",
       "    </tr>\n",
       "  </thead>\n",
       "  <tbody>\n",
       "    <tr>\n",
       "      <th>1666</th>\n",
       "      <td>[27]</td>\n",
       "      <td>2013-10-08</td>\n",
       "      <td>Beneath (2013)</td>\n",
       "      <td>5.2</td>\n",
       "      <td>76</td>\n",
       "    </tr>\n",
       "    <tr>\n",
       "      <th>1974</th>\n",
       "      <td>[27, 53]</td>\n",
       "      <td>2013-07-19</td>\n",
       "      <td>Beneath (2013)</td>\n",
       "      <td>3.8</td>\n",
       "      <td>38</td>\n",
       "    </tr>\n",
       "  </tbody>\n",
       "</table>\n",
       "</div>"
      ],
      "text/plain": [
       "     genre_ids release_date     movie_title  vote_average  vote_count\n",
       "1666      [27]   2013-10-08  Beneath (2013)           5.2          76\n",
       "1974  [27, 53]   2013-07-19  Beneath (2013)           3.8          38"
      ]
     },
     "execution_count": 541,
     "metadata": {},
     "output_type": "execute_result"
    }
   ],
   "source": [
    "df2[df2.movie_title == 'Beneath (2013)']"
   ]
  },
  {
   "cell_type": "code",
   "execution_count": 542,
   "id": "faf73ebe-f6ee-4319-864d-0e64b4dc5b68",
   "metadata": {},
   "outputs": [
    {
     "data": {
      "text/html": [
       "<div>\n",
       "<style scoped>\n",
       "    .dataframe tbody tr th:only-of-type {\n",
       "        vertical-align: middle;\n",
       "    }\n",
       "\n",
       "    .dataframe tbody tr th {\n",
       "        vertical-align: top;\n",
       "    }\n",
       "\n",
       "    .dataframe thead th {\n",
       "        text-align: right;\n",
       "    }\n",
       "</style>\n",
       "<table border=\"1\" class=\"dataframe\">\n",
       "  <thead>\n",
       "    <tr style=\"text-align: right;\">\n",
       "      <th></th>\n",
       "      <th>genre_ids</th>\n",
       "      <th>release_date</th>\n",
       "      <th>movie_title</th>\n",
       "      <th>vote_average</th>\n",
       "      <th>vote_count</th>\n",
       "    </tr>\n",
       "  </thead>\n",
       "  <tbody>\n",
       "    <tr>\n",
       "      <th>2455</th>\n",
       "      <td>[18, 10402]</td>\n",
       "      <td>2015-06-19</td>\n",
       "      <td>Eden (2015)</td>\n",
       "      <td>5.8</td>\n",
       "      <td>57</td>\n",
       "    </tr>\n",
       "    <tr>\n",
       "      <th>3237</th>\n",
       "      <td>[53, 18]</td>\n",
       "      <td>2015-09-18</td>\n",
       "      <td>Eden (2015)</td>\n",
       "      <td>5.4</td>\n",
       "      <td>29</td>\n",
       "    </tr>\n",
       "  </tbody>\n",
       "</table>\n",
       "</div>"
      ],
      "text/plain": [
       "        genre_ids release_date  movie_title  vote_average  vote_count\n",
       "2455  [18, 10402]   2015-06-19  Eden (2015)           5.8          57\n",
       "3237     [53, 18]   2015-09-18  Eden (2015)           5.4          29"
      ]
     },
     "execution_count": 542,
     "metadata": {},
     "output_type": "execute_result"
    }
   ],
   "source": [
    "df2[df2.movie_title == 'Eden (2015)']"
   ]
  },
  {
   "cell_type": "code",
   "execution_count": 543,
   "id": "dd4601f8-a0e1-489e-a4fb-b7fa33bbb772",
   "metadata": {},
   "outputs": [],
   "source": [
    "# decided to keep the first of the movies as they have a higher vote_count\n",
    "df2.drop_duplicates(subset='movie_title', inplace=True)"
   ]
  },
  {
   "cell_type": "code",
   "execution_count": 544,
   "id": "3da079a8-c9fd-4691-a5c4-6048d7631a0d",
   "metadata": {},
   "outputs": [
    {
     "data": {
      "text/html": [
       "<div>\n",
       "<style scoped>\n",
       "    .dataframe tbody tr th:only-of-type {\n",
       "        vertical-align: middle;\n",
       "    }\n",
       "\n",
       "    .dataframe tbody tr th {\n",
       "        vertical-align: top;\n",
       "    }\n",
       "\n",
       "    .dataframe thead th {\n",
       "        text-align: right;\n",
       "    }\n",
       "</style>\n",
       "<table border=\"1\" class=\"dataframe\">\n",
       "  <thead>\n",
       "    <tr style=\"text-align: right;\">\n",
       "      <th></th>\n",
       "      <th>genre_ids</th>\n",
       "      <th>release_date</th>\n",
       "      <th>movie_title</th>\n",
       "      <th>vote_average</th>\n",
       "      <th>vote_count</th>\n",
       "    </tr>\n",
       "  </thead>\n",
       "  <tbody>\n",
       "    <tr>\n",
       "      <th>0</th>\n",
       "      <td>[12, 14, 10751]</td>\n",
       "      <td>2010-11-19</td>\n",
       "      <td>Harry Potter And The Deathly Hallows: Part 1 (...</td>\n",
       "      <td>7.7</td>\n",
       "      <td>10788</td>\n",
       "    </tr>\n",
       "    <tr>\n",
       "      <th>1</th>\n",
       "      <td>[14, 12, 16, 10751]</td>\n",
       "      <td>2010-03-26</td>\n",
       "      <td>How To Train Your Dragon (2010)</td>\n",
       "      <td>7.7</td>\n",
       "      <td>7610</td>\n",
       "    </tr>\n",
       "    <tr>\n",
       "      <th>2</th>\n",
       "      <td>[12, 28, 878]</td>\n",
       "      <td>2010-05-07</td>\n",
       "      <td>Iron Man 2 (2010)</td>\n",
       "      <td>6.8</td>\n",
       "      <td>12368</td>\n",
       "    </tr>\n",
       "    <tr>\n",
       "      <th>3</th>\n",
       "      <td>[28, 878, 12]</td>\n",
       "      <td>2010-07-16</td>\n",
       "      <td>Inception (2010)</td>\n",
       "      <td>8.3</td>\n",
       "      <td>22186</td>\n",
       "    </tr>\n",
       "    <tr>\n",
       "      <th>4</th>\n",
       "      <td>[12, 14, 10751]</td>\n",
       "      <td>2010-02-11</td>\n",
       "      <td>Percy Jackson &amp; The Olympians: The Lightning T...</td>\n",
       "      <td>6.1</td>\n",
       "      <td>4229</td>\n",
       "    </tr>\n",
       "  </tbody>\n",
       "</table>\n",
       "</div>"
      ],
      "text/plain": [
       "             genre_ids release_date  \\\n",
       "0      [12, 14, 10751]   2010-11-19   \n",
       "1  [14, 12, 16, 10751]   2010-03-26   \n",
       "2        [12, 28, 878]   2010-05-07   \n",
       "3        [28, 878, 12]   2010-07-16   \n",
       "4      [12, 14, 10751]   2010-02-11   \n",
       "\n",
       "                                         movie_title  vote_average  vote_count  \n",
       "0  Harry Potter And The Deathly Hallows: Part 1 (...           7.7       10788  \n",
       "1                    How To Train Your Dragon (2010)           7.7        7610  \n",
       "2                                  Iron Man 2 (2010)           6.8       12368  \n",
       "3                                   Inception (2010)           8.3       22186  \n",
       "4  Percy Jackson & The Olympians: The Lightning T...           6.1        4229  "
      ]
     },
     "execution_count": 544,
     "metadata": {},
     "output_type": "execute_result"
    }
   ],
   "source": [
    "df2.head()"
   ]
  },
  {
   "cell_type": "code",
   "execution_count": 545,
   "id": "f8cbdc7d-9868-4288-8821-8527412c5b0d",
   "metadata": {},
   "outputs": [
    {
     "data": {
      "text/plain": [
       "'['"
      ]
     },
     "execution_count": 545,
     "metadata": {},
     "output_type": "execute_result"
    }
   ],
   "source": [
    "# we can see that while genre_ids appears to look like a list, it is actually a string with brackets\n",
    "df2.genre_ids[0][0]"
   ]
  },
  {
   "cell_type": "code",
   "execution_count": 546,
   "id": "1605b61d-5e1d-434f-a771-ca91abeaabe3",
   "metadata": {},
   "outputs": [],
   "source": [
    "df2['genre_ids'] = df2.genre_ids.map(lambda x: x.strip('[ ]'))\n",
    "df2['genre_ids'] = df2.genre_ids.map(lambda x: x.split(', '))\n",
    "\n",
    "# converting from set back to list to ensure that there are no duplicates of genre per row\n",
    "df2.genre_ids = df2.genre_ids.map(lambda x: list(set(x)))"
   ]
  },
  {
   "cell_type": "code",
   "execution_count": 547,
   "id": "2497d08c-5b45-4bc4-a405-20a1bd0d63be",
   "metadata": {},
   "outputs": [
    {
     "data": {
      "text/plain": [
       "'14'"
      ]
     },
     "execution_count": 547,
     "metadata": {},
     "output_type": "execute_result"
    }
   ],
   "source": [
    "# note that the order will now be different as set does not maintain order\n",
    "df2.genre_ids[0][0]"
   ]
  },
  {
   "cell_type": "code",
   "execution_count": 553,
   "id": "75c6a703-1d19-4963-abe2-6f97a25a6031",
   "metadata": {},
   "outputs": [],
   "source": [
    "df2.drop(['release_date'], axis=1, inplace=True)"
   ]
  },
  {
   "cell_type": "code",
   "execution_count": 557,
   "id": "02331173-8f51-4877-9288-503a4c0b9a11",
   "metadata": {},
   "outputs": [
    {
     "name": "stdout",
     "output_type": "stream",
     "text": [
      "<class 'pandas.core.frame.DataFrame'>\n",
      "Index: 5019 entries, 0 to 5020\n",
      "Data columns (total 4 columns):\n",
      " #   Column        Non-Null Count  Dtype  \n",
      "---  ------        --------------  -----  \n",
      " 0   genre_ids     5019 non-null   object \n",
      " 1   movie_title   5019 non-null   object \n",
      " 2   vote_average  5019 non-null   float64\n",
      " 3   vote_count    5019 non-null   int64  \n",
      "dtypes: float64(1), int64(1), object(2)\n",
      "memory usage: 325.1+ KB\n"
     ]
    }
   ],
   "source": [
    "df2.info()"
   ]
  },
  {
   "cell_type": "code",
   "execution_count": 554,
   "id": "567b3d02-d1ce-44d9-ba0e-712b8a057960",
   "metadata": {},
   "outputs": [],
   "source": [
    "# joining df2 with df1 to combine The Numbers data with The Movie Database data\n",
    "\n",
    "df3 = df1.merge(df2, on='movie_title', how='inner')"
   ]
  },
  {
   "cell_type": "code",
   "execution_count": 555,
   "id": "9740eeb1-8f5b-46f0-8d1f-0865a47287cd",
   "metadata": {},
   "outputs": [
    {
     "name": "stdout",
     "output_type": "stream",
     "text": [
      "<class 'pandas.core.frame.DataFrame'>\n",
      "RangeIndex: 1392 entries, 0 to 1391\n",
      "Data columns (total 10 columns):\n",
      " #   Column                  Non-Null Count  Dtype         \n",
      "---  ------                  --------------  -----         \n",
      " 0   release_date            1392 non-null   datetime64[ns]\n",
      " 1   movie_title             1392 non-null   object        \n",
      " 2   production_budget_mil   1392 non-null   float64       \n",
      " 3   worldwide_gross_mil     1392 non-null   float64       \n",
      " 4   global_profit_mil       1392 non-null   float64       \n",
      " 5   roi                     1392 non-null   float64       \n",
      " 6   production_budget_tier  1392 non-null   category      \n",
      " 7   genre_ids               1392 non-null   object        \n",
      " 8   vote_average            1392 non-null   float64       \n",
      " 9   vote_count              1392 non-null   int64         \n",
      "dtypes: category(1), datetime64[ns](1), float64(5), int64(1), object(2)\n",
      "memory usage: 99.5+ KB\n"
     ]
    }
   ],
   "source": [
    "df3.info()"
   ]
  },
  {
   "cell_type": "code",
   "execution_count": 556,
   "id": "5af652d6-cc62-492e-98ae-726056e36768",
   "metadata": {},
   "outputs": [
    {
     "data": {
      "text/html": [
       "<div>\n",
       "<style scoped>\n",
       "    .dataframe tbody tr th:only-of-type {\n",
       "        vertical-align: middle;\n",
       "    }\n",
       "\n",
       "    .dataframe tbody tr th {\n",
       "        vertical-align: top;\n",
       "    }\n",
       "\n",
       "    .dataframe thead th {\n",
       "        text-align: right;\n",
       "    }\n",
       "</style>\n",
       "<table border=\"1\" class=\"dataframe\">\n",
       "  <thead>\n",
       "    <tr style=\"text-align: right;\">\n",
       "      <th></th>\n",
       "      <th>release_date</th>\n",
       "      <th>movie_title</th>\n",
       "      <th>production_budget_mil</th>\n",
       "      <th>worldwide_gross_mil</th>\n",
       "      <th>global_profit_mil</th>\n",
       "      <th>roi</th>\n",
       "      <th>production_budget_tier</th>\n",
       "      <th>genre_ids</th>\n",
       "      <th>vote_average</th>\n",
       "      <th>vote_count</th>\n",
       "    </tr>\n",
       "  </thead>\n",
       "  <tbody>\n",
       "    <tr>\n",
       "      <th>0</th>\n",
       "      <td>2009-12-18</td>\n",
       "      <td>Avatar (2009)</td>\n",
       "      <td>425.0</td>\n",
       "      <td>2776.345279</td>\n",
       "      <td>2351.345279</td>\n",
       "      <td>553.257713</td>\n",
       "      <td>High</td>\n",
       "      <td>[878, 14, 12, 28]</td>\n",
       "      <td>7.4</td>\n",
       "      <td>18676</td>\n",
       "    </tr>\n",
       "    <tr>\n",
       "      <th>1</th>\n",
       "      <td>2011-05-20</td>\n",
       "      <td>Pirates Of The Caribbean: On Stranger Tides (2...</td>\n",
       "      <td>410.6</td>\n",
       "      <td>1045.663875</td>\n",
       "      <td>635.063875</td>\n",
       "      <td>154.667286</td>\n",
       "      <td>High</td>\n",
       "      <td>[14, 12, 28]</td>\n",
       "      <td>6.4</td>\n",
       "      <td>8571</td>\n",
       "    </tr>\n",
       "    <tr>\n",
       "      <th>2</th>\n",
       "      <td>2015-05-01</td>\n",
       "      <td>Avengers: Age Of Ultron (2015)</td>\n",
       "      <td>330.6</td>\n",
       "      <td>1403.013963</td>\n",
       "      <td>1072.413963</td>\n",
       "      <td>324.384139</td>\n",
       "      <td>High</td>\n",
       "      <td>[878, 12, 28]</td>\n",
       "      <td>7.3</td>\n",
       "      <td>13457</td>\n",
       "    </tr>\n",
       "    <tr>\n",
       "      <th>3</th>\n",
       "      <td>2018-04-27</td>\n",
       "      <td>Avengers: Infinity War (2018)</td>\n",
       "      <td>300.0</td>\n",
       "      <td>2048.134200</td>\n",
       "      <td>1748.134200</td>\n",
       "      <td>582.711400</td>\n",
       "      <td>High</td>\n",
       "      <td>[14, 12, 28]</td>\n",
       "      <td>8.3</td>\n",
       "      <td>13948</td>\n",
       "    </tr>\n",
       "    <tr>\n",
       "      <th>4</th>\n",
       "      <td>2017-11-17</td>\n",
       "      <td>Justice League (2017)</td>\n",
       "      <td>300.0</td>\n",
       "      <td>655.945209</td>\n",
       "      <td>355.945209</td>\n",
       "      <td>118.648403</td>\n",
       "      <td>High</td>\n",
       "      <td>[878, 14, 12, 28]</td>\n",
       "      <td>6.2</td>\n",
       "      <td>7510</td>\n",
       "    </tr>\n",
       "  </tbody>\n",
       "</table>\n",
       "</div>"
      ],
      "text/plain": [
       "  release_date                                        movie_title  \\\n",
       "0   2009-12-18                                      Avatar (2009)   \n",
       "1   2011-05-20  Pirates Of The Caribbean: On Stranger Tides (2...   \n",
       "2   2015-05-01                     Avengers: Age Of Ultron (2015)   \n",
       "3   2018-04-27                      Avengers: Infinity War (2018)   \n",
       "4   2017-11-17                              Justice League (2017)   \n",
       "\n",
       "   production_budget_mil  worldwide_gross_mil  global_profit_mil         roi  \\\n",
       "0                  425.0          2776.345279        2351.345279  553.257713   \n",
       "1                  410.6          1045.663875         635.063875  154.667286   \n",
       "2                  330.6          1403.013963        1072.413963  324.384139   \n",
       "3                  300.0          2048.134200        1748.134200  582.711400   \n",
       "4                  300.0           655.945209         355.945209  118.648403   \n",
       "\n",
       "  production_budget_tier          genre_ids  vote_average  vote_count  \n",
       "0                   High  [878, 14, 12, 28]           7.4       18676  \n",
       "1                   High       [14, 12, 28]           6.4        8571  \n",
       "2                   High      [878, 12, 28]           7.3       13457  \n",
       "3                   High       [14, 12, 28]           8.3       13948  \n",
       "4                   High  [878, 14, 12, 28]           6.2        7510  "
      ]
     },
     "execution_count": 556,
     "metadata": {},
     "output_type": "execute_result"
    }
   ],
   "source": [
    "df3.head()"
   ]
  },
  {
   "cell_type": "markdown",
   "id": "dd6e5208-ad53-4cfb-a158-003c72075410",
   "metadata": {},
   "source": [
    "### Cleaning and joining IMDb"
   ]
  },
  {
   "cell_type": "code",
   "execution_count": 6,
   "id": "dafb72c9-2544-467a-928d-47966d32a8b3",
   "metadata": {},
   "outputs": [
    {
     "data": {
      "text/html": [
       "<div>\n",
       "<style scoped>\n",
       "    .dataframe tbody tr th:only-of-type {\n",
       "        vertical-align: middle;\n",
       "    }\n",
       "\n",
       "    .dataframe tbody tr th {\n",
       "        vertical-align: top;\n",
       "    }\n",
       "\n",
       "    .dataframe thead th {\n",
       "        text-align: right;\n",
       "    }\n",
       "</style>\n",
       "<table border=\"1\" class=\"dataframe\">\n",
       "  <thead>\n",
       "    <tr style=\"text-align: right;\">\n",
       "      <th></th>\n",
       "      <th>Unnamed: 0</th>\n",
       "      <th>tconst</th>\n",
       "      <th>titleType</th>\n",
       "      <th>primaryTitle</th>\n",
       "      <th>startYear</th>\n",
       "      <th>runtimeMinutes</th>\n",
       "      <th>genres</th>\n",
       "    </tr>\n",
       "  </thead>\n",
       "  <tbody>\n",
       "    <tr>\n",
       "      <th>0</th>\n",
       "      <td>0</td>\n",
       "      <td>tt0013274</td>\n",
       "      <td>movie</td>\n",
       "      <td>Istoriya grazhdanskoy voyny</td>\n",
       "      <td>2021</td>\n",
       "      <td>94</td>\n",
       "      <td>Documentary</td>\n",
       "    </tr>\n",
       "    <tr>\n",
       "      <th>1</th>\n",
       "      <td>1</td>\n",
       "      <td>tt0052434</td>\n",
       "      <td>movie</td>\n",
       "      <td>Tuppe tuppe, Marescià!</td>\n",
       "      <td>2023</td>\n",
       "      <td>95</td>\n",
       "      <td>Comedy</td>\n",
       "    </tr>\n",
       "    <tr>\n",
       "      <th>2</th>\n",
       "      <td>2</td>\n",
       "      <td>tt0062336</td>\n",
       "      <td>movie</td>\n",
       "      <td>The Tango of the Widower and Its Distorting Mi...</td>\n",
       "      <td>2020</td>\n",
       "      <td>70</td>\n",
       "      <td>Drama</td>\n",
       "    </tr>\n",
       "    <tr>\n",
       "      <th>3</th>\n",
       "      <td>3</td>\n",
       "      <td>tt0068865</td>\n",
       "      <td>movie</td>\n",
       "      <td>Lives of Performers</td>\n",
       "      <td>2016</td>\n",
       "      <td>90</td>\n",
       "      <td>Drama</td>\n",
       "    </tr>\n",
       "    <tr>\n",
       "      <th>4</th>\n",
       "      <td>4</td>\n",
       "      <td>tt0069049</td>\n",
       "      <td>movie</td>\n",
       "      <td>The Other Side of the Wind</td>\n",
       "      <td>2018</td>\n",
       "      <td>122</td>\n",
       "      <td>Drama</td>\n",
       "    </tr>\n",
       "  </tbody>\n",
       "</table>\n",
       "</div>"
      ],
      "text/plain": [
       "   Unnamed: 0     tconst titleType  \\\n",
       "0           0  tt0013274     movie   \n",
       "1           1  tt0052434     movie   \n",
       "2           2  tt0062336     movie   \n",
       "3           3  tt0068865     movie   \n",
       "4           4  tt0069049     movie   \n",
       "\n",
       "                                        primaryTitle  startYear  \\\n",
       "0                        Istoriya grazhdanskoy voyny       2021   \n",
       "1                             Tuppe tuppe, Marescià!       2023   \n",
       "2  The Tango of the Widower and Its Distorting Mi...       2020   \n",
       "3                                Lives of Performers       2016   \n",
       "4                         The Other Side of the Wind       2018   \n",
       "\n",
       "   runtimeMinutes       genres  \n",
       "0              94  Documentary  \n",
       "1              95       Comedy  \n",
       "2              70        Drama  \n",
       "3              90        Drama  \n",
       "4             122        Drama  "
      ]
     },
     "execution_count": 6,
     "metadata": {},
     "output_type": "execute_result"
    }
   ],
   "source": [
    "df4 = pd.read_csv('./zippedData/imdb_basics.aug23_reduced.csv.gz')\n",
    "df4.head()"
   ]
  },
  {
   "cell_type": "code",
   "execution_count": 7,
   "id": "9a3b4b67-cd85-46b1-ad60-19b49941d4a0",
   "metadata": {},
   "outputs": [
    {
     "name": "stdout",
     "output_type": "stream",
     "text": [
      "<class 'pandas.core.frame.DataFrame'>\n",
      "RangeIndex: 210566 entries, 0 to 210565\n",
      "Data columns (total 7 columns):\n",
      " #   Column          Non-Null Count   Dtype \n",
      "---  ------          --------------   ----- \n",
      " 0   Unnamed: 0      210566 non-null  int64 \n",
      " 1   tconst          210566 non-null  object\n",
      " 2   titleType       210566 non-null  object\n",
      " 3   primaryTitle    210566 non-null  object\n",
      " 4   startYear       210566 non-null  int64 \n",
      " 5   runtimeMinutes  210566 non-null  int64 \n",
      " 6   genres          210566 non-null  object\n",
      "dtypes: int64(3), object(4)\n",
      "memory usage: 11.2+ MB\n"
     ]
    }
   ],
   "source": [
    "df4.info()"
   ]
  },
  {
   "cell_type": "code",
   "execution_count": 8,
   "id": "d46587aa-d2a1-44b1-a823-8107ebbc2035",
   "metadata": {},
   "outputs": [],
   "source": [
    "# drop unnamed column\n",
    "df4.drop(['Unnamed: 0'], axis=1, inplace=True)"
   ]
  },
  {
   "cell_type": "code",
   "execution_count": 12,
   "id": "d991f915-8864-4337-a2fa-f9522969d3f2",
   "metadata": {},
   "outputs": [
    {
     "data": {
      "text/plain": [
       "tconst            0\n",
       "titleType         0\n",
       "primaryTitle      0\n",
       "startYear         0\n",
       "runtimeMinutes    0\n",
       "genres            0\n",
       "dtype: int64"
      ]
     },
     "execution_count": 12,
     "metadata": {},
     "output_type": "execute_result"
    }
   ],
   "source": [
    "# confirm no nulls\n",
    "df4.replace(r'\\N', np.nan, inplace=True)\n",
    "df4.isna().sum()"
   ]
  },
  {
   "cell_type": "code",
   "execution_count": 13,
   "id": "357cb468-cd99-48ec-bade-4281525e8cf6",
   "metadata": {},
   "outputs": [],
   "source": [
    "# remove 2023 as not enough data yet\n",
    "df4 = df4[df4.startYear < 2023]"
   ]
  },
  {
   "cell_type": "code",
   "execution_count": 14,
   "id": "ec936ad7-4497-44c9-b32f-95ffc2447be3",
   "metadata": {},
   "outputs": [],
   "source": [
    "df4['runtimeMinutes'] = df4['runtimeMinutes'].astype('int64')"
   ]
  },
  {
   "cell_type": "code",
   "execution_count": 15,
   "id": "2d8079c6-57af-4f00-9306-02d29647f83e",
   "metadata": {},
   "outputs": [
    {
     "data": {
      "text/html": [
       "<div>\n",
       "<style scoped>\n",
       "    .dataframe tbody tr th:only-of-type {\n",
       "        vertical-align: middle;\n",
       "    }\n",
       "\n",
       "    .dataframe tbody tr th {\n",
       "        vertical-align: top;\n",
       "    }\n",
       "\n",
       "    .dataframe thead th {\n",
       "        text-align: right;\n",
       "    }\n",
       "</style>\n",
       "<table border=\"1\" class=\"dataframe\">\n",
       "  <thead>\n",
       "    <tr style=\"text-align: right;\">\n",
       "      <th></th>\n",
       "      <th>tconst</th>\n",
       "      <th>averageRating</th>\n",
       "      <th>numVotes</th>\n",
       "    </tr>\n",
       "  </thead>\n",
       "  <tbody>\n",
       "    <tr>\n",
       "      <th>0</th>\n",
       "      <td>tt0000001</td>\n",
       "      <td>5.7</td>\n",
       "      <td>1990</td>\n",
       "    </tr>\n",
       "    <tr>\n",
       "      <th>1</th>\n",
       "      <td>tt0000002</td>\n",
       "      <td>5.8</td>\n",
       "      <td>265</td>\n",
       "    </tr>\n",
       "    <tr>\n",
       "      <th>2</th>\n",
       "      <td>tt0000003</td>\n",
       "      <td>6.5</td>\n",
       "      <td>1854</td>\n",
       "    </tr>\n",
       "    <tr>\n",
       "      <th>3</th>\n",
       "      <td>tt0000004</td>\n",
       "      <td>5.5</td>\n",
       "      <td>178</td>\n",
       "    </tr>\n",
       "    <tr>\n",
       "      <th>4</th>\n",
       "      <td>tt0000005</td>\n",
       "      <td>6.2</td>\n",
       "      <td>2640</td>\n",
       "    </tr>\n",
       "  </tbody>\n",
       "</table>\n",
       "</div>"
      ],
      "text/plain": [
       "      tconst  averageRating  numVotes\n",
       "0  tt0000001            5.7      1990\n",
       "1  tt0000002            5.8       265\n",
       "2  tt0000003            6.5      1854\n",
       "3  tt0000004            5.5       178\n",
       "4  tt0000005            6.2      2640"
      ]
     },
     "execution_count": 15,
     "metadata": {},
     "output_type": "execute_result"
    }
   ],
   "source": [
    "df5 = pd.read_csv('./zippedData/title.ratings.aug23.tsv.gz', sep='\\t')\n",
    "df5.head()"
   ]
  },
  {
   "cell_type": "code",
   "execution_count": 17,
   "id": "979a2db3-b5ee-4dd8-ad0d-0be467420f12",
   "metadata": {},
   "outputs": [
    {
     "name": "stdout",
     "output_type": "stream",
     "text": [
      "<class 'pandas.core.frame.DataFrame'>\n",
      "RangeIndex: 1335975 entries, 0 to 1335974\n",
      "Data columns (total 3 columns):\n",
      " #   Column         Non-Null Count    Dtype  \n",
      "---  ------         --------------    -----  \n",
      " 0   tconst         1335975 non-null  object \n",
      " 1   averageRating  1335975 non-null  float64\n",
      " 2   numVotes       1335975 non-null  int64  \n",
      "dtypes: float64(1), int64(1), object(1)\n",
      "memory usage: 30.6+ MB\n"
     ]
    }
   ],
   "source": [
    "df5.info()"
   ]
  },
  {
   "cell_type": "code",
   "execution_count": 18,
   "id": "2829df1d-4350-4ea3-8294-b897e0d2b1e7",
   "metadata": {},
   "outputs": [],
   "source": [
    "# replace all \\N with NaNs so we can can get an accurate sense of nulls\n",
    "df5.replace(r'\\N', np.nan, inplace=True)"
   ]
  },
  {
   "cell_type": "code",
   "execution_count": 19,
   "id": "bab52ff0-94d3-4cdf-9813-c33c44beec5f",
   "metadata": {},
   "outputs": [
    {
     "data": {
      "text/plain": [
       "tconst           False\n",
       "averageRating    False\n",
       "numVotes         False\n",
       "dtype: bool"
      ]
     },
     "execution_count": 19,
     "metadata": {},
     "output_type": "execute_result"
    }
   ],
   "source": [
    "df5.isna().any()"
   ]
  },
  {
   "cell_type": "code",
   "execution_count": 20,
   "id": "da2151c0-8c23-4d57-a2b3-417bfd54f464",
   "metadata": {},
   "outputs": [],
   "source": [
    "# set the index of df5 and df6 so that we can join\n",
    "df4.set_index('tconst', inplace=True)\n",
    "df5.set_index('tconst', inplace=True)"
   ]
  },
  {
   "cell_type": "code",
   "execution_count": 21,
   "id": "35efd705-26f4-43e3-90f2-d02c7b478e60",
   "metadata": {},
   "outputs": [
    {
     "data": {
      "text/html": [
       "<div>\n",
       "<style scoped>\n",
       "    .dataframe tbody tr th:only-of-type {\n",
       "        vertical-align: middle;\n",
       "    }\n",
       "\n",
       "    .dataframe tbody tr th {\n",
       "        vertical-align: top;\n",
       "    }\n",
       "\n",
       "    .dataframe thead th {\n",
       "        text-align: right;\n",
       "    }\n",
       "</style>\n",
       "<table border=\"1\" class=\"dataframe\">\n",
       "  <thead>\n",
       "    <tr style=\"text-align: right;\">\n",
       "      <th></th>\n",
       "      <th>titleType</th>\n",
       "      <th>primaryTitle</th>\n",
       "      <th>startYear</th>\n",
       "      <th>runtimeMinutes</th>\n",
       "      <th>genres</th>\n",
       "      <th>averageRating</th>\n",
       "      <th>numVotes</th>\n",
       "    </tr>\n",
       "    <tr>\n",
       "      <th>tconst</th>\n",
       "      <th></th>\n",
       "      <th></th>\n",
       "      <th></th>\n",
       "      <th></th>\n",
       "      <th></th>\n",
       "      <th></th>\n",
       "      <th></th>\n",
       "    </tr>\n",
       "  </thead>\n",
       "  <tbody>\n",
       "    <tr>\n",
       "      <th>tt0013274</th>\n",
       "      <td>movie</td>\n",
       "      <td>Istoriya grazhdanskoy voyny</td>\n",
       "      <td>2021</td>\n",
       "      <td>94</td>\n",
       "      <td>Documentary</td>\n",
       "      <td>6.8</td>\n",
       "      <td>57</td>\n",
       "    </tr>\n",
       "    <tr>\n",
       "      <th>tt0062336</th>\n",
       "      <td>movie</td>\n",
       "      <td>The Tango of the Widower and Its Distorting Mi...</td>\n",
       "      <td>2020</td>\n",
       "      <td>70</td>\n",
       "      <td>Drama</td>\n",
       "      <td>6.4</td>\n",
       "      <td>176</td>\n",
       "    </tr>\n",
       "    <tr>\n",
       "      <th>tt0068865</th>\n",
       "      <td>movie</td>\n",
       "      <td>Lives of Performers</td>\n",
       "      <td>2016</td>\n",
       "      <td>90</td>\n",
       "      <td>Drama</td>\n",
       "      <td>5.4</td>\n",
       "      <td>75</td>\n",
       "    </tr>\n",
       "    <tr>\n",
       "      <th>tt0069049</th>\n",
       "      <td>movie</td>\n",
       "      <td>The Other Side of the Wind</td>\n",
       "      <td>2018</td>\n",
       "      <td>122</td>\n",
       "      <td>Drama</td>\n",
       "      <td>6.7</td>\n",
       "      <td>7777</td>\n",
       "    </tr>\n",
       "    <tr>\n",
       "      <th>tt0096235</th>\n",
       "      <td>movie</td>\n",
       "      <td>Taxi Killer</td>\n",
       "      <td>2022</td>\n",
       "      <td>106</td>\n",
       "      <td>Action,Crime,Drama</td>\n",
       "      <td>5.9</td>\n",
       "      <td>63</td>\n",
       "    </tr>\n",
       "  </tbody>\n",
       "</table>\n",
       "</div>"
      ],
      "text/plain": [
       "          titleType                                       primaryTitle  \\\n",
       "tconst                                                                   \n",
       "tt0013274     movie                        Istoriya grazhdanskoy voyny   \n",
       "tt0062336     movie  The Tango of the Widower and Its Distorting Mi...   \n",
       "tt0068865     movie                                Lives of Performers   \n",
       "tt0069049     movie                         The Other Side of the Wind   \n",
       "tt0096235     movie                                        Taxi Killer   \n",
       "\n",
       "           startYear  runtimeMinutes              genres  averageRating  \\\n",
       "tconst                                                                    \n",
       "tt0013274       2021              94         Documentary            6.8   \n",
       "tt0062336       2020              70               Drama            6.4   \n",
       "tt0068865       2016              90               Drama            5.4   \n",
       "tt0069049       2018             122               Drama            6.7   \n",
       "tt0096235       2022             106  Action,Crime,Drama            5.9   \n",
       "\n",
       "           numVotes  \n",
       "tconst               \n",
       "tt0013274        57  \n",
       "tt0062336       176  \n",
       "tt0068865        75  \n",
       "tt0069049      7777  \n",
       "tt0096235        63  "
      ]
     },
     "execution_count": 21,
     "metadata": {},
     "output_type": "execute_result"
    }
   ],
   "source": [
    "df_imdb_final = df4.join(df5, how='inner')\n",
    "df_imdb_final.head()"
   ]
  },
  {
   "cell_type": "code",
   "execution_count": 22,
   "id": "27896fd8-33fa-4ee8-b010-1614c4876437",
   "metadata": {},
   "outputs": [
    {
     "data": {
      "text/html": [
       "<div>\n",
       "<style scoped>\n",
       "    .dataframe tbody tr th:only-of-type {\n",
       "        vertical-align: middle;\n",
       "    }\n",
       "\n",
       "    .dataframe tbody tr th {\n",
       "        vertical-align: top;\n",
       "    }\n",
       "\n",
       "    .dataframe thead th {\n",
       "        text-align: right;\n",
       "    }\n",
       "</style>\n",
       "<table border=\"1\" class=\"dataframe\">\n",
       "  <thead>\n",
       "    <tr style=\"text-align: right;\">\n",
       "      <th></th>\n",
       "      <th>startYear</th>\n",
       "      <th>runtimeMinutes</th>\n",
       "      <th>averageRating</th>\n",
       "      <th>numVotes</th>\n",
       "    </tr>\n",
       "  </thead>\n",
       "  <tbody>\n",
       "    <tr>\n",
       "      <th>count</th>\n",
       "      <td>126061.00</td>\n",
       "      <td>126061.00</td>\n",
       "      <td>126061.00</td>\n",
       "      <td>126061.00</td>\n",
       "    </tr>\n",
       "    <tr>\n",
       "      <th>mean</th>\n",
       "      <td>2015.74</td>\n",
       "      <td>92.92</td>\n",
       "      <td>6.27</td>\n",
       "      <td>3794.75</td>\n",
       "    </tr>\n",
       "    <tr>\n",
       "      <th>std</th>\n",
       "      <td>3.87</td>\n",
       "      <td>197.85</td>\n",
       "      <td>1.46</td>\n",
       "      <td>34325.73</td>\n",
       "    </tr>\n",
       "    <tr>\n",
       "      <th>min</th>\n",
       "      <td>2009.00</td>\n",
       "      <td>1.00</td>\n",
       "      <td>1.00</td>\n",
       "      <td>5.00</td>\n",
       "    </tr>\n",
       "    <tr>\n",
       "      <th>25%</th>\n",
       "      <td>2013.00</td>\n",
       "      <td>80.00</td>\n",
       "      <td>5.40</td>\n",
       "      <td>20.00</td>\n",
       "    </tr>\n",
       "    <tr>\n",
       "      <th>50%</th>\n",
       "      <td>2016.00</td>\n",
       "      <td>90.00</td>\n",
       "      <td>6.40</td>\n",
       "      <td>75.00</td>\n",
       "    </tr>\n",
       "    <tr>\n",
       "      <th>75%</th>\n",
       "      <td>2019.00</td>\n",
       "      <td>103.00</td>\n",
       "      <td>7.30</td>\n",
       "      <td>406.00</td>\n",
       "    </tr>\n",
       "    <tr>\n",
       "      <th>max</th>\n",
       "      <td>2022.00</td>\n",
       "      <td>51420.00</td>\n",
       "      <td>10.00</td>\n",
       "      <td>2446691.00</td>\n",
       "    </tr>\n",
       "  </tbody>\n",
       "</table>\n",
       "</div>"
      ],
      "text/plain": [
       "       startYear runtimeMinutes averageRating    numVotes\n",
       "count  126061.00      126061.00     126061.00   126061.00\n",
       "mean     2015.74          92.92          6.27     3794.75\n",
       "std         3.87         197.85          1.46    34325.73\n",
       "min      2009.00           1.00          1.00        5.00\n",
       "25%      2013.00          80.00          5.40       20.00\n",
       "50%      2016.00          90.00          6.40       75.00\n",
       "75%      2019.00         103.00          7.30      406.00\n",
       "max      2022.00       51420.00         10.00  2446691.00"
      ]
     },
     "execution_count": 22,
     "metadata": {},
     "output_type": "execute_result"
    }
   ],
   "source": [
    "df_imdb_final.describe().apply(lambda x: x.apply('{0:.2f}'.format))"
   ]
  },
  {
   "cell_type": "code",
   "execution_count": 23,
   "id": "06b1ec68-8f69-4637-a446-57c5b212084c",
   "metadata": {},
   "outputs": [
    {
     "data": {
      "image/png": "[encoded data removed]",
      "text/plain": [
       "<Figure size 800x400 with 2 Axes>"
      ]
     },
     "metadata": {},
     "output_type": "display_data"
    }
   ],
   "source": [
    "fig, axes = plt.subplots(1,2,figsize=(8,4))\n",
    "axes[0].boxplot(df_imdb_final['runtimeMinutes'])\n",
    "axes[1].boxplot(df_imdb_final['runtimeMinutes'], showfliers=False);"
   ]
  },
  {
   "cell_type": "markdown",
   "id": "bbc5023f-4eb5-456e-8415-ecdcd2b2a604",
   "metadata": {},
   "source": [
    "We can see that there a few outliers skewing runtimeMinutes data. For the sake of regular distribution, we will be focusing on movies less than 300 minutes (5 hours)."
   ]
  },
  {
   "cell_type": "code",
   "execution_count": 24,
   "id": "f02b55ed-89f1-44bc-8656-7fe4811e6a6d",
   "metadata": {},
   "outputs": [],
   "source": [
    "df_imdb_final = df_imdb_final[df_imdb_final.runtimeMinutes < 300]"
   ]
  },
  {
   "cell_type": "code",
   "execution_count": 25,
   "id": "717f22a8-074a-4762-8065-9b1d2cabb481",
   "metadata": {},
   "outputs": [],
   "source": [
    "# let's bin the runtime_minutes data\n",
    "df_imdb_final['runtimeMinutes_binned'] = pd.cut(df_imdb_final['runtimeMinutes'], \\\n",
    "       bins = [0, 30, 60, 90, 120, 150, 180, 210, 240, 270, 300], \\\n",
    "       labels=['< 30', '30-60', '60-90', '90-120', '120-150', '150-180', '180-210', '210-240', '240-270', '270+'])"
   ]
  },
  {
   "cell_type": "code",
   "execution_count": 26,
   "id": "648de927-51b7-4d95-9d8d-728d00e921e8",
   "metadata": {},
   "outputs": [
    {
     "data": {
      "text/html": [
       "<div>\n",
       "<style scoped>\n",
       "    .dataframe tbody tr th:only-of-type {\n",
       "        vertical-align: middle;\n",
       "    }\n",
       "\n",
       "    .dataframe tbody tr th {\n",
       "        vertical-align: top;\n",
       "    }\n",
       "\n",
       "    .dataframe thead th {\n",
       "        text-align: right;\n",
       "    }\n",
       "</style>\n",
       "<table border=\"1\" class=\"dataframe\">\n",
       "  <thead>\n",
       "    <tr style=\"text-align: right;\">\n",
       "      <th></th>\n",
       "      <th>titleType</th>\n",
       "      <th>primaryTitle</th>\n",
       "      <th>startYear</th>\n",
       "      <th>runtimeMinutes</th>\n",
       "      <th>genres</th>\n",
       "      <th>averageRating</th>\n",
       "      <th>numVotes</th>\n",
       "      <th>runtimeMinutes_binned</th>\n",
       "    </tr>\n",
       "    <tr>\n",
       "      <th>tconst</th>\n",
       "      <th></th>\n",
       "      <th></th>\n",
       "      <th></th>\n",
       "      <th></th>\n",
       "      <th></th>\n",
       "      <th></th>\n",
       "      <th></th>\n",
       "      <th></th>\n",
       "    </tr>\n",
       "  </thead>\n",
       "  <tbody>\n",
       "    <tr>\n",
       "      <th>tt0013274</th>\n",
       "      <td>movie</td>\n",
       "      <td>Istoriya grazhdanskoy voyny</td>\n",
       "      <td>2021</td>\n",
       "      <td>94</td>\n",
       "      <td>Documentary</td>\n",
       "      <td>6.8</td>\n",
       "      <td>57</td>\n",
       "      <td>90-120</td>\n",
       "    </tr>\n",
       "    <tr>\n",
       "      <th>tt0062336</th>\n",
       "      <td>movie</td>\n",
       "      <td>The Tango of the Widower and Its Distorting Mi...</td>\n",
       "      <td>2020</td>\n",
       "      <td>70</td>\n",
       "      <td>Drama</td>\n",
       "      <td>6.4</td>\n",
       "      <td>176</td>\n",
       "      <td>60-90</td>\n",
       "    </tr>\n",
       "    <tr>\n",
       "      <th>tt0068865</th>\n",
       "      <td>movie</td>\n",
       "      <td>Lives of Performers</td>\n",
       "      <td>2016</td>\n",
       "      <td>90</td>\n",
       "      <td>Drama</td>\n",
       "      <td>5.4</td>\n",
       "      <td>75</td>\n",
       "      <td>60-90</td>\n",
       "    </tr>\n",
       "    <tr>\n",
       "      <th>tt0069049</th>\n",
       "      <td>movie</td>\n",
       "      <td>The Other Side of the Wind</td>\n",
       "      <td>2018</td>\n",
       "      <td>122</td>\n",
       "      <td>Drama</td>\n",
       "      <td>6.7</td>\n",
       "      <td>7777</td>\n",
       "      <td>120-150</td>\n",
       "    </tr>\n",
       "    <tr>\n",
       "      <th>tt0096235</th>\n",
       "      <td>movie</td>\n",
       "      <td>Taxi Killer</td>\n",
       "      <td>2022</td>\n",
       "      <td>106</td>\n",
       "      <td>Action,Crime,Drama</td>\n",
       "      <td>5.9</td>\n",
       "      <td>63</td>\n",
       "      <td>90-120</td>\n",
       "    </tr>\n",
       "  </tbody>\n",
       "</table>\n",
       "</div>"
      ],
      "text/plain": [
       "          titleType                                       primaryTitle  \\\n",
       "tconst                                                                   \n",
       "tt0013274     movie                        Istoriya grazhdanskoy voyny   \n",
       "tt0062336     movie  The Tango of the Widower and Its Distorting Mi...   \n",
       "tt0068865     movie                                Lives of Performers   \n",
       "tt0069049     movie                         The Other Side of the Wind   \n",
       "tt0096235     movie                                        Taxi Killer   \n",
       "\n",
       "           startYear  runtimeMinutes              genres  averageRating  \\\n",
       "tconst                                                                    \n",
       "tt0013274       2021              94         Documentary            6.8   \n",
       "tt0062336       2020              70               Drama            6.4   \n",
       "tt0068865       2016              90               Drama            5.4   \n",
       "tt0069049       2018             122               Drama            6.7   \n",
       "tt0096235       2022             106  Action,Crime,Drama            5.9   \n",
       "\n",
       "           numVotes runtimeMinutes_binned  \n",
       "tconst                                     \n",
       "tt0013274        57                90-120  \n",
       "tt0062336       176                 60-90  \n",
       "tt0068865        75                 60-90  \n",
       "tt0069049      7777               120-150  \n",
       "tt0096235        63                90-120  "
      ]
     },
     "execution_count": 26,
     "metadata": {},
     "output_type": "execute_result"
    }
   ],
   "source": [
    "df_imdb_final.head()"
   ]
  },
  {
   "cell_type": "markdown",
   "id": "0a4dd959-449c-41c9-9e19-8983a58f1687",
   "metadata": {},
   "source": [
    "### Data Analysis: The Numbers data"
   ]
  },
  {
   "cell_type": "code",
   "execution_count": 91,
   "id": "2869113a-4dbb-4e5d-8cf7-12a76b8ed3c3",
   "metadata": {},
   "outputs": [
    {
     "data": {
      "image/png": "[encoded data removed]",
      "text/plain": [
       "<Figure size 1200x700 with 1 Axes>"
      ]
     },
     "metadata": {},
     "output_type": "display_data"
    }
   ],
   "source": [
    "fig, ax = plt.subplots(figsize=(12,7))\n",
    "\n",
    "sns.regplot(x='production_budget_mil', y='global_profit_mil', data=df1)\n",
    "plt.axvline(0, color='black', linewidth=1, alpha=0.6)\n",
    "plt.axhline(0, color='black', linewidth=1, alpha=0.6);"
   ]
  },
  {
   "cell_type": "code",
   "execution_count": 92,
   "id": "2bd61055-f682-4e74-b520-03ad8355b0a2",
   "metadata": {},
   "outputs": [
    {
     "name": "stdout",
     "output_type": "stream",
     "text": [
      "Calculated Pearson Correlation (r) between production budget and global profit is: 0.68\n"
     ]
    }
   ],
   "source": [
    "corr_budget_profit = np.corrcoef(df1.production_budget_mil, df1.global_profit_mil)[0,1] \n",
    "print(f'Calculated Pearson Correlation (r) between production budget and global profit is: \\\n",
    "{\"{0:.2f}\".format(corr_budget_profit)}')"
   ]
  },
  {
   "cell_type": "markdown",
   "id": "d30ff213-5468-44e9-b604-708ce010c0a3",
   "metadata": {},
   "source": [
    "Now that we've established there is a moderate relationship between production budget and global profit, let's take a look at ROI to see whether a certain budget group correlates with a higher % of ROI?"
   ]
  },
  {
   "cell_type": "code",
   "execution_count": 140,
   "id": "72853c13-8790-4f0f-885b-8c3e7437dc13",
   "metadata": {},
   "outputs": [
    {
     "data": {
      "text/html": [
       "<div>\n",
       "<style scoped>\n",
       "    .dataframe tbody tr th:only-of-type {\n",
       "        vertical-align: middle;\n",
       "    }\n",
       "\n",
       "    .dataframe tbody tr th {\n",
       "        vertical-align: top;\n",
       "    }\n",
       "\n",
       "    .dataframe thead th {\n",
       "        text-align: right;\n",
       "    }\n",
       "</style>\n",
       "<table border=\"1\" class=\"dataframe\">\n",
       "  <thead>\n",
       "    <tr style=\"text-align: right;\">\n",
       "      <th></th>\n",
       "      <th>production_budget_tier</th>\n",
       "      <th>production_budget_mil_median</th>\n",
       "      <th>worldwide_gross_mil_median</th>\n",
       "      <th>global_profit_mil_median</th>\n",
       "      <th>roi_median</th>\n",
       "      <th>count_of_movies</th>\n",
       "    </tr>\n",
       "  </thead>\n",
       "  <tbody>\n",
       "    <tr>\n",
       "      <th>0</th>\n",
       "      <td>Low</td>\n",
       "      <td>2.0</td>\n",
       "      <td>1.577585</td>\n",
       "      <td>0.088390</td>\n",
       "      <td>7.009267</td>\n",
       "      <td>459</td>\n",
       "    </tr>\n",
       "    <tr>\n",
       "      <th>1</th>\n",
       "      <td>Medium</td>\n",
       "      <td>20.0</td>\n",
       "      <td>36.588512</td>\n",
       "      <td>14.551283</td>\n",
       "      <td>80.738155</td>\n",
       "      <td>1183</td>\n",
       "    </tr>\n",
       "    <tr>\n",
       "      <th>2</th>\n",
       "      <td>High</td>\n",
       "      <td>100.0</td>\n",
       "      <td>276.471539</td>\n",
       "      <td>160.845456</td>\n",
       "      <td>162.844521</td>\n",
       "      <td>498</td>\n",
       "    </tr>\n",
       "  </tbody>\n",
       "</table>\n",
       "</div>"
      ],
      "text/plain": [
       "  production_budget_tier  production_budget_mil_median  \\\n",
       "0                    Low                           2.0   \n",
       "1                 Medium                          20.0   \n",
       "2                   High                         100.0   \n",
       "\n",
       "   worldwide_gross_mil_median  global_profit_mil_median  roi_median  \\\n",
       "0                    1.577585                  0.088390    7.009267   \n",
       "1                   36.588512                 14.551283   80.738155   \n",
       "2                  276.471539                160.845456  162.844521   \n",
       "\n",
       "   count_of_movies  \n",
       "0              459  \n",
       "1             1183  \n",
       "2              498  "
      ]
     },
     "execution_count": 140,
     "metadata": {},
     "output_type": "execute_result"
    }
   ],
   "source": [
    "groupedby_budget = df1.groupby(df1.production_budget_tier).median(numeric_only=True)\n",
    "groupedby_budget.columns = [col + '_median' for col in groupedby_budget.columns]\n",
    "groupedby_budget['count_of_movies'] = df1.groupby(df1.production_budget_tier)['movie_title'].count()\n",
    "groupedby_budget.reset_index(inplace=True)\n",
    "groupedby_budget"
   ]
  },
  {
   "cell_type": "code",
   "execution_count": 163,
   "id": "ccfc8511-999e-4abb-9d10-a9011485f26b",
   "metadata": {},
   "outputs": [
    {
     "data": {
      "image/png": "[encoded data removed]",
      "text/plain": [
       "<Figure size 640x480 with 1 Axes>"
      ]
     },
     "metadata": {},
     "output_type": "display_data"
    }
   ],
   "source": [
    "fig, axes = plt.subplots()\n",
    "sns.boxplot(x=df1.roi, y=df1.production_budget_tier, showfliers=False, palette='vlag');"
   ]
  },
  {
   "cell_type": "markdown",
   "id": "a3095f68-944c-4bb8-9b99-4429eafb0def",
   "metadata": {},
   "source": [
    "We can see that a high production budget sees the highest median ROI, with the median ROI of a high budget film more than double that of a medium budget film. High production budget = higher ROI.\n",
    "\n",
    "However, low budget films see the greatest IQR and variability of distribution. Grounds for further investigation."
   ]
  },
  {
   "cell_type": "markdown",
   "id": "ffac94a8-4cb0-40eb-9071-6ed68e4781db",
   "metadata": {},
   "source": [
    "Some food for thought, does the release month have a relationship on ROI? Are there certain seasons where people are watching more movies?"
   ]
  },
  {
   "cell_type": "code",
   "execution_count": 94,
   "id": "c63218c1-34c9-499c-a7a8-097781dd61cb",
   "metadata": {},
   "outputs": [
    {
     "data": {
      "text/html": [
       "<div>\n",
       "<style scoped>\n",
       "    .dataframe tbody tr th:only-of-type {\n",
       "        vertical-align: middle;\n",
       "    }\n",
       "\n",
       "    .dataframe tbody tr th {\n",
       "        vertical-align: top;\n",
       "    }\n",
       "\n",
       "    .dataframe thead th {\n",
       "        text-align: right;\n",
       "    }\n",
       "</style>\n",
       "<table border=\"1\" class=\"dataframe\">\n",
       "  <thead>\n",
       "    <tr style=\"text-align: right;\">\n",
       "      <th></th>\n",
       "      <th>release_date</th>\n",
       "      <th>production_budget_mil_median</th>\n",
       "      <th>worldwide_gross_mil_median</th>\n",
       "      <th>global_profit_mil_median</th>\n",
       "      <th>roi_median</th>\n",
       "      <th>count_of_movies</th>\n",
       "    </tr>\n",
       "  </thead>\n",
       "  <tbody>\n",
       "    <tr>\n",
       "      <th>0</th>\n",
       "      <td>1</td>\n",
       "      <td>23.0</td>\n",
       "      <td>48.437072</td>\n",
       "      <td>19.780530</td>\n",
       "      <td>112.033036</td>\n",
       "      <td>142</td>\n",
       "    </tr>\n",
       "    <tr>\n",
       "      <th>1</th>\n",
       "      <td>2</td>\n",
       "      <td>26.5</td>\n",
       "      <td>51.392713</td>\n",
       "      <td>22.200023</td>\n",
       "      <td>116.267777</td>\n",
       "      <td>156</td>\n",
       "    </tr>\n",
       "    <tr>\n",
       "      <th>2</th>\n",
       "      <td>3</td>\n",
       "      <td>20.0</td>\n",
       "      <td>36.715516</td>\n",
       "      <td>14.953905</td>\n",
       "      <td>89.926215</td>\n",
       "      <td>182</td>\n",
       "    </tr>\n",
       "    <tr>\n",
       "      <th>3</th>\n",
       "      <td>4</td>\n",
       "      <td>17.0</td>\n",
       "      <td>23.910210</td>\n",
       "      <td>6.594052</td>\n",
       "      <td>52.339267</td>\n",
       "      <td>189</td>\n",
       "    </tr>\n",
       "    <tr>\n",
       "      <th>4</th>\n",
       "      <td>5</td>\n",
       "      <td>25.0</td>\n",
       "      <td>58.329674</td>\n",
       "      <td>30.621358</td>\n",
       "      <td>118.073048</td>\n",
       "      <td>158</td>\n",
       "    </tr>\n",
       "    <tr>\n",
       "      <th>5</th>\n",
       "      <td>6</td>\n",
       "      <td>23.0</td>\n",
       "      <td>46.844357</td>\n",
       "      <td>16.438538</td>\n",
       "      <td>113.521460</td>\n",
       "      <td>169</td>\n",
       "    </tr>\n",
       "    <tr>\n",
       "      <th>6</th>\n",
       "      <td>7</td>\n",
       "      <td>20.0</td>\n",
       "      <td>75.898100</td>\n",
       "      <td>35.098356</td>\n",
       "      <td>171.157560</td>\n",
       "      <td>163</td>\n",
       "    </tr>\n",
       "    <tr>\n",
       "      <th>7</th>\n",
       "      <td>8</td>\n",
       "      <td>20.0</td>\n",
       "      <td>43.833393</td>\n",
       "      <td>19.603817</td>\n",
       "      <td>90.882113</td>\n",
       "      <td>178</td>\n",
       "    </tr>\n",
       "    <tr>\n",
       "      <th>8</th>\n",
       "      <td>9</td>\n",
       "      <td>16.0</td>\n",
       "      <td>31.943401</td>\n",
       "      <td>12.141617</td>\n",
       "      <td>80.583507</td>\n",
       "      <td>193</td>\n",
       "    </tr>\n",
       "    <tr>\n",
       "      <th>9</th>\n",
       "      <td>10</td>\n",
       "      <td>14.0</td>\n",
       "      <td>18.889972</td>\n",
       "      <td>4.109597</td>\n",
       "      <td>48.194236</td>\n",
       "      <td>211</td>\n",
       "    </tr>\n",
       "    <tr>\n",
       "      <th>10</th>\n",
       "      <td>11</td>\n",
       "      <td>25.0</td>\n",
       "      <td>68.493910</td>\n",
       "      <td>37.020651</td>\n",
       "      <td>131.083117</td>\n",
       "      <td>182</td>\n",
       "    </tr>\n",
       "    <tr>\n",
       "      <th>11</th>\n",
       "      <td>12</td>\n",
       "      <td>25.0</td>\n",
       "      <td>41.294674</td>\n",
       "      <td>14.454336</td>\n",
       "      <td>92.607746</td>\n",
       "      <td>217</td>\n",
       "    </tr>\n",
       "  </tbody>\n",
       "</table>\n",
       "</div>"
      ],
      "text/plain": [
       "    release_date  production_budget_mil_median  worldwide_gross_mil_median  \\\n",
       "0              1                          23.0                   48.437072   \n",
       "1              2                          26.5                   51.392713   \n",
       "2              3                          20.0                   36.715516   \n",
       "3              4                          17.0                   23.910210   \n",
       "4              5                          25.0                   58.329674   \n",
       "5              6                          23.0                   46.844357   \n",
       "6              7                          20.0                   75.898100   \n",
       "7              8                          20.0                   43.833393   \n",
       "8              9                          16.0                   31.943401   \n",
       "9             10                          14.0                   18.889972   \n",
       "10            11                          25.0                   68.493910   \n",
       "11            12                          25.0                   41.294674   \n",
       "\n",
       "    global_profit_mil_median  roi_median  count_of_movies  \n",
       "0                  19.780530  112.033036              142  \n",
       "1                  22.200023  116.267777              156  \n",
       "2                  14.953905   89.926215              182  \n",
       "3                   6.594052   52.339267              189  \n",
       "4                  30.621358  118.073048              158  \n",
       "5                  16.438538  113.521460              169  \n",
       "6                  35.098356  171.157560              163  \n",
       "7                  19.603817   90.882113              178  \n",
       "8                  12.141617   80.583507              193  \n",
       "9                   4.109597   48.194236              211  \n",
       "10                 37.020651  131.083117              182  \n",
       "11                 14.454336   92.607746              217  "
      ]
     },
     "execution_count": 94,
     "metadata": {},
     "output_type": "execute_result"
    }
   ],
   "source": [
    "groupedby_month = df1.groupby(df1.release_date.dt.month).median(numeric_only=True)\n",
    "groupedby_month.columns = [col + '_median' for col in groupedby_month.columns]\n",
    "groupedby_month['count_of_movies'] = df1.groupby(df1.release_date.dt.month)['movie_title'].count()\n",
    "groupedby_month.reset_index(inplace=True)\n",
    "groupedby_month"
   ]
  },
  {
   "cell_type": "code",
   "execution_count": 95,
   "id": "ce20d5b9-6938-4993-8502-febbd659f174",
   "metadata": {},
   "outputs": [
    {
     "data": {
      "image/png": "[encoded data removed]",
      "text/plain": [
       "<Figure size 1300x500 with 2 Axes>"
      ]
     },
     "metadata": {},
     "output_type": "display_data"
    }
   ],
   "source": [
    "# using median as it is more robust given the outliers, we can see that ROI tends to be highest during the summer months of the northern\n",
    "# hemisphere, as well as the holiday season and Valentine's Day. Let's see the impact of genre.\n",
    "\n",
    "fig, axes = plt.subplots(1,2,figsize=(13,5))\n",
    "sns.lineplot(x=groupedby_month.release_date, y=groupedby_month.roi_median, ax=axes[0])\n",
    "sns.boxplot(x=df1.release_date.dt.month, y=df1.roi, showfliers=False, ax=axes[1]);"
   ]
  },
  {
   "cell_type": "markdown",
   "id": "78cec123-8996-4cdb-9cf1-ddc4550d1c63",
   "metadata": {},
   "source": [
    "From the above we can see that there is a moderately positive correlation between budget and worldwide profit. However, there is quite a bit of variety so we will examine whether genre impacts profitability. \n",
    "\n",
    "Furthermore we can see that ROI tends to be higher during summer months (northern hemisphere) and towards the holiday season. We see an increase in February, potentially due to Valentine's Day. We will investigate whether genre also has an impact."
   ]
  },
  {
   "cell_type": "markdown",
   "id": "41c70a0e-c4fa-46e8-9059-1d1075ae46f4",
   "metadata": {},
   "source": [
    "### Which genres are more profitable? Looking at The Numbers combined with TMDB data"
   ]
  },
  {
   "cell_type": "code",
   "execution_count": null,
   "id": "c33af2ea-8ea2-49b3-9433-72cc112e9fd8",
   "metadata": {},
   "outputs": [],
   "source": []
  },
  {
   "cell_type": "markdown",
   "id": "a473176f-b8e9-435c-bc53-80c54b5ce27c",
   "metadata": {},
   "source": [
    "### Looking at the relationship between runtime and average rating"
   ]
  },
  {
   "cell_type": "code",
   "execution_count": 27,
   "id": "af32048c-759c-47a5-806c-43abd4b1d3c8",
   "metadata": {},
   "outputs": [
    {
     "data": {
      "image/png": "[encoded data removed]",
      "text/plain": [
       "<Figure size 900x800 with 1 Axes>"
      ]
     },
     "metadata": {},
     "output_type": "display_data"
    }
   ],
   "source": [
    "fig, ax = plt.subplots(figsize=(9,8))\n",
    "sns.boxplot(x='averageRating', y='runtimeMinutes_binned', data=df_imdb_final, showfliers=False, palette=\"vlag\");"
   ]
  },
  {
   "cell_type": "markdown",
   "id": "be242f06-c000-4d36-abab-5015eed43908",
   "metadata": {},
   "source": [
    "We can see that as the runtime increases, so does the median averageRating, suggesting that the longer a movie is, the more highly rated it is. However it is consider the number of votes per movie."
   ]
  },
  {
   "cell_type": "code",
   "execution_count": 28,
   "id": "62146efb-e9f0-47d6-ab8e-56a62eb94723",
   "metadata": {},
   "outputs": [
    {
     "data": {
      "image/png": "[encoded data removed]",
      "text/plain": [
       "<Figure size 900x600 with 1 Axes>"
      ]
     },
     "metadata": {},
     "output_type": "display_data"
    }
   ],
   "source": [
    "fig, ax = plt.subplots(figsize=(9,6))\n",
    "sns.barplot(data=df_imdb_final, x='runtimeMinutes_binned', y='numVotes', palette=\"vlag\", errorbar=None);"
   ]
  },
  {
   "cell_type": "markdown",
   "id": "ef8c915b-0ede-4af0-945a-dddc66d9029f",
   "metadata": {},
   "source": [
    "We can see that while <30 and 30-60 scored highly on average, the average number of votes for these movies is significantly lower than that of 120-150, 150-180, and 180-210. This suggests that these movies appeal to less audiences and may not be suitable for global commerical success."
   ]
  },
  {
   "cell_type": "markdown",
   "id": "2acde091-565e-4dd6-bd99-998554903580",
   "metadata": {},
   "source": [
    "### Limitations"
   ]
  },
  {
   "cell_type": "code",
   "execution_count": 29,
   "id": "f49aef17-0b95-40c0-b462-64c10c6a4bb6",
   "metadata": {},
   "outputs": [
    {
     "data": {
      "text/html": [
       "<div>\n",
       "<style scoped>\n",
       "    .dataframe tbody tr th:only-of-type {\n",
       "        vertical-align: middle;\n",
       "    }\n",
       "\n",
       "    .dataframe tbody tr th {\n",
       "        vertical-align: top;\n",
       "    }\n",
       "\n",
       "    .dataframe thead th {\n",
       "        text-align: right;\n",
       "    }\n",
       "</style>\n",
       "<table border=\"1\" class=\"dataframe\">\n",
       "  <thead>\n",
       "    <tr style=\"text-align: right;\">\n",
       "      <th></th>\n",
       "      <th>startYear</th>\n",
       "      <th>titleType</th>\n",
       "      <th>primaryTitle</th>\n",
       "      <th>runtimeMinutes</th>\n",
       "      <th>genres</th>\n",
       "      <th>averageRating</th>\n",
       "      <th>numVotes</th>\n",
       "      <th>runtimeMinutes_binned</th>\n",
       "    </tr>\n",
       "  </thead>\n",
       "  <tbody>\n",
       "    <tr>\n",
       "      <th>0</th>\n",
       "      <td>2009</td>\n",
       "      <td>7178</td>\n",
       "      <td>7178</td>\n",
       "      <td>7178</td>\n",
       "      <td>7178</td>\n",
       "      <td>7178</td>\n",
       "      <td>7178</td>\n",
       "      <td>7178</td>\n",
       "    </tr>\n",
       "    <tr>\n",
       "      <th>1</th>\n",
       "      <td>2010</td>\n",
       "      <td>7486</td>\n",
       "      <td>7486</td>\n",
       "      <td>7486</td>\n",
       "      <td>7486</td>\n",
       "      <td>7486</td>\n",
       "      <td>7486</td>\n",
       "      <td>7486</td>\n",
       "    </tr>\n",
       "    <tr>\n",
       "      <th>2</th>\n",
       "      <td>2011</td>\n",
       "      <td>8091</td>\n",
       "      <td>8091</td>\n",
       "      <td>8091</td>\n",
       "      <td>8091</td>\n",
       "      <td>8091</td>\n",
       "      <td>8091</td>\n",
       "      <td>8091</td>\n",
       "    </tr>\n",
       "    <tr>\n",
       "      <th>3</th>\n",
       "      <td>2012</td>\n",
       "      <td>8424</td>\n",
       "      <td>8424</td>\n",
       "      <td>8424</td>\n",
       "      <td>8424</td>\n",
       "      <td>8424</td>\n",
       "      <td>8424</td>\n",
       "      <td>8424</td>\n",
       "    </tr>\n",
       "    <tr>\n",
       "      <th>4</th>\n",
       "      <td>2013</td>\n",
       "      <td>8839</td>\n",
       "      <td>8839</td>\n",
       "      <td>8839</td>\n",
       "      <td>8839</td>\n",
       "      <td>8839</td>\n",
       "      <td>8839</td>\n",
       "      <td>8839</td>\n",
       "    </tr>\n",
       "  </tbody>\n",
       "</table>\n",
       "</div>"
      ],
      "text/plain": [
       "   startYear  titleType  primaryTitle  runtimeMinutes  genres  averageRating  \\\n",
       "0       2009       7178          7178            7178    7178           7178   \n",
       "1       2010       7486          7486            7486    7486           7486   \n",
       "2       2011       8091          8091            8091    8091           8091   \n",
       "3       2012       8424          8424            8424    8424           8424   \n",
       "4       2013       8839          8839            8839    8839           8839   \n",
       "\n",
       "   numVotes  runtimeMinutes_binned  \n",
       "0      7178                   7178  \n",
       "1      7486                   7486  \n",
       "2      8091                   8091  \n",
       "3      8424                   8424  \n",
       "4      8839                   8839  "
      ]
     },
     "execution_count": 29,
     "metadata": {},
     "output_type": "execute_result"
    }
   ],
   "source": [
    "grouped = df_imdb_final.groupby(['startYear']).count().reset_index()\n",
    "grouped.head()"
   ]
  },
  {
   "cell_type": "code",
   "execution_count": 30,
   "id": "f109490f-8c29-445f-85b1-274b40a85e85",
   "metadata": {},
   "outputs": [
    {
     "data": {
      "image/png": "[encoded data removed]",
      "text/plain": [
       "<Figure size 640x480 with 1 Axes>"
      ]
     },
     "metadata": {},
     "output_type": "display_data"
    }
   ],
   "source": [
    "fig, ax = plt.subplots()\n",
    "ax.plot(grouped['startYear'], grouped['primaryTitle'])\n",
    "ax.set_title('Number of films released between 2009 and 2022');\n",
    "\n",
    "# add labels for when Netflix was introduced, other streaming sites came into the scene and COVID"
   ]
  },
  {
   "cell_type": "code",
   "execution_count": null,
   "id": "ba2d9c4f-e812-4821-8adf-ac6d8604f4bf",
   "metadata": {},
   "outputs": [],
   "source": []
  }
 ],
 "metadata": {
  "kernelspec": {
   "display_name": "Python 3 (ipykernel)",
   "language": "python",
   "name": "python3"
  },
  "language_info": {
   "codemirror_mode": {
    "name": "ipython",
    "version": 3
   },
   "file_extension": ".py",
   "mimetype": "text/x-python",
   "name": "python",
   "nbconvert_exporter": "python",
   "pygments_lexer": "ipython3",
   "version": "3.9.16"
  }
 },
 "nbformat": 4,
 "nbformat_minor": 5
}
